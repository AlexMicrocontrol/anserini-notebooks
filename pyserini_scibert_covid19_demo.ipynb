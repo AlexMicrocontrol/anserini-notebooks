{
 "cells": [
  {
   "cell_type": "markdown",
   "metadata": {
    "colab_type": "text",
    "id": "view-in-github"
   },
   "source": [
    "<a href=\"https://colab.research.google.com/github/kyunghyuncho/bio-ret-viz/blob/master/pyserini_scibert_covid19_demo.ipynb\" target=\"_parent\"><img src=\"https://colab.research.google.com/assets/colab-badge.svg\" alt=\"Open In Colab\"/></a>"
   ]
  },
  {
   "cell_type": "markdown",
   "metadata": {
    "colab_type": "text",
    "id": "vUpmSFflwzR1"
   },
   "source": [
    "# Pyserini Demo on COVID-19 Dataset (Title + Abstract Index) \n",
    "# with HuggingFace Transformers based visualization\n"
   ]
  },
  {
   "cell_type": "markdown",
   "metadata": {
    "colab_type": "text",
    "id": "0RtnmBN6A-Oq"
   },
   "source": [
    "This notebook provides a demo on how to get started in searching the [COVID-19 Open Research Dataset](https://pages.semanticscholar.org/coronavirus-research) (release of 2020/03/20) from AI2.\n",
    "In this notebook, we'll be working with the title + abstract index. \n",
    "Specifically, we're not indexing the full text (that'll come later, soon!).\n"
   ]
  },
  {
   "cell_type": "code",
   "execution_count": null,
   "metadata": {
    "colab": {},
    "colab_type": "code",
    "id": "q93fI77dY9HU"
   },
   "outputs": [],
   "source": [
    "from IPython.core.display import display, HTML"
   ]
  },
  {
   "cell_type": "markdown",
   "metadata": {
    "colab_type": "text",
    "id": "f2vNd7bpJlDZ"
   },
   "source": [
    "First, install Python dependencies"
   ]
  },
  {
   "cell_type": "code",
   "execution_count": 2,
   "metadata": {
    "colab": {},
    "colab_type": "code",
    "id": "E_lt0-pXJia0"
   },
   "outputs": [],
   "source": [
    "%%capture\n",
    "!pip install pyserini==0.8.1.0\n",
    "!pip install transformers\n",
    "\n",
    "import json\n",
    "import os\n",
    "os.environ[\"JAVA_HOME\"] = \"/Library/Java/JavaVirtualMachines/jdk-13.0.2.jdk/Contents/Home\""
   ]
  },
  {
   "cell_type": "markdown",
   "metadata": {
    "colab_type": "text",
    "id": "xbXmstbGypef"
   },
   "source": [
    "Let's grab the pre-built index:"
   ]
  },
  {
   "cell_type": "code",
   "execution_count": 3,
   "metadata": {
    "colab": {},
    "colab_type": "code",
    "id": "JT_OJKftdqGP"
   },
   "outputs": [],
   "source": [
    "%%capture\n",
    "!wget https://www.dropbox.com/s/uvjwgy4re2myq5s/lucene-index-covid-2020-03-20.tar.gz\n",
    "!tar xvfz lucene-index-covid-2020-03-20.tar.gz"
   ]
  },
  {
   "cell_type": "code",
   "execution_count": 4,
   "metadata": {
    "colab": {
     "base_uri": "https://localhost:8080/",
     "height": 34
    },
    "colab_type": "code",
    "id": "KVXWA6WS0aqJ",
    "outputId": "3f2cf09f-2891-4433-ec59-21acfba6b345"
   },
   "outputs": [
    {
     "name": "stdout",
     "output_type": "stream",
     "text": [
      "1.2G\tlucene-index-covid-2020-03-20\n"
     ]
    }
   ],
   "source": [
    "!du -h lucene-index-covid-2020-03-20"
   ]
  },
  {
   "cell_type": "markdown",
   "metadata": {
    "colab_type": "text",
    "id": "e98LWXwXSxG1"
   },
   "source": [
    "Let's load BioBERT (https://arxiv.org/abs/1901.08746) from HuggingFace Transformers"
   ]
  },
  {
   "cell_type": "code",
   "execution_count": 8,
   "metadata": {
    "colab": {},
    "colab_type": "code",
    "id": "UBlFYHejSr2H"
   },
   "outputs": [],
   "source": [
    "import torch\n",
    "import numpy"
   ]
  },
  {
   "cell_type": "code",
   "execution_count": 9,
   "metadata": {
    "colab": {},
    "colab_type": "code",
    "id": "JE5ESlIFVxTz"
   },
   "outputs": [],
   "source": [
    "from tqdm import tqdm"
   ]
  },
  {
   "cell_type": "code",
   "execution_count": 10,
   "metadata": {
    "colab": {
     "base_uri": "https://localhost:8080/",
     "height": 164,
     "referenced_widgets": [
      "69b31d9a127846ce9a085c1718361919",
      "ab609f410fa845ba86388ae0cdd8e308",
      "f672e067718a47e9bc1a741bbaa9dd36",
      "02c8c6601fd74532908897dd6ba00642",
      "3fc159bfdb1b46ea8b6d462f43c42980",
      "a92e5c7910914adaa58f8f051f71f11b",
      "d8178af03865496db91a56d5d3a0cc57",
      "1ef1ac1d6c1e456caa6992593d367352",
      "9e04d92a35cd4230a1f68332eeb3989c",
      "5c40586819754261a141a6b88396e38b",
      "0ef3894860ad41328dd9540076c684bf",
      "b3ea4f0305fe4066a2be697fdc3188d2",
      "31117b7d0d624f50acc63317961c1633",
      "da75ddbf1b5f40b29c5b3b09a9c3d843",
      "e990c10c236f4b948ddf1ed248280bfe",
      "5afdbf46d5c246e98d0fa4fd7a0bd52b",
      "f22cde11a4d14e02b43c24316881dcae",
      "8655da061ea34a16800b111d6e20c69a",
      "82b06cc5c5684ef5b6502eb99a6d32ec",
      "93d84aebb3c547a9b1398b975e08c60e",
      "55f0585b2b9c4872b76215540fe2d010",
      "890c6e99f177467481405dfe2a3fc339",
      "94d6f73960f54bfba3897bdb3ff40b49",
      "4e91ba3985ab4306bf68027b01de8e49"
     ]
    },
    "colab_type": "code",
    "id": "E4DXP0LESvhi",
    "outputId": "8fce4f08-a151-4835-8bc7-34ca26d6aebe"
   },
   "outputs": [],
   "source": [
    "from transformers import *\n",
    "\n",
    "tokenizer = AutoTokenizer.from_pretrained('monologg/biobert_v1.0_pubmed_pmc', do_lower_case=False)\n",
    "model = AutoModel.from_pretrained('monologg/biobert_v1.0_pubmed_pmc')"
   ]
  },
  {
   "cell_type": "markdown",
   "metadata": {
    "colab_type": "text",
    "id": "EwVSvHBz9RMM"
   },
   "source": [
    "Sanity check of index size (should be 1.3G):"
   ]
  },
  {
   "cell_type": "markdown",
   "metadata": {
    "colab_type": "text",
    "id": "NkD0kKxW9mHP"
   },
   "source": [
    "You can use `pysearch` to search over an index. Here's the basic usage:"
   ]
  },
  {
   "cell_type": "code",
   "execution_count": 11,
   "metadata": {
    "colab": {},
    "colab_type": "code",
    "id": "fI2HRj48TTr3"
   },
   "outputs": [],
   "source": [
    "query = 'these differences reside in the molecular structure of spike proteins and some other factors.  Which receptor combination(s) will cause maximum harm'"
   ]
  },
  {
   "cell_type": "code",
   "execution_count": 12,
   "metadata": {
    "colab": {
     "base_uri": "https://localhost:8080/",
     "height": 439
    },
    "colab_type": "code",
    "id": "yFZlcqEX0t1f",
    "outputId": "2dfd5af9-00fe-4a6c-95f2-d093c9dabea7"
   },
   "outputs": [
    {
     "data": {
      "text/html": [
       "<div style=\"font-family: Times New Roman; font-size: 20px; padding-bottom:12px\"><b>Query</b>: these differences reside in the molecular structure of spike proteins and some other factors.  Which receptor combination(s) will cause maximum harm</div>"
      ],
      "text/plain": [
       "<IPython.core.display.HTML object>"
      ]
     },
     "metadata": {},
     "output_type": "display_data"
    },
    {
     "data": {
      "text/html": [
       "<div style=\"font-family: Times New Roman; font-size: 18px; padding-bottom:10px\">1 42809 (13.56) -- Daniel Wrapp et al. The 3.1-Angstrom Cryo-electron Microscopy Structure of the Porcine Epidemic Diarrhea Virus Spike Protein in the Prefusion Conformation. <a href=\"https://doi.org/10.1128/JVI.00923-19\">10.1128/JVI.00923-19</a>.</div>"
      ],
      "text/plain": [
       "<IPython.core.display.HTML object>"
      ]
     },
     "metadata": {},
     "output_type": "display_data"
    },
    {
     "data": {
      "text/html": [
       "<div style=\"font-family: Times New Roman; font-size: 18px; padding-bottom:10px\">2 38331 (13.41) -- M Godet et al. Major receptor-binding and neutralization determinants are located within the same domain of the transmissible gastroenteritis virus (coronavirus) spike protein.. <a href=\"https://doi.org/\"></a>.</div>"
      ],
      "text/plain": [
       "<IPython.core.display.HTML object>"
      ]
     },
     "metadata": {},
     "output_type": "display_data"
    },
    {
     "data": {
      "text/html": [
       "<div style=\"font-family: Times New Roman; font-size: 18px; padding-bottom:10px\">3 30915 (13.34) -- Robert N. Kirchdoerfer et al. Prefusion structure of a human coronavirus spike protein. <a href=\"https://doi.org/10.1038/nature17200\">10.1038/nature17200</a>.</div>"
      ],
      "text/plain": [
       "<IPython.core.display.HTML object>"
      ]
     },
     "metadata": {},
     "output_type": "display_data"
    },
    {
     "data": {
      "text/html": [
       "<div style=\"font-family: Times New Roman; font-size: 18px; padding-bottom:10px\">4 35559 (12.60) -- Wuze Ren et al. Difference in Receptor Usage between Severe Acute Respiratory Syndrome (SARS) Coronavirus and SARS-Like Coronavirus of Bat Origin. <a href=\"https://doi.org/10.1128/JVI.01085-07\">10.1128/JVI.01085-07</a>.</div>"
      ],
      "text/plain": [
       "<IPython.core.display.HTML object>"
      ]
     },
     "metadata": {},
     "output_type": "display_data"
    },
    {
     "data": {
      "text/html": [
       "<div style=\"font-family: Times New Roman; font-size: 18px; padding-bottom:10px\">5 31679 (12.54) -- Jianhua Sui et al. Effects of Human Anti-Spike Protein Receptor Binding Domain Antibodies on Severe Acute Respiratory Syndrome Coronavirus Neutralization Escape and Fitness. <a href=\"https://doi.org/10.1128/JVI.02232-14\">10.1128/JVI.02232-14</a>.</div>"
      ],
      "text/plain": [
       "<IPython.core.display.HTML object>"
      ]
     },
     "metadata": {},
     "output_type": "display_data"
    },
    {
     "data": {
      "text/html": [
       "<div style=\"font-family: Times New Roman; font-size: 18px; padding-bottom:10px\">6 24203 (12.53) -- Ravindra Kumar et al. Prediction of endoplasmic reticulum resident proteins using fragmented amino acid composition and support vector machine. <a href=\"https://doi.org/10.7717/peerj.3561\">10.7717/peerj.3561</a>.</div>"
      ],
      "text/plain": [
       "<IPython.core.display.HTML object>"
      ]
     },
     "metadata": {},
     "output_type": "display_data"
    },
    {
     "data": {
      "text/html": [
       "<div style=\"font-family: Times New Roman; font-size: 18px; padding-bottom:10px\">7 25020 (12.52) -- Wenfei Song et al. Cryo-EM structure of the SARS coronavirus spike glycoprotein in complex with its host cell receptor ACE2. <a href=\"https://doi.org/10.1371/journal.ppat.1007236\">10.1371/journal.ppat.1007236</a>.</div>"
      ],
      "text/plain": [
       "<IPython.core.display.HTML object>"
      ]
     },
     "metadata": {},
     "output_type": "display_data"
    },
    {
     "data": {
      "text/html": [
       "<div style=\"font-family: Times New Roman; font-size: 18px; padding-bottom:10px\">8 36377 (12.49) -- Lubna Kazi et al. Expression of Hemagglutinin Esterase Protein from Recombinant Mouse Hepatitis Virus Enhances Neurovirulence. <a href=\"https://doi.org/10.1128/JVI.79.24.15064-15073.2005\">10.1128/JVI.79.24.15064-15073.2005</a>.</div>"
      ],
      "text/plain": [
       "<IPython.core.display.HTML object>"
      ]
     },
     "metadata": {},
     "output_type": "display_data"
    },
    {
     "data": {
      "text/html": [
       "<div style=\"font-family: Times New Roman; font-size: 18px; padding-bottom:10px\">9 18455 (12.47) -- Swatantra Kumar et al. Structural, glycosylation and antigenic variation between 2019 novel coronavirus (2019-nCoV) and SARS coronavirus (SARS-CoV). <a href=\"https://doi.org/10.1007/s13337-020-00571-5\">10.1007/s13337-020-00571-5</a>.</div>"
      ],
      "text/plain": [
       "<IPython.core.display.HTML object>"
      ]
     },
     "metadata": {},
     "output_type": "display_data"
    },
    {
     "data": {
      "text/html": [
       "<div style=\"font-family: Times New Roman; font-size: 18px; padding-bottom:10px\">10 29940 (12.45) -- Jian Shang et al. Cryo-Electron Microscopy Structure of Porcine Deltacoronavirus Spike Protein in the Prefusion State. <a href=\"https://doi.org/10.1128/JVI.01556-17\">10.1128/JVI.01556-17</a>.</div>"
      ],
      "text/plain": [
       "<IPython.core.display.HTML object>"
      ]
     },
     "metadata": {},
     "output_type": "display_data"
    }
   ],
   "source": [
    "from pyserini.search import pysearch\n",
    "\n",
    "searcher = pysearch.SimpleSearcher('lucene-index-covid-2020-03-20/')\n",
    "hits = searcher.search(query)\n",
    "\n",
    "display(HTML('<div style=\"font-family: Times New Roman; font-size: 20px; padding-bottom:12px\"><b>Query</b>: '+query+'</div>'))\n",
    "\n",
    "# Prints the first 10 hits\n",
    "for i in range(0, 10):\n",
    "  display(HTML('<div style=\"font-family: Times New Roman; font-size: 18px; padding-bottom:10px\">' + \n",
    "               F'{i+1} {hits[i].docid} ({hits[i].score:1.2f}) -- ' +\n",
    "               F'{hits[i].lucene_document.get(\"authors\")} et al. ' +\n",
    "              #  F'{hits[i].lucene_document.get(\"journal\")}. ' +\n",
    "              #  F'{hits[i].lucene_document.get(\"publish_time\")}. ' +\n",
    "               F'{hits[i].lucene_document.get(\"title\")}. ' +\n",
    "               F'<a href=\"https://doi.org/{hits[i].lucene_document.get(\"doi\")}\">{hits[i].lucene_document.get(\"doi\")}</a>.'\n",
    "               + '</div>'))"
   ]
  },
  {
   "cell_type": "markdown",
   "metadata": {
    "colab_type": "text",
    "id": "iiXaE-TDH7uc"
   },
   "source": [
    "From the hits array, use `.lucene_document` to access the underlying indexed Lucene `Document`, and from there, call `.get(field)` to fetch specific fields, like \"title\", \"doc\", etc.\n",
    "The complete list of available fields is [here](https://github.com/castorini/anserini/blob/master/src/main/java/io/anserini/index/generator/CovidGenerator.java#L46)."
   ]
  },
  {
   "cell_type": "markdown",
   "metadata": {
    "colab_type": "text",
    "id": "EBct_zb8Lyvp"
   },
   "source": [
    "For hit #1, we don't have the full text, but we can access available information via `.raw`."
   ]
  },
  {
   "cell_type": "code",
   "execution_count": 13,
   "metadata": {
    "colab": {
     "base_uri": "https://localhost:8080/",
     "height": 326
    },
    "colab_type": "code",
    "id": "WAYzpshzL7St",
    "outputId": "02af2348-4b71-4bed-d2bc-47d30640f5b1"
   },
   "outputs": [],
   "source": [
    "hit1_json = json.loads(hits[0].raw)\n",
    "# print(json.dumps(hit1_json, indent=4))"
   ]
  },
  {
   "cell_type": "markdown",
   "metadata": {
    "colab_type": "text",
    "id": "xw6EjwPgPB_b"
   },
   "source": [
    "For hit #8, we have the full text, which we can also fetch via `.raw`: As an example, let's look at to which section the second paragraph belongs."
   ]
  },
  {
   "cell_type": "code",
   "execution_count": 14,
   "metadata": {
    "colab": {
     "base_uri": "https://localhost:8080/",
     "height": 34
    },
    "colab_type": "code",
    "id": "lGLZhQgANy3I",
    "outputId": "dd1ec265-eda6-41b1-905f-2cabc96cfa95"
   },
   "outputs": [
    {
     "ename": "KeyError",
     "evalue": "'body_text'",
     "output_type": "error",
     "traceback": [
      "\u001b[0;31m---------------------------------------------------------------------------\u001b[0m",
      "\u001b[0;31mKeyError\u001b[0m                                  Traceback (most recent call last)",
      "\u001b[0;32m<ipython-input-14-8d6952149250>\u001b[0m in \u001b[0;36m<module>\u001b[0;34m\u001b[0m\n\u001b[1;32m      1\u001b[0m \u001b[0mhit8_json\u001b[0m \u001b[0;34m=\u001b[0m \u001b[0mjson\u001b[0m\u001b[0;34m.\u001b[0m\u001b[0mloads\u001b[0m\u001b[0;34m(\u001b[0m\u001b[0mhits\u001b[0m\u001b[0;34m[\u001b[0m\u001b[0;36m7\u001b[0m\u001b[0;34m]\u001b[0m\u001b[0;34m.\u001b[0m\u001b[0mraw\u001b[0m\u001b[0;34m)\u001b[0m\u001b[0;34m\u001b[0m\u001b[0;34m\u001b[0m\u001b[0m\n\u001b[0;32m----> 2\u001b[0;31m \u001b[0mprint\u001b[0m\u001b[0;34m(\u001b[0m\u001b[0mhit8_json\u001b[0m\u001b[0;34m[\u001b[0m\u001b[0;34m'body_text'\u001b[0m\u001b[0;34m]\u001b[0m\u001b[0;34m[\u001b[0m\u001b[0;36m1\u001b[0m\u001b[0;34m]\u001b[0m\u001b[0;34m[\u001b[0m\u001b[0;34m'section'\u001b[0m\u001b[0;34m]\u001b[0m\u001b[0;34m)\u001b[0m\u001b[0;34m\u001b[0m\u001b[0;34m\u001b[0m\u001b[0m\n\u001b[0m",
      "\u001b[0;31mKeyError\u001b[0m: 'body_text'"
     ]
    }
   ],
   "source": [
    "hit8_json = json.loads(hits[6].raw)\n",
    "# print(hit8_json['body_text'][1]['section'])"
   ]
  },
  {
   "cell_type": "markdown",
   "metadata": {
    "colab_type": "text",
    "id": "7Hbca-fTUDC-"
   },
   "source": [
    "Let's extract contextualized vectors of queries and abstracts from SciBERT for highlighting relevant paragraphs."
   ]
  },
  {
   "cell_type": "markdown",
   "metadata": {
    "colab_type": "text",
    "id": "AWUg03EjXF-1"
   },
   "source": [
    "First, extract the contextualized vectors of the query above:\n",
    "\n",
    "$$q_1, \\ldots, q_T = \\text{SciBERT}(\\text{query})$$"
   ]
  },
  {
   "cell_type": "code",
   "execution_count": 163,
   "metadata": {
    "colab": {},
    "colab_type": "code",
    "id": "hWmb-SWKTcu1"
   },
   "outputs": [],
   "source": [
    "def extract_scibert(text, tokenizer, model):\n",
    "    text_ids = torch.tensor([tokenizer.encode(text, add_special_tokens=True)])\n",
    "    text_words = tokenizer.convert_ids_to_tokens(text_ids[0])[1:-1]\n",
    "\n",
    "    n_chunks = int(numpy.ceil(float(text_ids.size(1))/512))\n",
    "    states = []\n",
    "    \n",
    "    for ci in range(n_chunks):\n",
    "        text_ids_ = text_ids[0, 1+ci*512:1+(ci+1)*512]            \n",
    "        torch.cat([text_ids[0, 0].unsqueeze(0), text_ids_])\n",
    "        if text_ids[0, -1] != text_ids[0, -1]:\n",
    "            torch.cat([text_ids, text_ids[0,-1].unsqueeze(0)])\n",
    "        \n",
    "        with torch.no_grad():\n",
    "            state = model(text_ids_.unsqueeze(0))[0]\n",
    "            state = state[:, 1:-1, :]\n",
    "        states.append(state)\n",
    "\n",
    "    state = torch.cat(states, axis=1)\n",
    "    return text_ids, text_words, state[0]"
   ]
  },
  {
   "cell_type": "code",
   "execution_count": 164,
   "metadata": {
    "colab": {},
    "colab_type": "code",
    "id": "e9gFCKohUXNP"
   },
   "outputs": [],
   "source": [
    "query_ids, query_words, query_state = extract_scibert(query, tokenizer, model)"
   ]
  },
  {
   "cell_type": "markdown",
   "metadata": {
    "colab_type": "text",
    "id": "IcAVwQdCXE_P"
   },
   "source": [
    "Second, let's extract contextualized vectors of all the paragraphs from the hit #3:\n",
    "\n",
    "$$p_1^k, \\ldots, p_{T_k}^k = \\text{SciBERT}(\\text{paragraph}^k)$$"
   ]
  },
  {
   "cell_type": "code",
   "execution_count": 165,
   "metadata": {
    "colab": {
     "base_uri": "https://localhost:8080/",
     "height": 34
    },
    "colab_type": "code",
    "id": "d-NG7C1CUbDg",
    "outputId": "9d5db119-9a68-4de0-9ad0-8448ec93768f"
   },
   "outputs": [
    {
     "name": "stderr",
     "output_type": "stream",
     "text": [
      "100%|██████████| 36/36 [00:11<00:00,  3.17it/s]\n"
     ]
    }
   ],
   "source": [
    "ii = 6\n",
    "\n",
    "doc_json = json.loads(hits[ii].raw)\n",
    "\n",
    "paragraph_states = []\n",
    "for pid in tqdm(range(len(doc_json['body_text']))):\n",
    "    paragraph_states.append(extract_scibert(doc_json['body_text'][pid]['text'], tokenizer, model))"
   ]
  },
  {
   "cell_type": "markdown",
   "metadata": {
    "colab_type": "text",
    "id": "p_bUm3TOXWdY"
   },
   "source": [
    "We then compute the cosine similarity matrix between the query and each paragraph:\n",
    "\n",
    "$$A^k = [a^k_{ij}] \\in \\mathbb{R}^{|\\text{query}| \\times |\\text{paragraph}^k|},$$\n",
    "\n",
    "where\n",
    "\n",
    "$$a^k_{ij} = \\frac{q_i^\\top p_j^k}{\\| q_i \\| \\| p_j^k \\|}$$\n"
   ]
  },
  {
   "cell_type": "code",
   "execution_count": 166,
   "metadata": {
    "colab": {},
    "colab_type": "code",
    "id": "m6oZIW3OUbLv"
   },
   "outputs": [],
   "source": [
    "def cross_match(state1, state2):\n",
    "  state1 = state1 / torch.sqrt((state1 ** 2).sum(1, keepdims=True))\n",
    "  state2 = state2 / torch.sqrt((state2 ** 2).sum(1, keepdims=True))\n",
    "\n",
    "  sim = (state1.unsqueeze(1) * state2.unsqueeze(0)).sum(-1)\n",
    "\n",
    "  return sim"
   ]
  },
  {
   "cell_type": "code",
   "execution_count": 167,
   "metadata": {
    "colab": {
     "base_uri": "https://localhost:8080/",
     "height": 34
    },
    "colab_type": "code",
    "id": "MK8Na3sGUbSG",
    "outputId": "b4cee510-a39d-4a44-f207-529a3f611673"
   },
   "outputs": [
    {
     "name": "stderr",
     "output_type": "stream",
     "text": [
      "100%|██████████| 36/36 [00:00<00:00, 112.01it/s]\n"
     ]
    }
   ],
   "source": [
    "sim_matrices = []\n",
    "\n",
    "for pid in tqdm(range(len(doc_json['body_text']))):\n",
    "  sim_matrices.append(cross_match(query_state, paragraph_states[pid][-1]))"
   ]
  },
  {
   "cell_type": "markdown",
   "metadata": {
    "colab_type": "text",
    "id": "oRKhDGzdXYr4"
   },
   "source": [
    "Let's retrieve the most relevant paragraphs first, where define the top-$M$ most relevant paragraphs as \n",
    "\n",
    "$$\\arg\\text{top-$M$}_{k=1}^K \\max_{i=1,\\ldots,|\\text{query}|} \\max_{j=1,\\ldots, |\\text{paragraph}^k|} A_{ij}^k$$\n",
    "\n",
    "that is, a paragraph with the highly matched words to the query words is considered relevant."
   ]
  },
  {
   "cell_type": "code",
   "execution_count": 168,
   "metadata": {
    "colab": {},
    "colab_type": "code",
    "id": "-3hJ1dAAUSWQ"
   },
   "outputs": [],
   "source": [
    "paragraph_relevance = [torch.max(sim).item() for sim in sim_matrices]\n",
    "rel_index = numpy.argsort(paragraph_relevance)[-5:][::-1]"
   ]
  },
  {
   "cell_type": "code",
   "execution_count": 170,
   "metadata": {
    "colab": {
     "base_uri": "https://localhost:8080/",
     "height": 537
    },
    "colab_type": "code",
    "id": "bQhkuCc1Xp8s",
    "outputId": "43f485ee-2e33-433a-ed71-e1c52fa715f6"
   },
   "outputs": [
    {
     "data": {
      "text/html": [
       "<div style=\"font-family: Times New Roman; font-size: 20px; padding-bottom:12px\"><b>Query</b>: these differences reside in the molecular structure of spike proteins and some other factors.  Which receptor combination(s) will cause maximum harm</div>"
      ],
      "text/plain": [
       "<IPython.core.display.HTML object>"
      ]
     },
     "metadata": {},
     "output_type": "display_data"
    },
    {
     "data": {
      "text/html": [
       "<div style=\"font-family: Times New Roman; font-size: 20px; padding-bottom:12px\"><b>Document</b>: Jian Shang et al. Cryo-Electron Microscopy Structure of Porcine Deltacoronavirus Spike Protein in the Prefusion State. <a href=\"https://doi.org/10.1128/JVI.01556-17\">10.1128/JVI.01556-17</a>.</div>"
      ],
      "text/plain": [
       "<IPython.core.display.HTML object>"
      ]
     },
     "metadata": {},
     "output_type": "display_data"
    },
    {
     "data": {
      "text/html": [
       "<div style=\"font-family: Times New Roman; font-size: 18px; padding-bottom:10px; margin-left: 15px\"><b></b> -- The prefusion SARS - CoV S1 subunit is structurally organized into four distinct domains : NTD , CTD1 , CTD2 and CTD3 [ 13 ] . Among these , CTD1 is the receptor - binding domain , and one CTD1 in the trimer adopts an \" up \" conformation as a prerequisite for the binding of SARS - CoV to the cellular receptor angiotensin - converting enzyme 2 ( ACE2 ) [ 13 ] . Similar observations of a protruding \" up \" CTD1 have also been reported for MERS - CoV S glycoproteins [ 7 , 16 ] . Although crystal structures of CTD1 in complex with ACE2 have been reported [ 19 , 20 ] , the structure of the trimeric coronavirus S glycoprotein in complex with the cellular receptor has not been reported . The mechanisms involved in the conformational changes of the S glycoprotein during coronavirus infection , especially for the highly pathogenic SARS - - CoV and MERS - CoV , are not completely understood . </div>"
      ],
      "text/plain": [
       "<IPython.core.display.HTML object>"
      ]
     },
     "metadata": {},
     "output_type": "display_data"
    },
    {
     "data": {
      "text/html": [
       "<div style=\"font-family: Times New Roman; font-size: 18px; padding-bottom:10px; margin-left: 15px\"><b>Structural comparisons of the ACE2-bound and ACE2-free spikes</b> -- Simultaneous observation of the ACE2 - bound , unbound - up and unbound - down conformations of the S glycoprotein in the trypsin - and low - pH - treated sample provided an opportunity to investigate possible conformational changes induced by receptor binding . Structural comparisons of the CTD1s from different ACE2 - free conformational states showed that the \" up \" angles of the CTD1s were between [UNK] [UNK] , while the angle for the CTD1s in the \" down \" position was approximately 22 . [UNK] ( Fig 1D and 1E ) [ 13 ] . However , the \" up \" angles of the CTD1s from the ACE2 - bound conformations were in the range of [UNK] 111 . [UNK] . Approximately 19 % of the ACE2 - bound particles had their CTD1s open to 111 . [UNK] ( Fig 1C ) , which was not observed in any of the ACE2 - free conformational states . This result indicates that receptor binding can open up CTD1 . </div>"
      ],
      "text/plain": [
       "<IPython.core.display.HTML object>"
      ]
     },
     "metadata": {},
     "output_type": "display_data"
    },
    {
     "data": {
      "text/html": [
       "<div style=\"font-family: Times New Roman; font-size: 18px; padding-bottom:10px; margin-left: 15px\"><b>Structural comparisons of the ACE2-bound and ACE2-free spikes</b> -- Exposure of the S2 ' cleavage site is assumed to occur after receptor binding [ 8 ] . We examined the S2 ' cleavage site in different conformational states of the S glycoprotein . The S2 ' cleavage site located in a surface pocket of the stem around Arg797 and covered by a \" C \" - shaped loop ( residues 787 - 796 ) is inaccessible in both the unbound - down and the ACE2 - bound SARS - CoV S glycoprotein structures ( Fig 2D ) . These results indicated that neither the \" down \" to \" up \" conformational change of one CTD1 and its binding to one ACE receptor nor a decrease in the pH drive exposure of the S2 ' cleavage site . </div>"
      ],
      "text/plain": [
       "<IPython.core.display.HTML object>"
      ]
     },
     "metadata": {},
     "output_type": "display_data"
    },
    {
     "data": {
      "text/html": [
       "<div style=\"font-family: Times New Roman; font-size: 18px; padding-bottom:10px; margin-left: 15px\"><b>Structures of the S2 trimer in a postfusion state and the dissociated S1-ACE2 complex</b> -- Rosette - shaped particles that did not belong to any of the prefusion S glycoprotein states were observed in the EM micrographs of a size - exclusion chromatography elution peak before the S - ACE2 complex peak ( Fig 3A and 3B ) , and 2D and 3D cryo - EM image analysis of the selected particles generated a dumbbell - shaped density map for the petals of the rosette ( Fig 3C and 3D ) . The shape and size of the density map were consistent with the recently determined postfusion MHV S2 trimer structure [ 18 ] . Based on the postfusion MHV S2 trimer model , a homologous model of the SARS - CoV S2 trimer in the postfusion state was produced using SWISS - MODEL ( S9A and S9B Fig ) . Fitting of the SARS - CoV postfusion S2 trimer model onto the EM map showed good agreement ( Fig 3C ) . The uninterpreted density at one distal end of the dumbbell - shaped density map should be the exposed fusion peptide that is disordered and mediates the aggregation of the postfusion S2 trimers into the rosette - shaped particles . The S2 ' cleavage site is not resolved and should be completely exposed based on the postfusion S2 structure model ( S9C Fig ) . </div>"
      ],
      "text/plain": [
       "<IPython.core.display.HTML object>"
      ]
     },
     "metadata": {},
     "output_type": "display_data"
    },
    {
     "data": {
      "text/html": [
       "<div style=\"font-family: Times New Roman; font-size: 18px; padding-bottom:10px; margin-left: 15px\"><b>Gene cloning and protein purification</b> -- Human ACE2 extracellular domain ( residues 19 - 615 ) with an N - terminal gp67 signal peptide for secretion and a C - terminal 6 × his tag for purification was inserted into a pFastBac - The \" down \" to \" up \" transition of the receptor - binding domain ( CTD1 ) allows receptor binding . The binding to ACE2 opens up CTD1 and CTD2 , promotes the disassociation of the S1 - ACE2 complex from the S1 / S2 cleaved S glycoprotein , induces the pre - to post - fusion transition of the S2 subunit , and initiates the membrane fusion . Duel vector ( Invitrogen ) . The construct was transformed into bacterial DH10Bac component cells using Cellfectin II Reagent ( Invitrogen ) . After 5 days of incubation at [UNK] , the low - titer viruses were harvested and amplified to P2 and then used to infect Sf9 cells . The cell culture was collected by centrifugation at 48 hours post infection . The supernatant was concentrated , loaded into nickel ( Ni ) - charged resin ( GE Healthcare ) , eluted with 0 . 5 M imidazole in Buffer A ( 50 mM Tris , pH 8 . 8 , 40 mM NaCl ) and further purified using an increase Superdex 200 high - performance column ( GE Healthcare ) pre - equilibrated with Buffer A . Fractions containing ACE2 were collected , applied directly to a pre - equilibrated Resource Q column ( GE Healthcare ) , and then eluted with a 0 . 05 - 1 M NaCl gradient in 40 mM Tris buffer ( pH 8 . 8 ) . </div>"
      ],
      "text/plain": [
       "<IPython.core.display.HTML object>"
      ]
     },
     "metadata": {},
     "output_type": "display_data"
    }
   ],
   "source": [
    "display(HTML('<div style=\"font-family: Times New Roman; font-size: 20px; padding-bottom:12px\"><b>Query</b>: '+query+'</div>'))\n",
    "\n",
    "display(HTML('<div style=\"font-family: Times New Roman; font-size: 20px; padding-bottom:12px\"><b>Document</b>: '+\n",
    "             F'{hits[i].lucene_document.get(\"authors\")} et al. ' +\n",
    "             F'{hits[i].lucene_document.get(\"title\")}. ' + \n",
    "             F'<a href=\"https://doi.org/{hits[i].lucene_document.get(\"doi\")}\">{hits[i].lucene_document.get(\"doi\")}</a>.' +\n",
    "             '</div>'))\n",
    "\n",
    "for ri in numpy.sort(rel_index):\n",
    "  display(HTML('<div style=\"font-family: Times New Roman; font-size: 18px; padding-bottom:10px; margin-left: 15px\">' + \n",
    "               F'<b>{doc_json[\"body_text\"][ri][\"section\"]}</b> -- ' +\n",
    "               F'{\" \".join(paragraph_states[ri][1]).replace(\" ##\",\"\")}' + ' </div>'))"
   ]
  },
  {
   "cell_type": "markdown",
   "metadata": {
    "colab_type": "text",
    "id": "d3H0XQ8IZfAN"
   },
   "source": [
    "We want to look at more details by highlighting relevant phrases in each paragraph, where we define relevant phrases for each paragraph as\n",
    "\n",
    "$$\\arg\\text{top-$M$}_{j=1,\\ldots, |\\text{paragraph}^k|} \\max_{i=1,\\ldots,|\\text{query}|} A_{ij}^k$$\n",
    "\n",
    "that is, any word that had a high similarity to each of the query words is considered relevant. given these words, we highlight a window of 10 surrounding each of them."
   ]
  },
  {
   "cell_type": "code",
   "execution_count": 204,
   "metadata": {},
   "outputs": [],
   "source": [
    "def highlight_paragraph(ptext, rel_words, max_win=10):\n",
    "    para = \"\"\n",
    "    prev_idx = 0\n",
    "    for jj in rel_words:\n",
    "        \n",
    "        if prev_idx > jj:\n",
    "            continue\n",
    "        \n",
    "        found_start = False\n",
    "        for kk in range(jj, prev_idx-1, -1):\n",
    "            if ptext[kk] == \".\" and (ptext[kk+1][0].isupper() or ptext[kk+1][0] == '['):\n",
    "                sent_start = kk\n",
    "                found_start = True\n",
    "                break\n",
    "        if not found_start:\n",
    "            sent_start = prev_idx-1\n",
    "            \n",
    "        found_end = False\n",
    "        for kk in range(jj, len(ptext)-1):\n",
    "            if ptext[kk] == \".\" and (ptext[kk+1][0].isupper() or ptext[kk+1][0] == '['):\n",
    "                sent_end = kk\n",
    "                found_end = True\n",
    "                break\n",
    "                \n",
    "        if not found_end:\n",
    "            if kk >= len(ptext) - 2:\n",
    "                sent_end = len(ptext)\n",
    "            else:\n",
    "                sent_end = jj\n",
    "        \n",
    "        para = para + \" \"\n",
    "        para = para + \" \".join(ptext[prev_idx:sent_start+1])\n",
    "        para = para + \" <font color='blue'>\"\n",
    "        para = para + \" \".join(ptext[sent_start+1:sent_end])\n",
    "        para = para + \"</font> \"\n",
    "        prev_idx = sent_end\n",
    "        \n",
    "    if prev_idx < len(ptext):\n",
    "        para = para + \" \".join(ptext[prev_idx:])\n",
    "\n",
    "    return para"
   ]
  },
  {
   "cell_type": "code",
   "execution_count": 205,
   "metadata": {
    "colab": {
     "base_uri": "https://localhost:8080/",
     "height": 647
    },
    "colab_type": "code",
    "id": "ZMxkQ0_PZiOQ",
    "outputId": "784d6f4d-6889-4b08-de67-fb089becd6f8"
   },
   "outputs": [
    {
     "data": {
      "text/html": [
       "<div style=\"font-family: Times New Roman; font-size: 20px; padding-bottom:12px\"><b>Query</b>: these differences reside in the molecular structure of spike proteins and some other factors.  Which receptor combination(s) will cause maximum harm</div>"
      ],
      "text/plain": [
       "<IPython.core.display.HTML object>"
      ]
     },
     "metadata": {},
     "output_type": "display_data"
    },
    {
     "data": {
      "text/html": [
       "<div style=\"font-family: Times New Roman; font-size: 20px; padding-bottom:12px\"><b>Document</b>: Jian Shang et al. Cryo-Electron Microscopy Structure of Porcine Deltacoronavirus Spike Protein in the Prefusion State. <a href=\"https://doi.org/10.1128/JVI.01556-17\">10.1128/JVI.01556-17</a>.</div>"
      ],
      "text/plain": [
       "<IPython.core.display.HTML object>"
      ]
     },
     "metadata": {},
     "output_type": "display_data"
    },
    {
     "data": {
      "text/html": [
       "<div style=\"font-family: Times New Roman; font-size: 18px; padding-bottom:10px; margin-left: 15px\"><b></b> --  The prefusion SARS - CoV S1 subunit is structurally organized into four distinct domains : NTD , CTD1 , CTD2 and CTD3 [ 13 ] . <font color='blue'>Among these , CTD1 is the receptor - binding domain , and one CTD1 in the trimer adopts an \" up \" conformation as a prerequisite for the binding of SARS - CoV to the cellular receptor angiotensin - converting enzyme 2 ( ACE2 ) [ 13 ]</font>  . Similar observations of a protruding \" up \" CTD1 have also been reported for MERS - CoV S glycoproteins [ 7 , 16 ] . <font color='blue'>Although crystal structures of CTD1 in complex with ACE2 have been reported [ 19 , 20 ] , the structure of the trimeric coronavirus S glycoprotein in complex with the cellular receptor has not been reported</font> . The mechanisms involved in the conformational changes of the S glycoprotein during coronavirus infection , especially for the highly pathogenic SARS - - CoV and MERS - CoV , are not completely understood . </div>"
      ],
      "text/plain": [
       "<IPython.core.display.HTML object>"
      ]
     },
     "metadata": {},
     "output_type": "display_data"
    },
    {
     "data": {
      "text/html": [
       "<div style=\"font-family: Times New Roman; font-size: 18px; padding-bottom:10px; margin-left: 15px\"><b>Structural comparisons of the ACE2-bound and ACE2-free spikes</b> --   <font color='blue'>Simultaneous observation of the ACE2 - bound , unbound - up and unbound - down conformations of the S glycoprotein in the trypsin - and low - pH - treated sample provided an opportunity to investigate possible conformational changes induced by receptor binding</font>  . Structural comparisons of the CTD1s from different ACE2 - free conformational states showed that the \" up \" angles of the CTD1s were between [UNK] [UNK] , while the angle for the CTD1s in the \" down \" position was approximately 22 . [UNK] ( Fig 1D and 1E ) [ 13 ] . However , the \" up \" angles of the CTD1s from the ACE2 - bound conformations were in the range of [UNK] 111 . [UNK] . Approximately 19 % of the ACE2 - bound particles had their CTD1s open to 111 . [UNK] ( Fig 1C ) , which was not observed in any of the ACE2 - free conformational states . <font color='blue'>This result indicates that receptor binding can open up CTD1 .</font>  </div>"
      ],
      "text/plain": [
       "<IPython.core.display.HTML object>"
      ]
     },
     "metadata": {},
     "output_type": "display_data"
    },
    {
     "data": {
      "text/html": [
       "<div style=\"font-family: Times New Roman; font-size: 18px; padding-bottom:10px; margin-left: 15px\"><b>Structural comparisons of the ACE2-bound and ACE2-free spikes</b> --   <font color='blue'>Exposure of the S2 ' cleavage site is assumed to occur after receptor binding [ 8 ]</font>  . We examined the S2 ' cleavage site in different conformational states of the S glycoprotein . The S2 ' cleavage site located in a surface pocket of the stem around Arg797 and covered by a \" C \" - shaped loop ( residues 787 - 796 ) is inaccessible in both the unbound - down and the ACE2 - bound SARS - CoV S glycoprotein structures ( Fig 2D ) . <font color='blue'>These results indicated that neither the \" down \" to \" up \" conformational change of one CTD1 and its binding to one ACE receptor nor a decrease in the pH drive exposure of the S2 ' cleavage site .</font>  </div>"
      ],
      "text/plain": [
       "<IPython.core.display.HTML object>"
      ]
     },
     "metadata": {},
     "output_type": "display_data"
    },
    {
     "data": {
      "text/html": [
       "<div style=\"font-family: Times New Roman; font-size: 18px; padding-bottom:10px; margin-left: 15px\"><b>Structures of the S2 trimer in a postfusion state and the dissociated S1-ACE2 complex</b> --  Rosette - shaped particles that did not belong to any of the prefusion S glycoprotein states were observed in the EM micrographs of a size - exclusion chromatography elution peak before the S - ACE2 complex peak ( Fig 3A and 3B ) , and 2D and 3D cryo - EM image analysis of the selected particles generated a dumbbell - shaped density map for the petals of the rosette ( Fig 3C and 3D ) . <font color='blue'>The shape and size of the density map were consistent with the recently determined postfusion MHV S2 trimer structure [ 18 ]</font>  . Based on the postfusion MHV S2 trimer model , a homologous model of the SARS - CoV S2 trimer in the postfusion state was produced using SWISS - MODEL ( S9A and S9B Fig ) . Fitting of the SARS - CoV postfusion S2 trimer model onto the EM map showed good agreement ( Fig 3C ) . The uninterpreted density at one distal end of the dumbbell - shaped density map should be the exposed fusion peptide that is disordered and mediates the aggregation of the postfusion S2 trimers into the rosette - shaped particles . <font color='blue'>The S2 ' cleavage site is not resolved and should be completely exposed based on the postfusion S2 structure model ( S9C Fig ) .</font>  </div>"
      ],
      "text/plain": [
       "<IPython.core.display.HTML object>"
      ]
     },
     "metadata": {},
     "output_type": "display_data"
    },
    {
     "data": {
      "text/html": [
       "<div style=\"font-family: Times New Roman; font-size: 18px; padding-bottom:10px; margin-left: 15px\"><b>Gene cloning and protein purification</b> --   <font color='blue'>Human ACE2 extracellular domain ( residues 19 - 615 ) with an N - terminal gp67 signal peptide for secretion and a C - terminal 6 × his tag for purification was inserted into a pFastBac - The \" down \" to \" up \" transition of the receptor - binding domain ( CTD1 ) allows receptor binding</font> . The binding to ACE2 opens up CTD1 and CTD2 , promotes the disassociation of the S1 - ACE2 complex from the S1 / S2 cleaved S glycoprotein , induces the pre - to post - fusion transition of the S2 subunit , and initiates the membrane fusion . Duel vector ( Invitrogen ) . The construct was transformed into bacterial DH10Bac component cells using Cellfectin II Reagent ( Invitrogen ) . After 5 days of incubation at [UNK] , the low - titer viruses were harvested and amplified to P2 and then used to infect Sf9 cells . The cell culture was collected by centrifugation at 48 hours post infection . The supernatant was concentrated , loaded into nickel ( Ni ) - charged resin ( GE Healthcare ) , eluted with 0 . 5 M imidazole in Buffer A ( 50 mM Tris , pH 8 . 8 , 40 mM NaCl ) and further purified using an increase Superdex 200 high - performance column ( GE Healthcare ) pre - equilibrated with Buffer A . Fractions containing ACE2 were collected , applied directly to a pre - equilibrated Resource Q column ( GE Healthcare ) , and then eluted with a 0 . 05 - 1 M NaCl gradient in 40 mM Tris buffer ( pH 8 . 8 ) . </div>"
      ],
      "text/plain": [
       "<IPython.core.display.HTML object>"
      ]
     },
     "metadata": {},
     "output_type": "display_data"
    }
   ],
   "source": [
    "display(HTML('<div style=\"font-family: Times New Roman; font-size: 20px; padding-bottom:12px\"><b>Query</b>: '+query+'</div>'))\n",
    "\n",
    "display(HTML('<div style=\"font-family: Times New Roman; font-size: 20px; padding-bottom:12px\"><b>Document</b>: '+\n",
    "             F'{hits[i].lucene_document.get(\"authors\")} et al. ' +\n",
    "             F'{hits[i].lucene_document.get(\"title\")}. ' + \n",
    "             F'<a href=\"https://doi.org/{hits[i].lucene_document.get(\"doi\")}\">{hits[i].lucene_document.get(\"doi\")}</a>.' +\n",
    "             '</div>'))\n",
    "\n",
    "for ri in numpy.sort(rel_index):\n",
    "  sim = sim_matrices[ri].data.numpy()\n",
    "  rel_words = numpy.sort(numpy.argsort(sim.max(0))[-2:][::-1])\n",
    "\n",
    "  ptext = paragraph_states[ri][1]\n",
    "\n",
    "  para = highlight_paragraph(ptext, rel_words)\n",
    "\n",
    "  display(HTML('<div style=\"font-family: Times New Roman; font-size: 18px; padding-bottom:10px; margin-left: 15px\">' + \n",
    "               F'<b>{doc_json[\"body_text\"][ri][\"section\"]}</b> -- ' +\n",
    "               F'{para.replace(\" ##\",\"\")}' + ' </div>'))"
   ]
  },
  {
   "cell_type": "code",
   "execution_count": null,
   "metadata": {},
   "outputs": [],
   "source": []
  },
  {
   "cell_type": "code",
   "execution_count": null,
   "metadata": {},
   "outputs": [],
   "source": []
  }
 ],
 "metadata": {
  "accelerator": "GPU",
  "colab": {
   "collapsed_sections": [],
   "include_colab_link": true,
   "name": "Copy of pyserini-covid19-default-demo.ipynb",
   "provenance": []
  },
  "kernelspec": {
   "display_name": "Python 3",
   "language": "python",
   "name": "python3"
  },
  "language_info": {
   "codemirror_mode": {
    "name": "ipython",
    "version": 3
   },
   "file_extension": ".py",
   "mimetype": "text/x-python",
   "name": "python",
   "nbconvert_exporter": "python",
   "pygments_lexer": "ipython3",
   "version": "3.7.4"
  },
  "widgets": {
   "application/vnd.jupyter.widget-state+json": {
    "02c8c6601fd74532908897dd6ba00642": {
     "model_module": "@jupyter-widgets/controls",
     "model_name": "HTMLModel",
     "state": {
      "_dom_classes": [],
      "_model_module": "@jupyter-widgets/controls",
      "_model_module_version": "1.5.0",
      "_model_name": "HTMLModel",
      "_view_count": null,
      "_view_module": "@jupyter-widgets/controls",
      "_view_module_version": "1.5.0",
      "_view_name": "HTMLView",
      "description": "",
      "description_tooltip": null,
      "layout": "IPY_MODEL_1ef1ac1d6c1e456caa6992593d367352",
      "placeholder": "​",
      "style": "IPY_MODEL_d8178af03865496db91a56d5d3a0cc57",
      "value": " 313/313 [00:01&lt;00:00, 187B/s]"
     }
    },
    "0ef3894860ad41328dd9540076c684bf": {
     "model_module": "@jupyter-widgets/controls",
     "model_name": "IntProgressModel",
     "state": {
      "_dom_classes": [],
      "_model_module": "@jupyter-widgets/controls",
      "_model_module_version": "1.5.0",
      "_model_name": "IntProgressModel",
      "_view_count": null,
      "_view_module": "@jupyter-widgets/controls",
      "_view_module_version": "1.5.0",
      "_view_name": "ProgressView",
      "bar_style": "success",
      "description": "Downloading: 100%",
      "description_tooltip": null,
      "layout": "IPY_MODEL_da75ddbf1b5f40b29c5b3b09a9c3d843",
      "max": 222296,
      "min": 0,
      "orientation": "horizontal",
      "style": "IPY_MODEL_31117b7d0d624f50acc63317961c1633",
      "value": 222296
     }
    },
    "1ef1ac1d6c1e456caa6992593d367352": {
     "model_module": "@jupyter-widgets/base",
     "model_name": "LayoutModel",
     "state": {
      "_model_module": "@jupyter-widgets/base",
      "_model_module_version": "1.2.0",
      "_model_name": "LayoutModel",
      "_view_count": null,
      "_view_module": "@jupyter-widgets/base",
      "_view_module_version": "1.2.0",
      "_view_name": "LayoutView",
      "align_content": null,
      "align_items": null,
      "align_self": null,
      "border": null,
      "bottom": null,
      "display": null,
      "flex": null,
      "flex_flow": null,
      "grid_area": null,
      "grid_auto_columns": null,
      "grid_auto_flow": null,
      "grid_auto_rows": null,
      "grid_column": null,
      "grid_gap": null,
      "grid_row": null,
      "grid_template_areas": null,
      "grid_template_columns": null,
      "grid_template_rows": null,
      "height": null,
      "justify_content": null,
      "justify_items": null,
      "left": null,
      "margin": null,
      "max_height": null,
      "max_width": null,
      "min_height": null,
      "min_width": null,
      "object_fit": null,
      "object_position": null,
      "order": null,
      "overflow": null,
      "overflow_x": null,
      "overflow_y": null,
      "padding": null,
      "right": null,
      "top": null,
      "visibility": null,
      "width": null
     }
    },
    "31117b7d0d624f50acc63317961c1633": {
     "model_module": "@jupyter-widgets/controls",
     "model_name": "ProgressStyleModel",
     "state": {
      "_model_module": "@jupyter-widgets/controls",
      "_model_module_version": "1.5.0",
      "_model_name": "ProgressStyleModel",
      "_view_count": null,
      "_view_module": "@jupyter-widgets/base",
      "_view_module_version": "1.2.0",
      "_view_name": "StyleView",
      "bar_color": null,
      "description_width": "initial"
     }
    },
    "3fc159bfdb1b46ea8b6d462f43c42980": {
     "model_module": "@jupyter-widgets/controls",
     "model_name": "ProgressStyleModel",
     "state": {
      "_model_module": "@jupyter-widgets/controls",
      "_model_module_version": "1.5.0",
      "_model_name": "ProgressStyleModel",
      "_view_count": null,
      "_view_module": "@jupyter-widgets/base",
      "_view_module_version": "1.2.0",
      "_view_name": "StyleView",
      "bar_color": null,
      "description_width": "initial"
     }
    },
    "4e91ba3985ab4306bf68027b01de8e49": {
     "model_module": "@jupyter-widgets/base",
     "model_name": "LayoutModel",
     "state": {
      "_model_module": "@jupyter-widgets/base",
      "_model_module_version": "1.2.0",
      "_model_name": "LayoutModel",
      "_view_count": null,
      "_view_module": "@jupyter-widgets/base",
      "_view_module_version": "1.2.0",
      "_view_name": "LayoutView",
      "align_content": null,
      "align_items": null,
      "align_self": null,
      "border": null,
      "bottom": null,
      "display": null,
      "flex": null,
      "flex_flow": null,
      "grid_area": null,
      "grid_auto_columns": null,
      "grid_auto_flow": null,
      "grid_auto_rows": null,
      "grid_column": null,
      "grid_gap": null,
      "grid_row": null,
      "grid_template_areas": null,
      "grid_template_columns": null,
      "grid_template_rows": null,
      "height": null,
      "justify_content": null,
      "justify_items": null,
      "left": null,
      "margin": null,
      "max_height": null,
      "max_width": null,
      "min_height": null,
      "min_width": null,
      "object_fit": null,
      "object_position": null,
      "order": null,
      "overflow": null,
      "overflow_x": null,
      "overflow_y": null,
      "padding": null,
      "right": null,
      "top": null,
      "visibility": null,
      "width": null
     }
    },
    "55f0585b2b9c4872b76215540fe2d010": {
     "model_module": "@jupyter-widgets/controls",
     "model_name": "ProgressStyleModel",
     "state": {
      "_model_module": "@jupyter-widgets/controls",
      "_model_module_version": "1.5.0",
      "_model_name": "ProgressStyleModel",
      "_view_count": null,
      "_view_module": "@jupyter-widgets/base",
      "_view_module_version": "1.2.0",
      "_view_name": "StyleView",
      "bar_color": null,
      "description_width": "initial"
     }
    },
    "5afdbf46d5c246e98d0fa4fd7a0bd52b": {
     "model_module": "@jupyter-widgets/base",
     "model_name": "LayoutModel",
     "state": {
      "_model_module": "@jupyter-widgets/base",
      "_model_module_version": "1.2.0",
      "_model_name": "LayoutModel",
      "_view_count": null,
      "_view_module": "@jupyter-widgets/base",
      "_view_module_version": "1.2.0",
      "_view_name": "LayoutView",
      "align_content": null,
      "align_items": null,
      "align_self": null,
      "border": null,
      "bottom": null,
      "display": null,
      "flex": null,
      "flex_flow": null,
      "grid_area": null,
      "grid_auto_columns": null,
      "grid_auto_flow": null,
      "grid_auto_rows": null,
      "grid_column": null,
      "grid_gap": null,
      "grid_row": null,
      "grid_template_areas": null,
      "grid_template_columns": null,
      "grid_template_rows": null,
      "height": null,
      "justify_content": null,
      "justify_items": null,
      "left": null,
      "margin": null,
      "max_height": null,
      "max_width": null,
      "min_height": null,
      "min_width": null,
      "object_fit": null,
      "object_position": null,
      "order": null,
      "overflow": null,
      "overflow_x": null,
      "overflow_y": null,
      "padding": null,
      "right": null,
      "top": null,
      "visibility": null,
      "width": null
     }
    },
    "5c40586819754261a141a6b88396e38b": {
     "model_module": "@jupyter-widgets/base",
     "model_name": "LayoutModel",
     "state": {
      "_model_module": "@jupyter-widgets/base",
      "_model_module_version": "1.2.0",
      "_model_name": "LayoutModel",
      "_view_count": null,
      "_view_module": "@jupyter-widgets/base",
      "_view_module_version": "1.2.0",
      "_view_name": "LayoutView",
      "align_content": null,
      "align_items": null,
      "align_self": null,
      "border": null,
      "bottom": null,
      "display": null,
      "flex": null,
      "flex_flow": null,
      "grid_area": null,
      "grid_auto_columns": null,
      "grid_auto_flow": null,
      "grid_auto_rows": null,
      "grid_column": null,
      "grid_gap": null,
      "grid_row": null,
      "grid_template_areas": null,
      "grid_template_columns": null,
      "grid_template_rows": null,
      "height": null,
      "justify_content": null,
      "justify_items": null,
      "left": null,
      "margin": null,
      "max_height": null,
      "max_width": null,
      "min_height": null,
      "min_width": null,
      "object_fit": null,
      "object_position": null,
      "order": null,
      "overflow": null,
      "overflow_x": null,
      "overflow_y": null,
      "padding": null,
      "right": null,
      "top": null,
      "visibility": null,
      "width": null
     }
    },
    "69b31d9a127846ce9a085c1718361919": {
     "model_module": "@jupyter-widgets/controls",
     "model_name": "HBoxModel",
     "state": {
      "_dom_classes": [],
      "_model_module": "@jupyter-widgets/controls",
      "_model_module_version": "1.5.0",
      "_model_name": "HBoxModel",
      "_view_count": null,
      "_view_module": "@jupyter-widgets/controls",
      "_view_module_version": "1.5.0",
      "_view_name": "HBoxView",
      "box_style": "",
      "children": [
       "IPY_MODEL_f672e067718a47e9bc1a741bbaa9dd36",
       "IPY_MODEL_02c8c6601fd74532908897dd6ba00642"
      ],
      "layout": "IPY_MODEL_ab609f410fa845ba86388ae0cdd8e308"
     }
    },
    "82b06cc5c5684ef5b6502eb99a6d32ec": {
     "model_module": "@jupyter-widgets/controls",
     "model_name": "IntProgressModel",
     "state": {
      "_dom_classes": [],
      "_model_module": "@jupyter-widgets/controls",
      "_model_module_version": "1.5.0",
      "_model_name": "IntProgressModel",
      "_view_count": null,
      "_view_module": "@jupyter-widgets/controls",
      "_view_module_version": "1.5.0",
      "_view_name": "ProgressView",
      "bar_style": "success",
      "description": "Downloading: 100%",
      "description_tooltip": null,
      "layout": "IPY_MODEL_890c6e99f177467481405dfe2a3fc339",
      "max": 442301670,
      "min": 0,
      "orientation": "horizontal",
      "style": "IPY_MODEL_55f0585b2b9c4872b76215540fe2d010",
      "value": 442301670
     }
    },
    "8655da061ea34a16800b111d6e20c69a": {
     "model_module": "@jupyter-widgets/base",
     "model_name": "LayoutModel",
     "state": {
      "_model_module": "@jupyter-widgets/base",
      "_model_module_version": "1.2.0",
      "_model_name": "LayoutModel",
      "_view_count": null,
      "_view_module": "@jupyter-widgets/base",
      "_view_module_version": "1.2.0",
      "_view_name": "LayoutView",
      "align_content": null,
      "align_items": null,
      "align_self": null,
      "border": null,
      "bottom": null,
      "display": null,
      "flex": null,
      "flex_flow": null,
      "grid_area": null,
      "grid_auto_columns": null,
      "grid_auto_flow": null,
      "grid_auto_rows": null,
      "grid_column": null,
      "grid_gap": null,
      "grid_row": null,
      "grid_template_areas": null,
      "grid_template_columns": null,
      "grid_template_rows": null,
      "height": null,
      "justify_content": null,
      "justify_items": null,
      "left": null,
      "margin": null,
      "max_height": null,
      "max_width": null,
      "min_height": null,
      "min_width": null,
      "object_fit": null,
      "object_position": null,
      "order": null,
      "overflow": null,
      "overflow_x": null,
      "overflow_y": null,
      "padding": null,
      "right": null,
      "top": null,
      "visibility": null,
      "width": null
     }
    },
    "890c6e99f177467481405dfe2a3fc339": {
     "model_module": "@jupyter-widgets/base",
     "model_name": "LayoutModel",
     "state": {
      "_model_module": "@jupyter-widgets/base",
      "_model_module_version": "1.2.0",
      "_model_name": "LayoutModel",
      "_view_count": null,
      "_view_module": "@jupyter-widgets/base",
      "_view_module_version": "1.2.0",
      "_view_name": "LayoutView",
      "align_content": null,
      "align_items": null,
      "align_self": null,
      "border": null,
      "bottom": null,
      "display": null,
      "flex": null,
      "flex_flow": null,
      "grid_area": null,
      "grid_auto_columns": null,
      "grid_auto_flow": null,
      "grid_auto_rows": null,
      "grid_column": null,
      "grid_gap": null,
      "grid_row": null,
      "grid_template_areas": null,
      "grid_template_columns": null,
      "grid_template_rows": null,
      "height": null,
      "justify_content": null,
      "justify_items": null,
      "left": null,
      "margin": null,
      "max_height": null,
      "max_width": null,
      "min_height": null,
      "min_width": null,
      "object_fit": null,
      "object_position": null,
      "order": null,
      "overflow": null,
      "overflow_x": null,
      "overflow_y": null,
      "padding": null,
      "right": null,
      "top": null,
      "visibility": null,
      "width": null
     }
    },
    "93d84aebb3c547a9b1398b975e08c60e": {
     "model_module": "@jupyter-widgets/controls",
     "model_name": "HTMLModel",
     "state": {
      "_dom_classes": [],
      "_model_module": "@jupyter-widgets/controls",
      "_model_module_version": "1.5.0",
      "_model_name": "HTMLModel",
      "_view_count": null,
      "_view_module": "@jupyter-widgets/controls",
      "_view_module_version": "1.5.0",
      "_view_name": "HTMLView",
      "description": "",
      "description_tooltip": null,
      "layout": "IPY_MODEL_4e91ba3985ab4306bf68027b01de8e49",
      "placeholder": "​",
      "style": "IPY_MODEL_94d6f73960f54bfba3897bdb3ff40b49",
      "value": " 442M/442M [00:12&lt;00:00, 35.1MB/s]"
     }
    },
    "94d6f73960f54bfba3897bdb3ff40b49": {
     "model_module": "@jupyter-widgets/controls",
     "model_name": "DescriptionStyleModel",
     "state": {
      "_model_module": "@jupyter-widgets/controls",
      "_model_module_version": "1.5.0",
      "_model_name": "DescriptionStyleModel",
      "_view_count": null,
      "_view_module": "@jupyter-widgets/base",
      "_view_module_version": "1.2.0",
      "_view_name": "StyleView",
      "description_width": ""
     }
    },
    "9e04d92a35cd4230a1f68332eeb3989c": {
     "model_module": "@jupyter-widgets/controls",
     "model_name": "HBoxModel",
     "state": {
      "_dom_classes": [],
      "_model_module": "@jupyter-widgets/controls",
      "_model_module_version": "1.5.0",
      "_model_name": "HBoxModel",
      "_view_count": null,
      "_view_module": "@jupyter-widgets/controls",
      "_view_module_version": "1.5.0",
      "_view_name": "HBoxView",
      "box_style": "",
      "children": [
       "IPY_MODEL_0ef3894860ad41328dd9540076c684bf",
       "IPY_MODEL_b3ea4f0305fe4066a2be697fdc3188d2"
      ],
      "layout": "IPY_MODEL_5c40586819754261a141a6b88396e38b"
     }
    },
    "a92e5c7910914adaa58f8f051f71f11b": {
     "model_module": "@jupyter-widgets/base",
     "model_name": "LayoutModel",
     "state": {
      "_model_module": "@jupyter-widgets/base",
      "_model_module_version": "1.2.0",
      "_model_name": "LayoutModel",
      "_view_count": null,
      "_view_module": "@jupyter-widgets/base",
      "_view_module_version": "1.2.0",
      "_view_name": "LayoutView",
      "align_content": null,
      "align_items": null,
      "align_self": null,
      "border": null,
      "bottom": null,
      "display": null,
      "flex": null,
      "flex_flow": null,
      "grid_area": null,
      "grid_auto_columns": null,
      "grid_auto_flow": null,
      "grid_auto_rows": null,
      "grid_column": null,
      "grid_gap": null,
      "grid_row": null,
      "grid_template_areas": null,
      "grid_template_columns": null,
      "grid_template_rows": null,
      "height": null,
      "justify_content": null,
      "justify_items": null,
      "left": null,
      "margin": null,
      "max_height": null,
      "max_width": null,
      "min_height": null,
      "min_width": null,
      "object_fit": null,
      "object_position": null,
      "order": null,
      "overflow": null,
      "overflow_x": null,
      "overflow_y": null,
      "padding": null,
      "right": null,
      "top": null,
      "visibility": null,
      "width": null
     }
    },
    "ab609f410fa845ba86388ae0cdd8e308": {
     "model_module": "@jupyter-widgets/base",
     "model_name": "LayoutModel",
     "state": {
      "_model_module": "@jupyter-widgets/base",
      "_model_module_version": "1.2.0",
      "_model_name": "LayoutModel",
      "_view_count": null,
      "_view_module": "@jupyter-widgets/base",
      "_view_module_version": "1.2.0",
      "_view_name": "LayoutView",
      "align_content": null,
      "align_items": null,
      "align_self": null,
      "border": null,
      "bottom": null,
      "display": null,
      "flex": null,
      "flex_flow": null,
      "grid_area": null,
      "grid_auto_columns": null,
      "grid_auto_flow": null,
      "grid_auto_rows": null,
      "grid_column": null,
      "grid_gap": null,
      "grid_row": null,
      "grid_template_areas": null,
      "grid_template_columns": null,
      "grid_template_rows": null,
      "height": null,
      "justify_content": null,
      "justify_items": null,
      "left": null,
      "margin": null,
      "max_height": null,
      "max_width": null,
      "min_height": null,
      "min_width": null,
      "object_fit": null,
      "object_position": null,
      "order": null,
      "overflow": null,
      "overflow_x": null,
      "overflow_y": null,
      "padding": null,
      "right": null,
      "top": null,
      "visibility": null,
      "width": null
     }
    },
    "b3ea4f0305fe4066a2be697fdc3188d2": {
     "model_module": "@jupyter-widgets/controls",
     "model_name": "HTMLModel",
     "state": {
      "_dom_classes": [],
      "_model_module": "@jupyter-widgets/controls",
      "_model_module_version": "1.5.0",
      "_model_name": "HTMLModel",
      "_view_count": null,
      "_view_module": "@jupyter-widgets/controls",
      "_view_module_version": "1.5.0",
      "_view_name": "HTMLView",
      "description": "",
      "description_tooltip": null,
      "layout": "IPY_MODEL_5afdbf46d5c246e98d0fa4fd7a0bd52b",
      "placeholder": "​",
      "style": "IPY_MODEL_e990c10c236f4b948ddf1ed248280bfe",
      "value": " 222k/222k [00:01&lt;00:00, 214kB/s]"
     }
    },
    "d8178af03865496db91a56d5d3a0cc57": {
     "model_module": "@jupyter-widgets/controls",
     "model_name": "DescriptionStyleModel",
     "state": {
      "_model_module": "@jupyter-widgets/controls",
      "_model_module_version": "1.5.0",
      "_model_name": "DescriptionStyleModel",
      "_view_count": null,
      "_view_module": "@jupyter-widgets/base",
      "_view_module_version": "1.2.0",
      "_view_name": "StyleView",
      "description_width": ""
     }
    },
    "da75ddbf1b5f40b29c5b3b09a9c3d843": {
     "model_module": "@jupyter-widgets/base",
     "model_name": "LayoutModel",
     "state": {
      "_model_module": "@jupyter-widgets/base",
      "_model_module_version": "1.2.0",
      "_model_name": "LayoutModel",
      "_view_count": null,
      "_view_module": "@jupyter-widgets/base",
      "_view_module_version": "1.2.0",
      "_view_name": "LayoutView",
      "align_content": null,
      "align_items": null,
      "align_self": null,
      "border": null,
      "bottom": null,
      "display": null,
      "flex": null,
      "flex_flow": null,
      "grid_area": null,
      "grid_auto_columns": null,
      "grid_auto_flow": null,
      "grid_auto_rows": null,
      "grid_column": null,
      "grid_gap": null,
      "grid_row": null,
      "grid_template_areas": null,
      "grid_template_columns": null,
      "grid_template_rows": null,
      "height": null,
      "justify_content": null,
      "justify_items": null,
      "left": null,
      "margin": null,
      "max_height": null,
      "max_width": null,
      "min_height": null,
      "min_width": null,
      "object_fit": null,
      "object_position": null,
      "order": null,
      "overflow": null,
      "overflow_x": null,
      "overflow_y": null,
      "padding": null,
      "right": null,
      "top": null,
      "visibility": null,
      "width": null
     }
    },
    "e990c10c236f4b948ddf1ed248280bfe": {
     "model_module": "@jupyter-widgets/controls",
     "model_name": "DescriptionStyleModel",
     "state": {
      "_model_module": "@jupyter-widgets/controls",
      "_model_module_version": "1.5.0",
      "_model_name": "DescriptionStyleModel",
      "_view_count": null,
      "_view_module": "@jupyter-widgets/base",
      "_view_module_version": "1.2.0",
      "_view_name": "StyleView",
      "description_width": ""
     }
    },
    "f22cde11a4d14e02b43c24316881dcae": {
     "model_module": "@jupyter-widgets/controls",
     "model_name": "HBoxModel",
     "state": {
      "_dom_classes": [],
      "_model_module": "@jupyter-widgets/controls",
      "_model_module_version": "1.5.0",
      "_model_name": "HBoxModel",
      "_view_count": null,
      "_view_module": "@jupyter-widgets/controls",
      "_view_module_version": "1.5.0",
      "_view_name": "HBoxView",
      "box_style": "",
      "children": [
       "IPY_MODEL_82b06cc5c5684ef5b6502eb99a6d32ec",
       "IPY_MODEL_93d84aebb3c547a9b1398b975e08c60e"
      ],
      "layout": "IPY_MODEL_8655da061ea34a16800b111d6e20c69a"
     }
    },
    "f672e067718a47e9bc1a741bbaa9dd36": {
     "model_module": "@jupyter-widgets/controls",
     "model_name": "IntProgressModel",
     "state": {
      "_dom_classes": [],
      "_model_module": "@jupyter-widgets/controls",
      "_model_module_version": "1.5.0",
      "_model_name": "IntProgressModel",
      "_view_count": null,
      "_view_module": "@jupyter-widgets/controls",
      "_view_module_version": "1.5.0",
      "_view_name": "ProgressView",
      "bar_style": "success",
      "description": "Downloading: 100%",
      "description_tooltip": null,
      "layout": "IPY_MODEL_a92e5c7910914adaa58f8f051f71f11b",
      "max": 313,
      "min": 0,
      "orientation": "horizontal",
      "style": "IPY_MODEL_3fc159bfdb1b46ea8b6d462f43c42980",
      "value": 313
     }
    }
   }
  }
 },
 "nbformat": 4,
 "nbformat_minor": 4
}
