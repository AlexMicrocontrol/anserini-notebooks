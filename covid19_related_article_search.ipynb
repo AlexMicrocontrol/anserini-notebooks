{
  "nbformat": 4,
  "nbformat_minor": 0,
  "metadata": {
    "colab": {
      "name": "covid19_related_article_search.ipynb",
      "provenance": [],
      "collapsed_sections": [],
      "include_colab_link": true
    },
    "kernelspec": {
      "name": "python3",
      "display_name": "Python 3"
    }
  },
  "cells": [
    {
      "cell_type": "markdown",
      "metadata": {
        "id": "view-in-github",
        "colab_type": "text"
      },
      "source": [
        "<a href=\"https://colab.research.google.com/github/castorini/anserini-notebooks/blob/master/covid19_related_article_search.ipynb\" target=\"_parent\"><img src=\"https://colab.research.google.com/assets/colab-badge.svg\" alt=\"Open In Colab\"/></a>"
      ]
    },
    {
      "cell_type": "markdown",
      "metadata": {
        "id": "jNMOMZgAGnaT",
        "colab_type": "text"
      },
      "source": [
        "# Related Article Search on COVID-19 Dataset"
      ]
    },
    {
      "cell_type": "markdown",
      "metadata": {
        "id": "gJ7njMirFIxi",
        "colab_type": "text"
      },
      "source": [
        "This notebook demonstrates related article search on the [COVID-19 Open Research Dataset](https://pages.semanticscholar.org/coronavirus-research) (release of 2020/03/27) from AI2.\n",
        "That is, the \"query\" is an article of interest, and the system's task is to retrieve articles that are related or similar.\n",
        "\n",
        "Search is performed on contextual representations produced by BioBERT, which converts sparse bag-of-words representation into dense vectors.\n",
        "Here, we use techniques described in the following paper to perform approximate nearest-neighbor search _directly using Lucene_.\n",
        "\n",
        "> Tommaso Teofili and Jimmy Lin. [Lucene for Approximate Nearest-Neighbors Search on Arbitrary Dense Vectors.](https://arxiv.org/abs/1910.10208) arXiv:1910.10208, October 2019.\n",
        "\n",
        "Our rationale for doing this, as opposed using a dedicated search library like [hnsw](https://github.com/nmslib/hnswlib) is to provide a uniform stack for eventual deployment in an end-to-end search application (which is the argument made in the above paper).\n",
        "\n",
        "We're separately working on releasing the code for building the index, but here we provide some initial results."
      ]
    },
    {
      "cell_type": "markdown",
      "metadata": {
        "id": "Qsz-IqDGHpH_",
        "colab_type": "text"
      },
      "source": [
        "Setup..."
      ]
    },
    {
      "cell_type": "code",
      "metadata": {
        "id": "9D3UdZYdr0z-",
        "colab_type": "code",
        "colab": {}
      },
      "source": [
        "%%capture\n",
        "%cd\n",
        "!apt-get install maven -qq >& /dev/null\n",
        "!git clone https://github.com/castorini/anserini.git >& /dev/null\n",
        "%cd anserini\n",
        "!mvn clean package appassembler:assemble -q -Dmaven.javadoc.skip=true >& /dev/null"
      ],
      "execution_count": 0,
      "outputs": []
    },
    {
      "cell_type": "markdown",
      "metadata": {
        "id": "5w4UHvG_HueV",
        "colab_type": "text"
      },
      "source": [
        "More setup..."
      ]
    },
    {
      "cell_type": "code",
      "metadata": {
        "id": "zc3RsSLOr6oA",
        "colab_type": "code",
        "colab": {}
      },
      "source": [
        "%%capture\n",
        "!pip install pyserini==0.8.1.0\n",
        "!pip install transformers\n",
        "\n",
        "import json\n",
        "import os\n",
        "import numpy\n",
        "os.environ[\"JAVA_HOME\"] = \"/usr/lib/jvm/java-11-openjdk-amd64\""
      ],
      "execution_count": 0,
      "outputs": []
    },
    {
      "cell_type": "markdown",
      "metadata": {
        "id": "uri9r40HH9ra",
        "colab_type": "text"
      },
      "source": [
        "Let's fetch the pre-built the index for related article search, along with the index over title and abstracts:"
      ]
    },
    {
      "cell_type": "code",
      "metadata": {
        "id": "NHkRPeHwr1Q0",
        "colab_type": "code",
        "colab": {}
      },
      "source": [
        "%%capture\n",
        "!wget https://www.dropbox.com/s/daivdi7ui7f2bdn/lucene-covid-scibert-fw-2020-03-27.tgz\n",
        "!tar xvfz lucene-covid-scibert-fw-2020-03-27.tgz\n",
        "!wget https://www.dropbox.com/s/j1epbu4ufunbbzv/lucene-index-covid-2020-03-27.tar.gz\n",
        "!tar xvfz lucene-index-covid-2020-03-27.tar.gz"
      ],
      "execution_count": 0,
      "outputs": []
    },
    {
      "cell_type": "markdown",
      "metadata": {
        "id": "iM1nxKVcIRed",
        "colab_type": "text"
      },
      "source": [
        "Let's first search for some interesting articles:"
      ]
    },
    {
      "cell_type": "code",
      "metadata": {
        "id": "lBvj68Eqvx_8",
        "colab_type": "code",
        "outputId": "6569678f-8ee1-4d47-bc93-c94cfedbe035",
        "colab": {
          "base_uri": "https://localhost:8080/",
          "height": 122
        }
      },
      "source": [
        "from pyserini.search import pysearch\n",
        "\n",
        "searcher = pysearch.SimpleSearcher('lucene-index-covid-2020-03-27/')\n",
        "hits = searcher.search('effectiveness of chloroquine for covid-19')\n",
        "\n",
        "# Prints the first 5 hits\n",
        "for i in range(0, 5):\n",
        "    print(f'{i+1:2} {hits[i].docid:6} {hits[i].lucene_document.get(\"doi\")} {hits[i].score:.5f} {hits[i].lucene_document.get(\"title\")} ')"
      ],
      "execution_count": 0,
      "outputs": [
        {
          "output_type": "stream",
          "text": [
            " 1 45689  10.1016/j.jcrc.2020.03.005 11.67410 A systematic review on the efficacy and safety of chloroquine for the treatment of COVID-19 \n",
            " 2 44547  10.1016/j.ijantimicag.2020.105938 10.94430 New insights on the antiviral effects of chloroquine against coronavirus: what to expect for COVID-19? \n",
            " 3 2059   10.5582/bst.2020.01056 9.79870 COVID-19: Real-time dissemination of scientific information to fight a public health emergency of international concern \n",
            " 4 2020   10.3760/cma.j.issn.1001-0939.2020.0019 9.52330 Expert consensus on chloroquine phosphate for the treatment of novel coronavirus pneumonia \n",
            " 5 42555  10.1016/j.dsx.2020.03.012 9.41580 Contentious Issues and Evolving Concepts in the Clinical Presentation and Management of Patients with COVID-19 Infectionwith Reference to Use of Therapeutic and Other Drugs used in Co-morbid Diseases (Hypertension, Diabetes etc) \n"
          ],
          "name": "stdout"
        }
      ]
    },
    {
      "cell_type": "markdown",
      "metadata": {
        "id": "PDKYM-i_Idjo",
        "colab_type": "text"
      },
      "source": [
        "The first hit looks interesting. Let's search for related articles now.\n",
        "\n",
        "Currently, it's a command-line tool (direct Python integration in Pyserini is coming soon...):"
      ]
    },
    {
      "cell_type": "code",
      "metadata": {
        "id": "lAj21ixOcTaS",
        "colab_type": "code",
        "outputId": "c3cd37d1-ede8-4f38-9acb-2735519a50f2",
        "colab": {
          "base_uri": "https://localhost:8080/",
          "height": 170
        }
      },
      "source": [
        "!target/appassembler/bin/ApproximateNearestNeighborSearch -input sb.txt -path lucene-index-covid-scibert-fw -encoding fw -fw.q 80 -word 10.1016\\/j.jcrc.2020.03.005 -depth 5"
      ],
      "execution_count": 0,
      "outputs": [
        {
          "output_type": "stream",
          "text": [
            "Loading model sb.txt\n",
            "Reading index at lucene-index-covid-scibert-fw\n",
            "5 nearest neighbors of '10.1016/j.jcrc.2020.03.005':\n",
            "1. 10.1016/j.jcrc.2020.03.005 (33.373)\n",
            "2. 10.1101/2020.02.20.20025593 (27.445)\n",
            "3. 10.1371/journal.pmed.0030343 (27.387)\n",
            "4. 10.1101/2020.03.10.20033522 (27.378)\n",
            "5. 10.1371/journal.pmed.0040119 (27.213)\n",
            "Search time: 550ms\n"
          ],
          "name": "stdout"
        }
      ]
    },
    {
      "cell_type": "markdown",
      "metadata": {
        "id": "48FWcnstI5Vd",
        "colab_type": "text"
      },
      "source": [
        "Let's see what those related articles are... (currently, we're using crossref to fetch the articles; we're working on more seamless integration with the Pyserini, coming soon)."
      ]
    },
    {
      "cell_type": "code",
      "metadata": {
        "id": "04Szj7wA-wPq",
        "colab_type": "code",
        "colab": {}
      },
      "source": [
        "%%capture\n",
        "!pip install crossrefapi"
      ],
      "execution_count": 0,
      "outputs": []
    },
    {
      "cell_type": "code",
      "metadata": {
        "id": "LzxJ-q6z-wjX",
        "colab_type": "code",
        "outputId": "320569db-7e8a-46e1-faa5-51b347c141eb",
        "colab": {
          "base_uri": "https://localhost:8080/",
          "height": 119
        }
      },
      "source": [
        "dois = ['10.1016/j.jcrc.2020.03.005', '10.1101/2020.02.20.20025593', '10.1371/journal.pmed.0030343', \n",
        "        '10.1101/2020.03.10.20033522', '10.1371/journal.pmed.0040119']\n",
        "\n",
        "from crossref.restful import Works\n",
        "works = Works()\n",
        "\n",
        "print('related papers to \"'+works.doi(dois[0])['title'][0]+'\"\\n')\n",
        "i = 1\n",
        "for d in dois[1:]:\n",
        "  print(str(i)+'. '+works.doi(d)['title'][0])\n",
        "  i += 1"
      ],
      "execution_count": 0,
      "outputs": [
        {
          "output_type": "stream",
          "text": [
            "related papers to \"A systematic review on the efficacy and safety of chloroquine for the treatment of COVID-19\"\n",
            "\n",
            "1. The efficacy of convalescent plasma for the treatment of severe influenza\n",
            "2. SARS: Systematic Review of Treatment Effects\n",
            "3. Protocol for a randomized controlled trial testing inhaled nitric oxide therapy in spontaneously breathing patients with COVID-19\n",
            "4. Transparent Development of the WHO Rapid Advice Guidelines\n"
          ],
          "name": "stdout"
        }
      ]
    },
    {
      "cell_type": "markdown",
      "metadata": {
        "id": "cqN79VaHNDJ_",
        "colab_type": "text"
      },
      "source": [
        "Note, specifically, that we obtain a different set of results than the initial search results. This is _by design_ since related article search is a diffrent task. The results may be related in a manner that is different from the original search query.\n",
        "\n",
        "Are these results any good? They look reasonable, based on initial feedback we've gotten. However, here's where you can help... we're looking for domain experts to give us more feedback!\n",
        "If you've got any ideas, please contact us at jimmylin@uwaterloo.ca or tommaso.teofili@gmail.com!"
      ]
    }
  ]
}