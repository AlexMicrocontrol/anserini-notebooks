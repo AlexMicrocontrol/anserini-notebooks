{
  "nbformat": 4,
  "nbformat_minor": 0,
  "metadata": {
    "colab": {
      "name": "pyjnius-demo-jvm-issue-fix.ipynb",
      "provenance": [],
      "collapsed_sections": [],
      "include_colab_link": true
    },
    "kernelspec": {
      "name": "python3",
      "display_name": "Python 3"
    }
  },
  "cells": [
    {
      "cell_type": "markdown",
      "metadata": {
        "id": "view-in-github",
        "colab_type": "text"
      },
      "source": [
        "<a href=\"https://colab.research.google.com/github/castorini/anserini-notebooks/blob/master/pyjnius_demo_jvm_issue_fix.ipynb\" target=\"_parent\"><img src=\"https://colab.research.google.com/assets/colab-badge.svg\" alt=\"Open In Colab\"/></a>"
      ]
    },
    {
      "cell_type": "markdown",
      "metadata": {
        "id": "vUpmSFflwzR1",
        "colab_type": "text"
      },
      "source": [
        "# Pyjnius Demo"
      ]
    },
    {
      "cell_type": "markdown",
      "metadata": {
        "id": "-2PzgU4YxIl3",
        "colab_type": "text"
      },
      "source": [
        "\n",
        "This notebook provides a brief overview of how to configure Pyjnius (version 1.2.1) connecting to the default JVM on colab (Feb. 2020)."
      ]
    },
    {
      "cell_type": "code",
      "metadata": {
        "id": "J5DO3H1GxtIn",
        "colab_type": "code",
        "colab": {}
      },
      "source": [
        "%%capture\n",
        "!pip install pyjnius"
      ],
      "execution_count": 0,
      "outputs": []
    },
    {
      "cell_type": "markdown",
      "metadata": {
        "id": "Iy0TcJMDycNq",
        "colab_type": "text"
      },
      "source": [
        "What version of Java are we running?"
      ]
    },
    {
      "cell_type": "code",
      "metadata": {
        "id": "j_S0Ya8vdQaE",
        "colab_type": "code",
        "colab": {
          "base_uri": "https://localhost:8080/",
          "height": 187
        },
        "outputId": "91257bac-5707-4265-98df-899b91459080"
      },
      "source": [
        "!pip show pyjnius"
      ],
      "execution_count": 2,
      "outputs": [
        {
          "output_type": "stream",
          "text": [
            "Name: pyjnius\n",
            "Version: 1.2.1\n",
            "Summary: A Python module to access Java classes as Python classes using JNI.\n",
            "Home-page: https://github.com/kivy/pyjnius\n",
            "Author: Kivy Team and other contributors\n",
            "Author-email: kivy-dev@googlegroups.com\n",
            "License: UNKNOWN\n",
            "Location: /usr/local/lib/python3.6/dist-packages\n",
            "Requires: six, cython\n",
            "Required-by: \n"
          ],
          "name": "stdout"
        }
      ]
    },
    {
      "cell_type": "code",
      "metadata": {
        "id": "yGpD4xZ_yWMa",
        "colab_type": "code",
        "outputId": "74d762b2-3535-4303-b0b5-af82424f50be",
        "colab": {
          "base_uri": "https://localhost:8080/",
          "height": 68
        }
      },
      "source": [
        "!java -version"
      ],
      "execution_count": 3,
      "outputs": [
        {
          "output_type": "stream",
          "text": [
            "openjdk version \"11.0.6\" 2020-01-14\n",
            "OpenJDK Runtime Environment (build 11.0.6+10-post-Ubuntu-1ubuntu118.04.1)\n",
            "OpenJDK 64-Bit Server VM (build 11.0.6+10-post-Ubuntu-1ubuntu118.04.1, mixed mode, sharing)\n"
          ],
          "name": "stdout"
        }
      ]
    },
    {
      "cell_type": "markdown",
      "metadata": {
        "id": "f2vNd7bpJlDZ",
        "colab_type": "text"
      },
      "source": [
        "Let's try using pyjnius!"
      ]
    },
    {
      "cell_type": "code",
      "metadata": {
        "id": "E_lt0-pXJia0",
        "colab_type": "code",
        "colab": {
          "base_uri": "https://localhost:8080/",
          "height": 34
        },
        "outputId": "e41df032-7f60-443a-a762-24dc41aabb56"
      },
      "source": [
        "import os\n",
        "os.environ[\"JAVA_HOME\"] = \"/usr/lib/jvm/java-11-openjdk-amd64\"\n",
        "\n",
        "from jnius import autoclass\n",
        "\n",
        "JString = autoclass('java.lang.String')\n",
        "JString('Hello world')"
      ],
      "execution_count": 4,
      "outputs": [
        {
          "output_type": "execute_result",
          "data": {
            "text/plain": [
              "<java.lang.String at 0x7f6a32c32f10 jclass=java/lang/String jself=<LocalRef obj=0x313c350 at 0x7f6a32c208d0>>"
            ]
          },
          "metadata": {
            "tags": []
          },
          "execution_count": 4
        }
      ]
    }
  ]
}