{
 "cells": [
  {
   "cell_type": "markdown",
   "metadata": {
    "colab_type": "text",
    "id": "view-in-github"
   },
   "source": [
    "<a href=\"https://colab.research.google.com/github/castorini/anserini-notebooks/blob/master/Pyserini%2BSciBERT_on_COVID_19_Demo.ipynb\" target=\"_parent\"><img src=\"https://colab.research.google.com/assets/colab-badge.svg\" alt=\"Open In Colab\"/></a>"
   ]
  },
  {
   "cell_type": "markdown",
   "metadata": {
    "colab_type": "text",
    "id": "vUpmSFflwzR1"
   },
   "source": [
    "# Pyserini Demo on COVID-19 Dataset (Title + Abstract Index) \n",
    "# with HuggingFace Transformers based visualization\n"
   ]
  },
  {
   "cell_type": "markdown",
   "metadata": {
    "colab_type": "text",
    "id": "0RtnmBN6A-Oq"
   },
   "source": [
    "This notebook provides a demo on how to get started in searching the [COVID-19 Open Research Dataset](https://pages.semanticscholar.org/coronavirus-research) (release of 2020/03/20) from AI2.\n",
    "In this notebook, we'll be working with the title + abstract index. \n",
    "Specifically, we're not indexing the full text (that'll come later, soon!).\n"
   ]
  },
  {
   "cell_type": "code",
   "execution_count": 1,
   "metadata": {
    "colab": {},
    "colab_type": "code",
    "id": "q93fI77dY9HU"
   },
   "outputs": [],
   "source": [
    "from IPython.core.display import display, HTML"
   ]
  },
  {
   "cell_type": "markdown",
   "metadata": {
    "colab_type": "text",
    "id": "f2vNd7bpJlDZ"
   },
   "source": [
    "First, install Python dependencies"
   ]
  },
  {
   "cell_type": "code",
   "execution_count": 2,
   "metadata": {
    "colab": {},
    "colab_type": "code",
    "id": "E_lt0-pXJia0"
   },
   "outputs": [],
   "source": [
    "%%capture\n",
    "!pip install pyserini==0.8.1.0\n",
    "!pip install transformers\n",
    "\n",
    "import json\n",
    "import os\n",
    "os.environ[\"JAVA_HOME\"] = \"/usr/lib/jvm/java-11-openjdk-amd64\"\n",
    "# os.environ[\"JAVA_HOME\"] = \"/Library/Java/JavaVirtualMachines/jdk-13.0.2.jdk/Contents/Home\""
   ]
  },
  {
   "cell_type": "markdown",
   "metadata": {
    "colab_type": "text",
    "id": "xbXmstbGypef"
   },
   "source": [
    "Let's grab the pre-built index:"
   ]
  },
  {
   "cell_type": "code",
   "execution_count": 3,
   "metadata": {
    "colab": {},
    "colab_type": "code",
    "id": "JT_OJKftdqGP"
   },
   "outputs": [],
   "source": [
    "%%capture\n",
    "!wget https://www.dropbox.com/s/j1epbu4ufunbbzv/lucene-index-covid-2020-03-27.tar.gz\n",
    "!tar xvfz lucene-index-covid-2020-03-27.tar.gz"
   ]
  },
  {
   "cell_type": "markdown",
   "metadata": {},
   "source": [
    "Sanity check of index size (should be 1.3G):"
   ]
  },
  {
   "cell_type": "code",
   "execution_count": 4,
   "metadata": {
    "colab": {
     "base_uri": "https://localhost:8080/",
     "height": 34
    },
    "colab_type": "code",
    "id": "KVXWA6WS0aqJ",
    "outputId": "3f2cf09f-2891-4433-ec59-21acfba6b345"
   },
   "outputs": [
    {
     "name": "stdout",
     "output_type": "stream",
     "text": [
      "1.4G\tlucene-index-covid-2020-03-27\n"
     ]
    }
   ],
   "source": [
    "!du -h lucene-index-covid-2020-03-27"
   ]
  },
  {
   "cell_type": "markdown",
   "metadata": {
    "colab_type": "text",
    "id": "e98LWXwXSxG1"
   },
   "source": [
    "Let's load BioBERT (https://arxiv.org/abs/1901.08746) from HuggingFace Transformers"
   ]
  },
  {
   "cell_type": "code",
   "execution_count": 5,
   "metadata": {
    "colab": {},
    "colab_type": "code",
    "id": "UBlFYHejSr2H"
   },
   "outputs": [],
   "source": [
    "import torch\n",
    "import numpy\n",
    "from tqdm import tqdm\n",
    "from transformers import *\n",
    "import warnings\n",
    "warnings.simplefilter(action='ignore', category=FutureWarning)"
   ]
  },
  {
   "cell_type": "code",
   "execution_count": 6,
   "metadata": {
    "colab": {},
    "colab_type": "code",
    "id": "UBlFYHejSr2H"
   },
   "outputs": [
    {
     "data": {
      "application/vnd.jupyter.widget-view+json": {
       "model_id": "25e78d1db8734e48891502c663a4a26d",
       "version_major": 2,
       "version_minor": 0
      },
      "text/plain": [
       "HBox(children=(IntProgress(value=0, description='Downloading', max=361, style=ProgressStyle(description_width=…"
      ]
     },
     "metadata": {},
     "output_type": "display_data"
    },
    {
     "name": "stdout",
     "output_type": "stream",
     "text": [
      "\n"
     ]
    },
    {
     "data": {
      "application/vnd.jupyter.widget-view+json": {
       "model_id": "a614b8cd2e8347d3a9c3f7844b55f54c",
       "version_major": 2,
       "version_minor": 0
      },
      "text/plain": [
       "HBox(children=(IntProgress(value=0, description='Downloading', max=213450, style=ProgressStyle(description_wid…"
      ]
     },
     "metadata": {},
     "output_type": "display_data"
    },
    {
     "name": "stdout",
     "output_type": "stream",
     "text": [
      "\n"
     ]
    },
    {
     "data": {
      "application/vnd.jupyter.widget-view+json": {
       "model_id": "634939c146e94586a4af43d0142506f0",
       "version_major": 2,
       "version_minor": 0
      },
      "text/plain": [
       "HBox(children=(IntProgress(value=0, description='Downloading', max=112, style=ProgressStyle(description_width=…"
      ]
     },
     "metadata": {},
     "output_type": "display_data"
    },
    {
     "name": "stdout",
     "output_type": "stream",
     "text": [
      "\n"
     ]
    },
    {
     "data": {
      "application/vnd.jupyter.widget-view+json": {
       "model_id": "6eda94d9523149af950afe9508ddd9ea",
       "version_major": 2,
       "version_minor": 0
      },
      "text/plain": [
       "HBox(children=(IntProgress(value=0, description='Downloading', max=24, style=ProgressStyle(description_width='…"
      ]
     },
     "metadata": {},
     "output_type": "display_data"
    },
    {
     "name": "stdout",
     "output_type": "stream",
     "text": [
      "\n"
     ]
    },
    {
     "data": {
      "application/vnd.jupyter.widget-view+json": {
       "model_id": "7ce115cc29d2479ba5716d8b7ab47c95",
       "version_major": 2,
       "version_minor": 0
      },
      "text/plain": [
       "HBox(children=(IntProgress(value=0, description='Downloading', max=435780013, style=ProgressStyle(description_…"
      ]
     },
     "metadata": {},
     "output_type": "display_data"
    },
    {
     "name": "stdout",
     "output_type": "stream",
     "text": [
      "\n"
     ]
    }
   ],
   "source": [
    "tokenizer = AutoTokenizer.from_pretrained('monologg/biobert_v1.1_pubmed', do_lower_case=False)\n",
    "model = AutoModel.from_pretrained('monologg/biobert_v1.1_pubmed')"
   ]
  },
  {
   "cell_type": "markdown",
   "metadata": {
    "colab_type": "text",
    "id": "NkD0kKxW9mHP"
   },
   "source": [
    "You can use `pysearch` to search over an index. Here's the basic usage:"
   ]
  },
  {
   "cell_type": "code",
   "execution_count": 9,
   "metadata": {},
   "outputs": [],
   "source": [
    "COVID_INDEX = 'lucene-index-covid-2020-03-27/'\n",
    "\n",
    "def show_query(query):\n",
    "    \"\"\"HTML print format for the searched query\"\"\"\n",
    "    return HTML('<br/><div style=\"font-family: Times New Roman; font-size: 20px;'\n",
    "                'padding-bottom:12px\"><b>Query</b>: '+query+'</div>')\n",
    "\n",
    "def show_document(idx, doc):\n",
    "    \"\"\"HTML print format for document fields\"\"\"\n",
    "    have_body_text = 'body_text' in json.loads(doc.raw)\n",
    "    body_text = ' Full text available.' if have_body_text else ''\n",
    "    return HTML('<div style=\"font-family: Times New Roman; font-size: 18px; padding-bottom:10px\">' + \n",
    "               f'<b>Document {idx}:</b> {doc.docid} ({doc.score:1.2f}) -- ' +\n",
    "               f'{doc.lucene_document.get(\"authors\")} et al. ' +\n",
    "             # f'{doc.lucene_document.get(\"journal\")}. ' +\n",
    "             # f'{doc.lucene_document.get(\"publish_time\")}. ' +\n",
    "               f'{doc.lucene_document.get(\"title\")}. ' +\n",
    "               f'<a href=\"https://doi.org/{doc.lucene_document.get(\"doi\")}\">{doc.lucene_document.get(\"doi\")}</a>.'\n",
    "               + f'{body_text}</div>')\n",
    "\n",
    "def show_query_results(query, searcher, top_k=10):\n",
    "    \"\"\"HTML print format for the searched query\"\"\"\n",
    "    hits = searcher.search(COVID_INDEX)\n",
    "    display(show_query(query))\n",
    "    for i, hit in enumerate(hits[:top_k]):\n",
    "        display(show_document(i+1, hit))\n",
    "    return hits[:top_k]   "
   ]
  },
  {
   "cell_type": "code",
   "execution_count": 10,
   "metadata": {
    "colab": {
     "base_uri": "https://localhost:8080/",
     "height": 439
    },
    "colab_type": "code",
    "id": "yFZlcqEX0t1f",
    "outputId": "2dfd5af9-00fe-4a6c-95f2-d093c9dabea7"
   },
   "outputs": [
    {
     "data": {
      "text/html": [
       "<br/><div style=\"font-family: Times New Roman; font-size: 20px;padding-bottom:12px\"><b>Query</b>: these differences reside in the molecular structure of spike proteins and some other factors. Which receptor combination(s) will cause maximum harm</div>"
      ],
      "text/plain": [
       "<IPython.core.display.HTML object>"
      ]
     },
     "metadata": {},
     "output_type": "display_data"
    },
    {
     "data": {
      "text/html": [
       "<div style=\"font-family: Times New Roman; font-size: 18px; padding-bottom:10px\"><b>Document 1:</b> 567 (11.10) -- Dalin Li et al. Estimating the scale of COVID-19 Epidemic in the United States: Simulations Based on Air Traffic directly from Wuhan, China. <a href=\"https://doi.org/10.1101/2020.03.06.20031880\">10.1101/2020.03.06.20031880</a>.</div>"
      ],
      "text/plain": [
       "<IPython.core.display.HTML object>"
      ]
     },
     "metadata": {},
     "output_type": "display_data"
    },
    {
     "data": {
      "text/html": [
       "<div style=\"font-family: Times New Roman; font-size: 18px; padding-bottom:10px\"><b>Document 2:</b> 43833 (11.07) -- Bassey Ebenso et al. Can Nigeria contain the COVID-19 outbreak using lessons from recent epidemics?. <a href=\"https://doi.org/10.1016/s2214-109x(20)30101-7\">10.1016/s2214-109x(20)30101-7</a>. Full text available.</div>"
      ],
      "text/plain": [
       "<IPython.core.display.HTML object>"
      ]
     },
     "metadata": {},
     "output_type": "display_data"
    },
    {
     "data": {
      "text/html": [
       "<div style=\"font-family: Times New Roman; font-size: 18px; padding-bottom:10px\"><b>Document 3:</b> 2122 (10.16) -- JAMA JN Learning et al. COVID-19 Update – March 2020. <a href=\"https://doi.org/\"></a>.</div>"
      ],
      "text/plain": [
       "<IPython.core.display.HTML object>"
      ]
     },
     "metadata": {},
     "output_type": "display_data"
    },
    {
     "data": {
      "text/html": [
       "<div style=\"font-family: Times New Roman; font-size: 18px; padding-bottom:10px\"><b>Document 4:</b> 2123 (10.06) -- JAMA et al. COVID-19 Update – March 2020 | Global Health | JN Learning | JAMA Ed Hub [Video recording]. <a href=\"https://doi.org/\"></a>.</div>"
      ],
      "text/plain": [
       "<IPython.core.display.HTML object>"
      ]
     },
     "metadata": {},
     "output_type": "display_data"
    },
    {
     "data": {
      "text/html": [
       "<div style=\"font-family: Times New Roman; font-size: 18px; padding-bottom:10px\"><b>Document 5:</b> 14754 (9.99) -- Gianfranco Spiteri et al. First cases of coronavirus disease 2019 (COVID-19) in the WHO European Region, 24 January to 21 February 2020. <a href=\"https://doi.org/10.2807/1560-7917.es.2020.25.9.2000178\">10.2807/1560-7917.es.2020.25.9.2000178</a>. Full text available.</div>"
      ],
      "text/plain": [
       "<IPython.core.display.HTML object>"
      ]
     },
     "metadata": {},
     "output_type": "display_data"
    },
    {
     "data": {
      "text/html": [
       "<div style=\"font-family: Times New Roman; font-size: 18px; padding-bottom:10px\"><b>Document 6:</b> 720 (9.82) -- Amirhoshang Hoseinpour Dehkordi et al. Understanding Epidemic Data and Statistics: A case study of COVID-19. <a href=\"https://doi.org/10.1101/2020.03.15.20036418\">10.1101/2020.03.15.20036418</a>. Full text available.</div>"
      ],
      "text/plain": [
       "<IPython.core.display.HTML object>"
      ]
     },
     "metadata": {},
     "output_type": "display_data"
    },
    {
     "data": {
      "text/html": [
       "<div style=\"font-family: Times New Roman; font-size: 18px; padding-bottom:10px\"><b>Document 7:</b> 318 (9.20) -- Jinhua Pan et al. Effectiveness of control strategies for Coronavirus Disease 2019: a SEIR dynamic modeling study. <a href=\"https://doi.org/10.1101/2020.02.19.20025387\">10.1101/2020.02.19.20025387</a>.</div>"
      ],
      "text/plain": [
       "<IPython.core.display.HTML object>"
      ]
     },
     "metadata": {},
     "output_type": "display_data"
    },
    {
     "data": {
      "text/html": [
       "<div style=\"font-family: Times New Roman; font-size: 18px; padding-bottom:10px\"><b>Document 8:</b> 44201 (9.02) -- Najmul Haider et al. Passengers' destinations from China: low risk of Novel Coronavirus (2019-nCoV) transmission into Africa and South America. <a href=\"https://doi.org/10.1017/s0950268820000424\">10.1017/s0950268820000424</a>. Full text available.</div>"
      ],
      "text/plain": [
       "<IPython.core.display.HTML object>"
      ]
     },
     "metadata": {},
     "output_type": "display_data"
    },
    {
     "data": {
      "text/html": [
       "<div style=\"font-family: Times New Roman; font-size: 18px; padding-bottom:10px\"><b>Document 9:</b> 44920 (9.01) -- Rodgers R Ayebare et al. Adoption of COVID-19 triage strategies for low-income settings. <a href=\"https://doi.org/10.1016/s2213-2600(20)30114-4\">10.1016/s2213-2600(20)30114-4</a>. Full text available.</div>"
      ],
      "text/plain": [
       "<IPython.core.display.HTML object>"
      ]
     },
     "metadata": {},
     "output_type": "display_data"
    },
    {
     "data": {
      "text/html": [
       "<div style=\"font-family: Times New Roman; font-size: 18px; padding-bottom:10px\"><b>Document 10:</b> 489 (9.00) -- Ashleigh Tuite et al. Estimation of COVID-19 outbreak size in Italy based on international case exportations. <a href=\"https://doi.org/10.1101/2020.03.02.20030049\">10.1101/2020.03.02.20030049</a>. Full text available.</div>"
      ],
      "text/plain": [
       "<IPython.core.display.HTML object>"
      ]
     },
     "metadata": {},
     "output_type": "display_data"
    }
   ],
   "source": [
    "from pyserini.search import pysearch\n",
    "\n",
    "searcher = pysearch.SimpleSearcher(COVID_INDEX)\n",
    "query = ('these differences reside in the molecular structure of spike proteins and some other factors. Which receptor combination(s) will cause maximum harm')\n",
    "hits = show_query_results(query, searcher, top_k=10)"
   ]
  },
  {
   "cell_type": "markdown",
   "metadata": {
    "colab_type": "text",
    "id": "iiXaE-TDH7uc"
   },
   "source": [
    "From the hits array, use `.lucene_document` to access the underlying indexed Lucene `Document`, and from there, call `.get(field)` to fetch specific fields, like \"title\", \"doc\", etc.\n",
    "The complete list of available fields is [here](https://github.com/castorini/anserini/blob/master/src/main/java/io/anserini/index/generator/CovidGenerator.java#L46)."
   ]
  },
  {
   "cell_type": "markdown",
   "metadata": {
    "colab_type": "text",
    "id": "7Hbca-fTUDC-"
   },
   "source": [
    "Let's extract contextualized vectors of queries and abstracts from SciBERT for highlighting relevant paragraphs."
   ]
  },
  {
   "cell_type": "markdown",
   "metadata": {
    "colab_type": "text",
    "id": "AWUg03EjXF-1"
   },
   "source": [
    "First, extract the contextualized vectors of the query above:\n",
    "\n",
    "$$q_1, \\ldots, q_T = \\text{SciBERT}(\\text{query})$$"
   ]
  },
  {
   "cell_type": "code",
   "execution_count": 13,
   "metadata": {
    "colab": {},
    "colab_type": "code",
    "id": "hWmb-SWKTcu1"
   },
   "outputs": [],
   "source": [
    "def extract_scibert(text, tokenizer, model):\n",
    "    text_ids = torch.tensor([tokenizer.encode(text, add_special_tokens=True)])\n",
    "    text_words = tokenizer.convert_ids_to_tokens(text_ids[0])[1:-1]\n",
    "\n",
    "    n_chunks = int(numpy.ceil(float(text_ids.size(1))/512))\n",
    "    states = []\n",
    "    \n",
    "    for ci in range(n_chunks):\n",
    "        text_ids_ = text_ids[0, 1+ci*512:1+(ci+1)*512]            \n",
    "        torch.cat([text_ids[0, 0].unsqueeze(0), text_ids_])\n",
    "        if text_ids[0, -1] != text_ids[0, -1]:\n",
    "            torch.cat([text_ids, text_ids[0,-1].unsqueeze(0)])\n",
    "        \n",
    "        with torch.no_grad():\n",
    "            state = model(text_ids_.unsqueeze(0))[0]\n",
    "            state = state[:, 1:-1, :]\n",
    "        states.append(state)\n",
    "\n",
    "    state = torch.cat(states, axis=1)\n",
    "    return text_ids, text_words, state[0]"
   ]
  },
  {
   "cell_type": "code",
   "execution_count": 14,
   "metadata": {
    "colab": {},
    "colab_type": "code",
    "id": "e9gFCKohUXNP"
   },
   "outputs": [],
   "source": [
    "query_ids, query_words, query_state = extract_scibert(query, tokenizer, model)"
   ]
  },
  {
   "cell_type": "markdown",
   "metadata": {
    "colab_type": "text",
    "id": "IcAVwQdCXE_P"
   },
   "source": [
    "Second, let's extract contextualized vectors of all the paragraphs from the hit #7:\n",
    "\n",
    "$$p_1^k, \\ldots, p_{T_k}^k = \\text{SciBERT}(\\text{paragraph}^k)$$"
   ]
  },
  {
   "cell_type": "code",
   "execution_count": 22,
   "metadata": {
    "colab": {
     "base_uri": "https://localhost:8080/",
     "height": 34
    },
    "colab_type": "code",
    "id": "d-NG7C1CUbDg",
    "outputId": "9d5db119-9a68-4de0-9ad0-8448ec93768f"
   },
   "outputs": [
    {
     "name": "stderr",
     "output_type": "stream",
     "text": [
      "100%|██████████| 6/6 [00:00<00:00,  7.50it/s]\n"
     ]
    }
   ],
   "source": [
    "ii = 8\n",
    "doc_json = json.loads(hits[ii].raw)\n",
    "\n",
    "paragraph_states = []\n",
    "for par in tqdm(doc_json['body_text']):\n",
    "    state = extract_scibert(par['text'], tokenizer, model)\n",
    "    paragraph_states.append(state)"
   ]
  },
  {
   "cell_type": "markdown",
   "metadata": {
    "colab_type": "text",
    "id": "p_bUm3TOXWdY"
   },
   "source": [
    "We then compute the cosine similarity matrix between the query and each paragraph:\n",
    "\n",
    "$$A^k = [a^k_{ij}] \\in \\mathbb{R}^{|\\text{query}| \\times |\\text{paragraph}^k|},$$\n",
    "\n",
    "where\n",
    "\n",
    "$$a^k_{ij} = \\frac{q_i^\\top p_j^k}{\\| q_i \\| \\| p_j^k \\|}$$\n"
   ]
  },
  {
   "cell_type": "code",
   "execution_count": 23,
   "metadata": {
    "colab": {},
    "colab_type": "code",
    "id": "m6oZIW3OUbLv"
   },
   "outputs": [],
   "source": [
    "def cross_match(state1, state2):\n",
    "    state1 = state1 / torch.sqrt((state1 ** 2).sum(1, keepdims=True))\n",
    "    state2 = state2 / torch.sqrt((state2 ** 2).sum(1, keepdims=True))\n",
    "    sim = (state1.unsqueeze(1) * state2.unsqueeze(0)).sum(-1)\n",
    "    return sim"
   ]
  },
  {
   "cell_type": "code",
   "execution_count": 24,
   "metadata": {
    "colab": {
     "base_uri": "https://localhost:8080/",
     "height": 34
    },
    "colab_type": "code",
    "id": "MK8Na3sGUbSG",
    "outputId": "b4cee510-a39d-4a44-f207-529a3f611673"
   },
   "outputs": [
    {
     "name": "stderr",
     "output_type": "stream",
     "text": [
      "6it [00:00, 218.24it/s]\n"
     ]
    }
   ],
   "source": [
    "sim_matrices = []\n",
    "for pid, par in tqdm(enumerate(doc_json['body_text'])):\n",
    "    sim_score = cross_match(query_state, paragraph_states[pid][-1])\n",
    "    sim_matrices.append(sim_score)"
   ]
  },
  {
   "cell_type": "markdown",
   "metadata": {
    "colab_type": "text",
    "id": "oRKhDGzdXYr4"
   },
   "source": [
    "Let's retrieve the most relevant paragraphs first, where define the top-$M$ most relevant paragraphs as \n",
    "\n",
    "$$\\arg\\text{top-$M$}_{k=1}^K \\max_{i=1,\\ldots,|\\text{query}|} \\max_{j=1,\\ldots, |\\text{paragraph}^k|} A_{ij}^k$$\n",
    "\n",
    "that is, a paragraph with the highly matched words to the query words is considered relevant."
   ]
  },
  {
   "cell_type": "code",
   "execution_count": 25,
   "metadata": {
    "colab": {},
    "colab_type": "code",
    "id": "-3hJ1dAAUSWQ"
   },
   "outputs": [],
   "source": [
    "paragraph_relevance = [torch.max(sim).item() for sim in sim_matrices]\n",
    "\n",
    "# Select the index of top 5 paragraphs with highest relevance\n",
    "rel_index = numpy.argsort(paragraph_relevance)[-5:][::-1]"
   ]
  },
  {
   "cell_type": "code",
   "execution_count": 26,
   "metadata": {
    "colab": {
     "base_uri": "https://localhost:8080/",
     "height": 537
    },
    "colab_type": "code",
    "id": "bQhkuCc1Xp8s",
    "outputId": "43f485ee-2e33-433a-ed71-e1c52fa715f6"
   },
   "outputs": [
    {
     "data": {
      "text/html": [
       "<br/><div style=\"font-family: Times New Roman; font-size: 20px;padding-bottom:12px\"><b>Query</b>: these differences reside in the molecular structure of spike proteins and some other factors. Which receptor combination(s) will cause maximum harm</div>"
      ],
      "text/plain": [
       "<IPython.core.display.HTML object>"
      ]
     },
     "metadata": {},
     "output_type": "display_data"
    },
    {
     "data": {
      "text/html": [
       "<div style=\"font-family: Times New Roman; font-size: 18px; padding-bottom:10px\"><b>Document 8:</b> 44920 (9.01) -- Rodgers R Ayebare et al. Adoption of COVID-19 triage strategies for low-income settings. <a href=\"https://doi.org/10.1016/s2213-2600(20)30114-4\">10.1016/s2213-2600(20)30114-4</a>. Full text available.</div>"
      ],
      "text/plain": [
       "<IPython.core.display.HTML object>"
      ]
     },
     "metadata": {},
     "output_type": "display_data"
    },
    {
     "data": {
      "text/html": [
       "<div style=\"font-family: Times New Roman; font-size: 18px; padding-bottom:10px; margin-left: 15px\"><b>Adoption of COVID-19 triage strategies for low-income settings</b> -- Despite major advances in epidemic preparedness , Africa remains uniquely susceptible to novel coronavirus disease 2019 . According to the Infectious Disease Vulnerability Index , 1 22 of the 25 countries most susceptible to an infectious disease outbreak are in Africa . The high prevalence of HIV , tuberculosis , and other pathogens might potentiate the severity of COVID - 19 and contribute to diagnostic uncertainty . Health - care systems and human resources are already spread thin . And although the young age of the population ( with more than half aged younger than 20 years ) might prove protective , it also means that Africa has much to lose in terms of disabilityadjusted life years . On Feb 27 , 2020 , the first case of COVID - 19 in sub - Saharan Africa was reported in Nigeria , making spread in the region more probable . 2 While preparing a response to COVID - 19 outbreak in Uganda , we read Jinnong Zhang and colleagues ' work with great interest . 3 We commend the authors for distilling complex information regarding triage and clinical care for patients who have a novel pathogen , for which there is little evidence , into a succinct flowchart . Unfortunately , many aspects of their algorithm would not be feasible in our setting . Chest CT , complete blood counts with differential , and C - reactive protein are all central to their algorithm , and none are routinely available in Uganda . </div>"
      ],
      "text/plain": [
       "<IPython.core.display.HTML object>"
      ]
     },
     "metadata": {},
     "output_type": "display_data"
    },
    {
     "data": {
      "text/html": [
       "<div style=\"font-family: Times New Roman; font-size: 18px; padding-bottom:10px; margin-left: 15px\"><b>Adoption of COVID-19 triage strategies for low-income settings</b> -- Our algorithm triages patients initially on the basis of fever ( subjective or measured ) or cough - symptoms that are near ubiquitous among patients with COVID - 19 . 4 If these symptoms are combined with epidemiological risk , then patients are isolated , appropriate infection prevention and control measures are implemented , and testing for severe acute respiratory syndrome coronavirus 2 ( SARS - CoV - 2 ) is initiated . This approach is simple and uses readily available technology . The most advanced tool required is a thermometer . </div>"
      ],
      "text/plain": [
       "<IPython.core.display.HTML object>"
      ]
     },
     "metadata": {},
     "output_type": "display_data"
    },
    {
     "data": {
      "text/html": [
       "<div style=\"font-family: Times New Roman; font-size: 18px; padding-bottom:10px; margin-left: 15px\"><b>Adoption of COVID-19 triage strategies for low-income settings</b> -- Elimination of chest imaging is an important departure of our proposed approach . Although an important part of clinical care , we could not envision a situation in which chest x - ray findings would change who was prioritised for testing . Furthermore , chest x - ray is not available at a large proportion of health facilities in Uganda , 5 and we did not want to ask health workers to navigate an impossible flowchart . </div>"
      ],
      "text/plain": [
       "<IPython.core.display.HTML object>"
      ]
     },
     "metadata": {},
     "output_type": "display_data"
    },
    {
     "data": {
      "text/html": [
       "<div style=\"font-family: Times New Roman; font-size: 18px; padding-bottom:10px; margin-left: 15px\"><b>Adoption of COVID-19 triage strategies for low-income settings</b> -- Our algorithm is not intended to lead the health worker to every possible diagnosis . Rather , it is meant to be a rapid and simple tool to decide who requires isolation and targeted testing for SARS - CoV - 2 . Tuberculosis and community - acquired pneumonia are particularly common in this setting and their presentation could easily mimic COVID - 19 . The astute clinician should consider these and other disease processes as part of a comprehensive clinical evaluation . </div>"
      ],
      "text/plain": [
       "<IPython.core.display.HTML object>"
      ]
     },
     "metadata": {},
     "output_type": "display_data"
    },
    {
     "data": {
      "text/html": [
       "<div style=\"font-family: Times New Roman; font-size: 18px; padding-bottom:10px; margin-left: 15px\"><b>Adoption of COVID-19 triage strategies for low-income settings</b> -- The rapid pace of information means that the ideal approach is likely to change over the coming weeks . Should SARS - CoV - 2 continue to spread , the utility of an epidemiological risk question will rapidly fade . For now , we hope this is a simple and reasonable approach that will be helpful for other countries in our region as they prepare for what is to come . ML </div>"
      ],
      "text/plain": [
       "<IPython.core.display.HTML object>"
      ]
     },
     "metadata": {},
     "output_type": "display_data"
    }
   ],
   "source": [
    "def show_sections(section, text):\n",
    "    \"\"\"HTML print format for document subsections\"\"\"\n",
    "    return HTML('<div style=\"font-family: Times New Roman; font-size: 18px; padding-bottom:10px; margin-left: 15px\">' + \n",
    "        f'<b>{section}</b> -- {text.replace(\" ##\",\"\")} </div>')\n",
    "\n",
    "display(show_query(query))\n",
    "display(show_document(ii, hits[ii]))\n",
    "for ri in numpy.sort(rel_index):\n",
    "    display(show_sections(doc_json[\"body_text\"][ri]['section'], \" \".join(paragraph_states[ri][1])))"
   ]
  },
  {
   "cell_type": "markdown",
   "metadata": {
    "colab_type": "text",
    "id": "d3H0XQ8IZfAN"
   },
   "source": [
    "We want to look at more details by highlighting relevant phrases in each paragraph, where we define relevant phrases for each paragraph as\n",
    "\n",
    "$$\\arg\\text{top-$M$}_{j=1,\\ldots, |\\text{paragraph}^k|} \\max_{i=1,\\ldots,|\\text{query}|} A_{ij}^k$$\n",
    "\n",
    "that is, any word that had a high similarity to each of the query words is considered relevant. given these words, we highlight a window of 10 surrounding each of them."
   ]
  },
  {
   "cell_type": "code",
   "execution_count": 27,
   "metadata": {},
   "outputs": [],
   "source": [
    "def highlight_paragraph(ptext, rel_words, max_win=10):\n",
    "    para = \"\"\n",
    "    prev_idx = 0\n",
    "    for jj in rel_words:\n",
    "        \n",
    "        if prev_idx > jj:\n",
    "            continue\n",
    "        \n",
    "        found_start = False\n",
    "        for kk in range(jj, prev_idx-1, -1):\n",
    "            if ptext[kk] == \".\" and (ptext[kk+1][0].isupper() or ptext[kk+1][0] == '['):\n",
    "                sent_start = kk\n",
    "                found_start = True\n",
    "                break\n",
    "        if not found_start:\n",
    "            sent_start = prev_idx-1\n",
    "            \n",
    "        found_end = False\n",
    "        for kk in range(jj, len(ptext)-1):\n",
    "            if ptext[kk] == \".\" and (ptext[kk+1][0].isupper() or ptext[kk+1][0] == '['):\n",
    "                sent_end = kk\n",
    "                found_end = True\n",
    "                break\n",
    "                \n",
    "        if not found_end:\n",
    "            if kk >= len(ptext) - 2:\n",
    "                sent_end = len(ptext)\n",
    "            else:\n",
    "                sent_end = jj\n",
    "        \n",
    "        para = para + \" \"\n",
    "        para = para + \" \".join(ptext[prev_idx:sent_start+1])\n",
    "        para = para + \" <font color='blue'>\"\n",
    "        para = para + \" \".join(ptext[sent_start+1:sent_end])\n",
    "        para = para + \"</font> \"\n",
    "        prev_idx = sent_end\n",
    "        \n",
    "    if prev_idx < len(ptext):\n",
    "        para = para + \" \".join(ptext[prev_idx:])\n",
    "\n",
    "    return para"
   ]
  },
  {
   "cell_type": "code",
   "execution_count": 28,
   "metadata": {
    "colab": {
     "base_uri": "https://localhost:8080/",
     "height": 647
    },
    "colab_type": "code",
    "id": "ZMxkQ0_PZiOQ",
    "outputId": "784d6f4d-6889-4b08-de67-fb089becd6f8"
   },
   "outputs": [
    {
     "data": {
      "text/html": [
       "<br/><div style=\"font-family: Times New Roman; font-size: 20px;padding-bottom:12px\"><b>Query</b>: these differences reside in the molecular structure of spike proteins and some other factors. Which receptor combination(s) will cause maximum harm</div>"
      ],
      "text/plain": [
       "<IPython.core.display.HTML object>"
      ]
     },
     "metadata": {},
     "output_type": "display_data"
    },
    {
     "data": {
      "text/html": [
       "<div style=\"font-family: Times New Roman; font-size: 18px; padding-bottom:10px\"><b>Document 8:</b> 44920 (9.01) -- Rodgers R Ayebare et al. Adoption of COVID-19 triage strategies for low-income settings. <a href=\"https://doi.org/10.1016/s2213-2600(20)30114-4\">10.1016/s2213-2600(20)30114-4</a>. Full text available.</div>"
      ],
      "text/plain": [
       "<IPython.core.display.HTML object>"
      ]
     },
     "metadata": {},
     "output_type": "display_data"
    },
    {
     "data": {
      "text/html": [
       "<div style=\"font-family: Times New Roman; font-size: 18px; padding-bottom:10px; margin-left: 15px\"><b>Adoption of COVID-19 triage strategies for low-income settings</b> --  Despite major advances in epidemic preparedness , Africa remains uniquely susceptible to novel coronavirus disease 2019 . According to the Infectious Disease Vulnerability Index , 1 22 of the 25 countries most susceptible to an infectious disease outbreak are in Africa . <font color='blue'>The high prevalence of HIV , tuberculosis , and other pathogens might potentiate the severity of COVID - 19 and contribute to diagnostic uncertainty</font> . Health - care systems and human resources are already spread thin . And although the young age of the population ( with more than half aged younger than 20 years ) might prove protective , it also means that Africa has much to lose in terms of disabilityadjusted life years . On Feb 27 , 2020 , the first case of COVID - 19 in sub - Saharan Africa was reported in Nigeria , making spread in the region more probable . 2 While preparing a response to COVID - 19 outbreak in Uganda , we read Jinnong Zhang and colleagues ' work with great interest . 3 We commend the authors for distilling complex information regarding triage and clinical care for patients who have a novel pathogen , for which there is little evidence , into a succinct flowchart . Unfortunately , many aspects of their algorithm would not be feasible in our setting . Chest CT , complete blood counts with differential , and C - reactive protein are all central to their algorithm , and none are routinely available in Uganda . </div>"
      ],
      "text/plain": [
       "<IPython.core.display.HTML object>"
      ]
     },
     "metadata": {},
     "output_type": "display_data"
    },
    {
     "data": {
      "text/html": [
       "<div style=\"font-family: Times New Roman; font-size: 18px; padding-bottom:10px; margin-left: 15px\"><b>Adoption of COVID-19 triage strategies for low-income settings</b> --   <font color='blue'>Our algorithm triages patients initially on the basis of fever ( subjective or measured ) or cough - symptoms that are near ubiquitous among patients with COVID - 19 . 4 If these symptoms are combined with epidemiological risk , then patients are isolated , appropriate infection prevention and control measures are implemented , and testing for severe acute respiratory syndrome coronavirus 2 ( SARS - CoV - 2 ) is initiated</font>  . <font color='blue'>This approach is simple and uses readily available technology</font> . The most advanced tool required is a thermometer . </div>"
      ],
      "text/plain": [
       "<IPython.core.display.HTML object>"
      ]
     },
     "metadata": {},
     "output_type": "display_data"
    },
    {
     "data": {
      "text/html": [
       "<div style=\"font-family: Times New Roman; font-size: 18px; padding-bottom:10px; margin-left: 15px\"><b>Adoption of COVID-19 triage strategies for low-income settings</b> --   <font color='blue'>Elimination of chest imaging is an important departure of our proposed approach</font>  . Although an important part of clinical care , we could not envision a situation in which chest x - ray findings would change who was prioritised for testing . <font color='blue'>Furthermore , chest x - ray is not available at a large proportion of health facilities in Uganda , 5 and we did not want to ask health workers to navigate an impossible flowchart .</font>  </div>"
      ],
      "text/plain": [
       "<IPython.core.display.HTML object>"
      ]
     },
     "metadata": {},
     "output_type": "display_data"
    },
    {
     "data": {
      "text/html": [
       "<div style=\"font-family: Times New Roman; font-size: 18px; padding-bottom:10px; margin-left: 15px\"><b>Adoption of COVID-19 triage strategies for low-income settings</b> --  Our algorithm is not intended to lead the health worker to every possible diagnosis . Rather , it is meant to be a rapid and simple tool to decide who requires isolation and targeted testing for SARS - CoV - 2 . Tuberculosis and community - acquired pneumonia are particularly common in this setting and their presentation could easily mimic COVID - 19 . <font color='blue'>The astute clinician should consider these and other disease processes as part of a comprehensive clinical evaluation .</font>  </div>"
      ],
      "text/plain": [
       "<IPython.core.display.HTML object>"
      ]
     },
     "metadata": {},
     "output_type": "display_data"
    },
    {
     "data": {
      "text/html": [
       "<div style=\"font-family: Times New Roman; font-size: 18px; padding-bottom:10px; margin-left: 15px\"><b>Adoption of COVID-19 triage strategies for low-income settings</b> --   <font color='blue'>The rapid pace of information means that the ideal approach is likely to change over the coming weeks</font>  . Should SARS - CoV - 2 continue to spread , the utility of an epidemiological risk question will rapidly fade . <font color='blue'>For now , we hope this is a simple and reasonable approach that will be helpful for other countries in our region as they prepare for what is to come</font> . ML </div>"
      ],
      "text/plain": [
       "<IPython.core.display.HTML object>"
      ]
     },
     "metadata": {},
     "output_type": "display_data"
    }
   ],
   "source": [
    "display(show_query(query))\n",
    "\n",
    "display(show_document(ii, hits[ii]))\n",
    "\n",
    "for ri in numpy.sort(rel_index):\n",
    "    sim = sim_matrices[ri].data.numpy()\n",
    "    \n",
    "    # Select the two highest scoring words in the paragraph\n",
    "    rel_words = numpy.sort(numpy.argsort(sim.max(0))[-2:][::-1])\n",
    "    p_tokens = paragraph_states[ri][1]\n",
    "    para = highlight_paragraph(p_tokens, rel_words)\n",
    "    display(show_sections(doc_json[\"body_text\"][ri]['section'], para))"
   ]
  },
  {
   "cell_type": "code",
   "execution_count": null,
   "metadata": {},
   "outputs": [],
   "source": []
  }
 ],
 "metadata": {
  "accelerator": "GPU",
  "colab": {
   "collapsed_sections": [],
   "include_colab_link": true,
   "name": "Copy of pyserini-covid19-default-demo.ipynb",
   "provenance": []
  },
  "kernelspec": {
   "display_name": "Python 3",
   "language": "python",
   "name": "python3"
  },
  "language_info": {
   "codemirror_mode": {
    "name": "ipython",
    "version": 3
   },
   "file_extension": ".py",
   "mimetype": "text/x-python",
   "name": "python",
   "nbconvert_exporter": "python",
   "pygments_lexer": "ipython3",
   "version": "3.7.4"
  },
  "widgets": {
   "application/vnd.jupyter.widget-state+json": {
    "02c8c6601fd74532908897dd6ba00642": {
     "model_module": "@jupyter-widgets/controls",
     "model_name": "HTMLModel",
     "state": {
      "_dom_classes": [],
      "_model_module": "@jupyter-widgets/controls",
      "_model_module_version": "1.5.0",
      "_model_name": "HTMLModel",
      "_view_count": null,
      "_view_module": "@jupyter-widgets/controls",
      "_view_module_version": "1.5.0",
      "_view_name": "HTMLView",
      "description": "",
      "description_tooltip": null,
      "layout": "IPY_MODEL_1ef1ac1d6c1e456caa6992593d367352",
      "placeholder": "​",
      "style": "IPY_MODEL_d8178af03865496db91a56d5d3a0cc57",
      "value": " 313/313 [00:01&lt;00:00, 187B/s]"
     }
    },
    "0ef3894860ad41328dd9540076c684bf": {
     "model_module": "@jupyter-widgets/controls",
     "model_name": "IntProgressModel",
     "state": {
      "_dom_classes": [],
      "_model_module": "@jupyter-widgets/controls",
      "_model_module_version": "1.5.0",
      "_model_name": "IntProgressModel",
      "_view_count": null,
      "_view_module": "@jupyter-widgets/controls",
      "_view_module_version": "1.5.0",
      "_view_name": "ProgressView",
      "bar_style": "success",
      "description": "Downloading: 100%",
      "description_tooltip": null,
      "layout": "IPY_MODEL_da75ddbf1b5f40b29c5b3b09a9c3d843",
      "max": 222296,
      "min": 0,
      "orientation": "horizontal",
      "style": "IPY_MODEL_31117b7d0d624f50acc63317961c1633",
      "value": 222296
     }
    },
    "1ef1ac1d6c1e456caa6992593d367352": {
     "model_module": "@jupyter-widgets/base",
     "model_name": "LayoutModel",
     "state": {
      "_model_module": "@jupyter-widgets/base",
      "_model_module_version": "1.2.0",
      "_model_name": "LayoutModel",
      "_view_count": null,
      "_view_module": "@jupyter-widgets/base",
      "_view_module_version": "1.2.0",
      "_view_name": "LayoutView",
      "align_content": null,
      "align_items": null,
      "align_self": null,
      "border": null,
      "bottom": null,
      "display": null,
      "flex": null,
      "flex_flow": null,
      "grid_area": null,
      "grid_auto_columns": null,
      "grid_auto_flow": null,
      "grid_auto_rows": null,
      "grid_column": null,
      "grid_gap": null,
      "grid_row": null,
      "grid_template_areas": null,
      "grid_template_columns": null,
      "grid_template_rows": null,
      "height": null,
      "justify_content": null,
      "justify_items": null,
      "left": null,
      "margin": null,
      "max_height": null,
      "max_width": null,
      "min_height": null,
      "min_width": null,
      "object_fit": null,
      "object_position": null,
      "order": null,
      "overflow": null,
      "overflow_x": null,
      "overflow_y": null,
      "padding": null,
      "right": null,
      "top": null,
      "visibility": null,
      "width": null
     }
    },
    "31117b7d0d624f50acc63317961c1633": {
     "model_module": "@jupyter-widgets/controls",
     "model_name": "ProgressStyleModel",
     "state": {
      "_model_module": "@jupyter-widgets/controls",
      "_model_module_version": "1.5.0",
      "_model_name": "ProgressStyleModel",
      "_view_count": null,
      "_view_module": "@jupyter-widgets/base",
      "_view_module_version": "1.2.0",
      "_view_name": "StyleView",
      "bar_color": null,
      "description_width": "initial"
     }
    },
    "3fc159bfdb1b46ea8b6d462f43c42980": {
     "model_module": "@jupyter-widgets/controls",
     "model_name": "ProgressStyleModel",
     "state": {
      "_model_module": "@jupyter-widgets/controls",
      "_model_module_version": "1.5.0",
      "_model_name": "ProgressStyleModel",
      "_view_count": null,
      "_view_module": "@jupyter-widgets/base",
      "_view_module_version": "1.2.0",
      "_view_name": "StyleView",
      "bar_color": null,
      "description_width": "initial"
     }
    },
    "4e91ba3985ab4306bf68027b01de8e49": {
     "model_module": "@jupyter-widgets/base",
     "model_name": "LayoutModel",
     "state": {
      "_model_module": "@jupyter-widgets/base",
      "_model_module_version": "1.2.0",
      "_model_name": "LayoutModel",
      "_view_count": null,
      "_view_module": "@jupyter-widgets/base",
      "_view_module_version": "1.2.0",
      "_view_name": "LayoutView",
      "align_content": null,
      "align_items": null,
      "align_self": null,
      "border": null,
      "bottom": null,
      "display": null,
      "flex": null,
      "flex_flow": null,
      "grid_area": null,
      "grid_auto_columns": null,
      "grid_auto_flow": null,
      "grid_auto_rows": null,
      "grid_column": null,
      "grid_gap": null,
      "grid_row": null,
      "grid_template_areas": null,
      "grid_template_columns": null,
      "grid_template_rows": null,
      "height": null,
      "justify_content": null,
      "justify_items": null,
      "left": null,
      "margin": null,
      "max_height": null,
      "max_width": null,
      "min_height": null,
      "min_width": null,
      "object_fit": null,
      "object_position": null,
      "order": null,
      "overflow": null,
      "overflow_x": null,
      "overflow_y": null,
      "padding": null,
      "right": null,
      "top": null,
      "visibility": null,
      "width": null
     }
    },
    "55f0585b2b9c4872b76215540fe2d010": {
     "model_module": "@jupyter-widgets/controls",
     "model_name": "ProgressStyleModel",
     "state": {
      "_model_module": "@jupyter-widgets/controls",
      "_model_module_version": "1.5.0",
      "_model_name": "ProgressStyleModel",
      "_view_count": null,
      "_view_module": "@jupyter-widgets/base",
      "_view_module_version": "1.2.0",
      "_view_name": "StyleView",
      "bar_color": null,
      "description_width": "initial"
     }
    },
    "5afdbf46d5c246e98d0fa4fd7a0bd52b": {
     "model_module": "@jupyter-widgets/base",
     "model_name": "LayoutModel",
     "state": {
      "_model_module": "@jupyter-widgets/base",
      "_model_module_version": "1.2.0",
      "_model_name": "LayoutModel",
      "_view_count": null,
      "_view_module": "@jupyter-widgets/base",
      "_view_module_version": "1.2.0",
      "_view_name": "LayoutView",
      "align_content": null,
      "align_items": null,
      "align_self": null,
      "border": null,
      "bottom": null,
      "display": null,
      "flex": null,
      "flex_flow": null,
      "grid_area": null,
      "grid_auto_columns": null,
      "grid_auto_flow": null,
      "grid_auto_rows": null,
      "grid_column": null,
      "grid_gap": null,
      "grid_row": null,
      "grid_template_areas": null,
      "grid_template_columns": null,
      "grid_template_rows": null,
      "height": null,
      "justify_content": null,
      "justify_items": null,
      "left": null,
      "margin": null,
      "max_height": null,
      "max_width": null,
      "min_height": null,
      "min_width": null,
      "object_fit": null,
      "object_position": null,
      "order": null,
      "overflow": null,
      "overflow_x": null,
      "overflow_y": null,
      "padding": null,
      "right": null,
      "top": null,
      "visibility": null,
      "width": null
     }
    },
    "5c40586819754261a141a6b88396e38b": {
     "model_module": "@jupyter-widgets/base",
     "model_name": "LayoutModel",
     "state": {
      "_model_module": "@jupyter-widgets/base",
      "_model_module_version": "1.2.0",
      "_model_name": "LayoutModel",
      "_view_count": null,
      "_view_module": "@jupyter-widgets/base",
      "_view_module_version": "1.2.0",
      "_view_name": "LayoutView",
      "align_content": null,
      "align_items": null,
      "align_self": null,
      "border": null,
      "bottom": null,
      "display": null,
      "flex": null,
      "flex_flow": null,
      "grid_area": null,
      "grid_auto_columns": null,
      "grid_auto_flow": null,
      "grid_auto_rows": null,
      "grid_column": null,
      "grid_gap": null,
      "grid_row": null,
      "grid_template_areas": null,
      "grid_template_columns": null,
      "grid_template_rows": null,
      "height": null,
      "justify_content": null,
      "justify_items": null,
      "left": null,
      "margin": null,
      "max_height": null,
      "max_width": null,
      "min_height": null,
      "min_width": null,
      "object_fit": null,
      "object_position": null,
      "order": null,
      "overflow": null,
      "overflow_x": null,
      "overflow_y": null,
      "padding": null,
      "right": null,
      "top": null,
      "visibility": null,
      "width": null
     }
    },
    "69b31d9a127846ce9a085c1718361919": {
     "model_module": "@jupyter-widgets/controls",
     "model_name": "HBoxModel",
     "state": {
      "_dom_classes": [],
      "_model_module": "@jupyter-widgets/controls",
      "_model_module_version": "1.5.0",
      "_model_name": "HBoxModel",
      "_view_count": null,
      "_view_module": "@jupyter-widgets/controls",
      "_view_module_version": "1.5.0",
      "_view_name": "HBoxView",
      "box_style": "",
      "children": [
       "IPY_MODEL_f672e067718a47e9bc1a741bbaa9dd36",
       "IPY_MODEL_02c8c6601fd74532908897dd6ba00642"
      ],
      "layout": "IPY_MODEL_ab609f410fa845ba86388ae0cdd8e308"
     }
    },
    "82b06cc5c5684ef5b6502eb99a6d32ec": {
     "model_module": "@jupyter-widgets/controls",
     "model_name": "IntProgressModel",
     "state": {
      "_dom_classes": [],
      "_model_module": "@jupyter-widgets/controls",
      "_model_module_version": "1.5.0",
      "_model_name": "IntProgressModel",
      "_view_count": null,
      "_view_module": "@jupyter-widgets/controls",
      "_view_module_version": "1.5.0",
      "_view_name": "ProgressView",
      "bar_style": "success",
      "description": "Downloading: 100%",
      "description_tooltip": null,
      "layout": "IPY_MODEL_890c6e99f177467481405dfe2a3fc339",
      "max": 442301670,
      "min": 0,
      "orientation": "horizontal",
      "style": "IPY_MODEL_55f0585b2b9c4872b76215540fe2d010",
      "value": 442301670
     }
    },
    "8655da061ea34a16800b111d6e20c69a": {
     "model_module": "@jupyter-widgets/base",
     "model_name": "LayoutModel",
     "state": {
      "_model_module": "@jupyter-widgets/base",
      "_model_module_version": "1.2.0",
      "_model_name": "LayoutModel",
      "_view_count": null,
      "_view_module": "@jupyter-widgets/base",
      "_view_module_version": "1.2.0",
      "_view_name": "LayoutView",
      "align_content": null,
      "align_items": null,
      "align_self": null,
      "border": null,
      "bottom": null,
      "display": null,
      "flex": null,
      "flex_flow": null,
      "grid_area": null,
      "grid_auto_columns": null,
      "grid_auto_flow": null,
      "grid_auto_rows": null,
      "grid_column": null,
      "grid_gap": null,
      "grid_row": null,
      "grid_template_areas": null,
      "grid_template_columns": null,
      "grid_template_rows": null,
      "height": null,
      "justify_content": null,
      "justify_items": null,
      "left": null,
      "margin": null,
      "max_height": null,
      "max_width": null,
      "min_height": null,
      "min_width": null,
      "object_fit": null,
      "object_position": null,
      "order": null,
      "overflow": null,
      "overflow_x": null,
      "overflow_y": null,
      "padding": null,
      "right": null,
      "top": null,
      "visibility": null,
      "width": null
     }
    },
    "890c6e99f177467481405dfe2a3fc339": {
     "model_module": "@jupyter-widgets/base",
     "model_name": "LayoutModel",
     "state": {
      "_model_module": "@jupyter-widgets/base",
      "_model_module_version": "1.2.0",
      "_model_name": "LayoutModel",
      "_view_count": null,
      "_view_module": "@jupyter-widgets/base",
      "_view_module_version": "1.2.0",
      "_view_name": "LayoutView",
      "align_content": null,
      "align_items": null,
      "align_self": null,
      "border": null,
      "bottom": null,
      "display": null,
      "flex": null,
      "flex_flow": null,
      "grid_area": null,
      "grid_auto_columns": null,
      "grid_auto_flow": null,
      "grid_auto_rows": null,
      "grid_column": null,
      "grid_gap": null,
      "grid_row": null,
      "grid_template_areas": null,
      "grid_template_columns": null,
      "grid_template_rows": null,
      "height": null,
      "justify_content": null,
      "justify_items": null,
      "left": null,
      "margin": null,
      "max_height": null,
      "max_width": null,
      "min_height": null,
      "min_width": null,
      "object_fit": null,
      "object_position": null,
      "order": null,
      "overflow": null,
      "overflow_x": null,
      "overflow_y": null,
      "padding": null,
      "right": null,
      "top": null,
      "visibility": null,
      "width": null
     }
    },
    "93d84aebb3c547a9b1398b975e08c60e": {
     "model_module": "@jupyter-widgets/controls",
     "model_name": "HTMLModel",
     "state": {
      "_dom_classes": [],
      "_model_module": "@jupyter-widgets/controls",
      "_model_module_version": "1.5.0",
      "_model_name": "HTMLModel",
      "_view_count": null,
      "_view_module": "@jupyter-widgets/controls",
      "_view_module_version": "1.5.0",
      "_view_name": "HTMLView",
      "description": "",
      "description_tooltip": null,
      "layout": "IPY_MODEL_4e91ba3985ab4306bf68027b01de8e49",
      "placeholder": "​",
      "style": "IPY_MODEL_94d6f73960f54bfba3897bdb3ff40b49",
      "value": " 442M/442M [00:12&lt;00:00, 35.1MB/s]"
     }
    },
    "94d6f73960f54bfba3897bdb3ff40b49": {
     "model_module": "@jupyter-widgets/controls",
     "model_name": "DescriptionStyleModel",
     "state": {
      "_model_module": "@jupyter-widgets/controls",
      "_model_module_version": "1.5.0",
      "_model_name": "DescriptionStyleModel",
      "_view_count": null,
      "_view_module": "@jupyter-widgets/base",
      "_view_module_version": "1.2.0",
      "_view_name": "StyleView",
      "description_width": ""
     }
    },
    "9e04d92a35cd4230a1f68332eeb3989c": {
     "model_module": "@jupyter-widgets/controls",
     "model_name": "HBoxModel",
     "state": {
      "_dom_classes": [],
      "_model_module": "@jupyter-widgets/controls",
      "_model_module_version": "1.5.0",
      "_model_name": "HBoxModel",
      "_view_count": null,
      "_view_module": "@jupyter-widgets/controls",
      "_view_module_version": "1.5.0",
      "_view_name": "HBoxView",
      "box_style": "",
      "children": [
       "IPY_MODEL_0ef3894860ad41328dd9540076c684bf",
       "IPY_MODEL_b3ea4f0305fe4066a2be697fdc3188d2"
      ],
      "layout": "IPY_MODEL_5c40586819754261a141a6b88396e38b"
     }
    },
    "a92e5c7910914adaa58f8f051f71f11b": {
     "model_module": "@jupyter-widgets/base",
     "model_name": "LayoutModel",
     "state": {
      "_model_module": "@jupyter-widgets/base",
      "_model_module_version": "1.2.0",
      "_model_name": "LayoutModel",
      "_view_count": null,
      "_view_module": "@jupyter-widgets/base",
      "_view_module_version": "1.2.0",
      "_view_name": "LayoutView",
      "align_content": null,
      "align_items": null,
      "align_self": null,
      "border": null,
      "bottom": null,
      "display": null,
      "flex": null,
      "flex_flow": null,
      "grid_area": null,
      "grid_auto_columns": null,
      "grid_auto_flow": null,
      "grid_auto_rows": null,
      "grid_column": null,
      "grid_gap": null,
      "grid_row": null,
      "grid_template_areas": null,
      "grid_template_columns": null,
      "grid_template_rows": null,
      "height": null,
      "justify_content": null,
      "justify_items": null,
      "left": null,
      "margin": null,
      "max_height": null,
      "max_width": null,
      "min_height": null,
      "min_width": null,
      "object_fit": null,
      "object_position": null,
      "order": null,
      "overflow": null,
      "overflow_x": null,
      "overflow_y": null,
      "padding": null,
      "right": null,
      "top": null,
      "visibility": null,
      "width": null
     }
    },
    "ab609f410fa845ba86388ae0cdd8e308": {
     "model_module": "@jupyter-widgets/base",
     "model_name": "LayoutModel",
     "state": {
      "_model_module": "@jupyter-widgets/base",
      "_model_module_version": "1.2.0",
      "_model_name": "LayoutModel",
      "_view_count": null,
      "_view_module": "@jupyter-widgets/base",
      "_view_module_version": "1.2.0",
      "_view_name": "LayoutView",
      "align_content": null,
      "align_items": null,
      "align_self": null,
      "border": null,
      "bottom": null,
      "display": null,
      "flex": null,
      "flex_flow": null,
      "grid_area": null,
      "grid_auto_columns": null,
      "grid_auto_flow": null,
      "grid_auto_rows": null,
      "grid_column": null,
      "grid_gap": null,
      "grid_row": null,
      "grid_template_areas": null,
      "grid_template_columns": null,
      "grid_template_rows": null,
      "height": null,
      "justify_content": null,
      "justify_items": null,
      "left": null,
      "margin": null,
      "max_height": null,
      "max_width": null,
      "min_height": null,
      "min_width": null,
      "object_fit": null,
      "object_position": null,
      "order": null,
      "overflow": null,
      "overflow_x": null,
      "overflow_y": null,
      "padding": null,
      "right": null,
      "top": null,
      "visibility": null,
      "width": null
     }
    },
    "b3ea4f0305fe4066a2be697fdc3188d2": {
     "model_module": "@jupyter-widgets/controls",
     "model_name": "HTMLModel",
     "state": {
      "_dom_classes": [],
      "_model_module": "@jupyter-widgets/controls",
      "_model_module_version": "1.5.0",
      "_model_name": "HTMLModel",
      "_view_count": null,
      "_view_module": "@jupyter-widgets/controls",
      "_view_module_version": "1.5.0",
      "_view_name": "HTMLView",
      "description": "",
      "description_tooltip": null,
      "layout": "IPY_MODEL_5afdbf46d5c246e98d0fa4fd7a0bd52b",
      "placeholder": "​",
      "style": "IPY_MODEL_e990c10c236f4b948ddf1ed248280bfe",
      "value": " 222k/222k [00:01&lt;00:00, 214kB/s]"
     }
    },
    "d8178af03865496db91a56d5d3a0cc57": {
     "model_module": "@jupyter-widgets/controls",
     "model_name": "DescriptionStyleModel",
     "state": {
      "_model_module": "@jupyter-widgets/controls",
      "_model_module_version": "1.5.0",
      "_model_name": "DescriptionStyleModel",
      "_view_count": null,
      "_view_module": "@jupyter-widgets/base",
      "_view_module_version": "1.2.0",
      "_view_name": "StyleView",
      "description_width": ""
     }
    },
    "da75ddbf1b5f40b29c5b3b09a9c3d843": {
     "model_module": "@jupyter-widgets/base",
     "model_name": "LayoutModel",
     "state": {
      "_model_module": "@jupyter-widgets/base",
      "_model_module_version": "1.2.0",
      "_model_name": "LayoutModel",
      "_view_count": null,
      "_view_module": "@jupyter-widgets/base",
      "_view_module_version": "1.2.0",
      "_view_name": "LayoutView",
      "align_content": null,
      "align_items": null,
      "align_self": null,
      "border": null,
      "bottom": null,
      "display": null,
      "flex": null,
      "flex_flow": null,
      "grid_area": null,
      "grid_auto_columns": null,
      "grid_auto_flow": null,
      "grid_auto_rows": null,
      "grid_column": null,
      "grid_gap": null,
      "grid_row": null,
      "grid_template_areas": null,
      "grid_template_columns": null,
      "grid_template_rows": null,
      "height": null,
      "justify_content": null,
      "justify_items": null,
      "left": null,
      "margin": null,
      "max_height": null,
      "max_width": null,
      "min_height": null,
      "min_width": null,
      "object_fit": null,
      "object_position": null,
      "order": null,
      "overflow": null,
      "overflow_x": null,
      "overflow_y": null,
      "padding": null,
      "right": null,
      "top": null,
      "visibility": null,
      "width": null
     }
    },
    "e990c10c236f4b948ddf1ed248280bfe": {
     "model_module": "@jupyter-widgets/controls",
     "model_name": "DescriptionStyleModel",
     "state": {
      "_model_module": "@jupyter-widgets/controls",
      "_model_module_version": "1.5.0",
      "_model_name": "DescriptionStyleModel",
      "_view_count": null,
      "_view_module": "@jupyter-widgets/base",
      "_view_module_version": "1.2.0",
      "_view_name": "StyleView",
      "description_width": ""
     }
    },
    "f22cde11a4d14e02b43c24316881dcae": {
     "model_module": "@jupyter-widgets/controls",
     "model_name": "HBoxModel",
     "state": {
      "_dom_classes": [],
      "_model_module": "@jupyter-widgets/controls",
      "_model_module_version": "1.5.0",
      "_model_name": "HBoxModel",
      "_view_count": null,
      "_view_module": "@jupyter-widgets/controls",
      "_view_module_version": "1.5.0",
      "_view_name": "HBoxView",
      "box_style": "",
      "children": [
       "IPY_MODEL_82b06cc5c5684ef5b6502eb99a6d32ec",
       "IPY_MODEL_93d84aebb3c547a9b1398b975e08c60e"
      ],
      "layout": "IPY_MODEL_8655da061ea34a16800b111d6e20c69a"
     }
    },
    "f672e067718a47e9bc1a741bbaa9dd36": {
     "model_module": "@jupyter-widgets/controls",
     "model_name": "IntProgressModel",
     "state": {
      "_dom_classes": [],
      "_model_module": "@jupyter-widgets/controls",
      "_model_module_version": "1.5.0",
      "_model_name": "IntProgressModel",
      "_view_count": null,
      "_view_module": "@jupyter-widgets/controls",
      "_view_module_version": "1.5.0",
      "_view_name": "ProgressView",
      "bar_style": "success",
      "description": "Downloading: 100%",
      "description_tooltip": null,
      "layout": "IPY_MODEL_a92e5c7910914adaa58f8f051f71f11b",
      "max": 313,
      "min": 0,
      "orientation": "horizontal",
      "style": "IPY_MODEL_3fc159bfdb1b46ea8b6d462f43c42980",
      "value": 313
     }
    }
   }
  }
 },
 "nbformat": 4,
 "nbformat_minor": 4
}
