{
  "nbformat": 4,
  "nbformat_minor": 0,
  "metadata": {
    "colab": {
      "name": "anserini-robust04-demo.ipynb",
      "provenance": [],
      "collapsed_sections": [],
      "include_colab_link": true
    },
    "kernelspec": {
      "name": "python3",
      "display_name": "Python 3"
    }
  },
  "cells": [
    {
      "cell_type": "markdown",
      "metadata": {
        "id": "view-in-github",
        "colab_type": "text"
      },
      "source": [
        "<a href=\"https://colab.research.google.com/github/castorini/anserini-notebooks/blob/master/anserini_robust04_demo.ipynb\" target=\"_parent\"><img src=\"https://colab.research.google.com/assets/colab-badge.svg\" alt=\"Open In Colab\"/></a>"
      ]
    },
    {
      "cell_type": "markdown",
      "metadata": {
        "id": "vUpmSFflwzR1",
        "colab_type": "text"
      },
      "source": [
        "# Anserini Demo on Robust04"
      ]
    },
    {
      "cell_type": "markdown",
      "metadata": {
        "id": "-2PzgU4YxIl3",
        "colab_type": "text"
      },
      "source": [
        "This notebook provides a brief overview of how to use [Anserini](http://anserini.io) to perform an _ad hoc_ retrieval run over the test collection from the TREC 2004 Robust Track.\n"
      ]
    },
    {
      "cell_type": "markdown",
      "metadata": {
        "id": "XR8bFJc0DgaE",
        "colab_type": "text"
      },
      "source": [
        "## Setup\n"
      ]
    },
    {
      "cell_type": "markdown",
      "metadata": {
        "id": "Zgn5DHN5DsmM",
        "colab_type": "text"
      },
      "source": [
        "First, install Maven (Java 11 comes pre-installed already):\n",
        "\n"
      ]
    },
    {
      "cell_type": "code",
      "metadata": {
        "id": "NOOi0C5WDxKU",
        "colab_type": "code",
        "colab": {}
      },
      "source": [
        "%%capture\n",
        "!apt-get install maven -qq"
      ],
      "execution_count": 0,
      "outputs": []
    },
    {
      "cell_type": "markdown",
      "metadata": {
        "id": "Mw8bngwQD9ix",
        "colab_type": "text"
      },
      "source": [
        "Clone and build Anserini:"
      ]
    },
    {
      "cell_type": "code",
      "metadata": {
        "id": "xyfg_YqjZrsP",
        "colab_type": "code",
        "colab": {}
      },
      "source": [
        "%%capture\n",
        "!git clone https://github.com/castorini/anserini.git\n",
        "%cd anserini\n",
        "!mvn clean package appassembler:assemble -DskipTests -Dmaven.javadoc.skip=true\n",
        "!cd eval && tar xvfz trec_eval.9.0.4.tar.gz && cd trec_eval.9.0.4 && make"
      ],
      "execution_count": 0,
      "outputs": []
    },
    {
      "cell_type": "markdown",
      "metadata": {
        "id": "FlBNRSESxfVJ",
        "colab_type": "text"
      },
      "source": [
        "If all goes well, you should be able to see   `anserini-X.Y.Z-SNAPSHOT-fatjar.jar` in `target/`:\n",
        "\n"
      ]
    },
    {
      "cell_type": "code",
      "metadata": {
        "id": "txoRXWICcU6o",
        "colab_type": "code",
        "outputId": "6b136bc6-fe72-43f5-d4f2-4c9002c0f07f",
        "colab": {
          "base_uri": "https://localhost:8080/",
          "height": 68
        }
      },
      "source": [
        "!ls target"
      ],
      "execution_count": 3,
      "outputs": [
        {
          "output_type": "stream",
          "text": [
            "anserini-0.6.1-SNAPSHOT-fatjar.jar  classes\t\t    maven-archiver\n",
            "anserini-0.6.1-SNAPSHOT.jar\t    generated-sources\t    maven-status\n",
            "appassembler\t\t\t    generated-test-sources  test-classes\n"
          ],
          "name": "stdout"
        }
      ]
    },
    {
      "cell_type": "markdown",
      "metadata": {
        "id": "xbXmstbGypef",
        "colab_type": "text"
      },
      "source": [
        "Let's grab the pre-built index:"
      ]
    },
    {
      "cell_type": "code",
      "metadata": {
        "id": "JT_OJKftdqGP",
        "colab_type": "code",
        "colab": {}
      },
      "source": [
        "%%capture\n",
        "!wget https://www.dropbox.com/s/mdoly9sjdalh44x/lucene-index.robust04.pos%2Bdocvectors%2Brawdocs.tar.gz\n",
        "!tar xvfz lucene-index.robust04.pos+docvectors+rawdocs.tar.gz"
      ],
      "execution_count": 0,
      "outputs": []
    },
    {
      "cell_type": "markdown",
      "metadata": {
        "id": "EwVSvHBz9RMM",
        "colab_type": "text"
      },
      "source": [
        "Sanity check of index size:"
      ]
    },
    {
      "cell_type": "code",
      "metadata": {
        "id": "KVXWA6WS0aqJ",
        "colab_type": "code",
        "outputId": "14ad2bab-1a0a-427f-f3d4-3bb68fbe6d6b",
        "colab": {
          "base_uri": "https://localhost:8080/",
          "height": 34
        }
      },
      "source": [
        "!du -h lucene-index.robust04.pos+docvectors+rawdocs"
      ],
      "execution_count": 5,
      "outputs": [
        {
          "output_type": "stream",
          "text": [
            "2.1G\tlucene-index.robust04.pos+docvectors+rawdocs\n"
          ],
          "name": "stdout"
        }
      ]
    },
    {
      "cell_type": "markdown",
      "metadata": {
        "id": "RJ2MrEUuEk4D",
        "colab_type": "text"
      },
      "source": [
        "## Batch Retrieval and Evaluation"
      ]
    },
    {
      "cell_type": "markdown",
      "metadata": {
        "id": "XiajTcO29Xjn",
        "colab_type": "text"
      },
      "source": [
        "Let's run the queries from the TREC 2004 Robust Track, with BM25 as the ranking model:"
      ]
    },
    {
      "cell_type": "code",
      "metadata": {
        "id": "YZm8e5LrwIt5",
        "colab_type": "code",
        "outputId": "817f3b3d-1aed-43cb-b28a-286d8cda30a7",
        "colab": {
          "base_uri": "https://localhost:8080/",
          "height": 119
        }
      },
      "source": [
        "!target/appassembler/bin/SearchCollection -topicreader Trec -index lucene-index.robust04.pos+docvectors+rawdocs \\\n",
        " -topics src/main/resources/topics-and-qrels/topics.robust04.txt -output run.robust04.bm25.topics.robust04.txt -bm25"
      ],
      "execution_count": 6,
      "outputs": [
        {
          "output_type": "stream",
          "text": [
            "2019-11-02 17:13:04,300 INFO  [main] search.SearchCollection (SearchCollection.java:212) - Reading index at lucene-index.robust04.pos+docvectors+rawdocs\n",
            "2019-11-02 17:13:04,561 INFO  [main] search.SearchCollection (SearchCollection.java:239) - Use Bag of Terms query\n",
            "2019-11-02 17:13:04,640 INFO  [pool-2-thread-1] search.SearchCollection$SearcherThread (SearchCollection.java:163) - [Start] Ranking with similarity: BM25(k1=0.9,b=0.4)\n",
            "2019-11-02 17:13:27,318 INFO  [pool-2-thread-1] search.SearchCollection$SearcherThread (SearchCollection.java:195) - [Finished] Ranking with similarity: BM25(k1=0.9,b=0.4)\n",
            "2019-11-02 17:13:27,341 INFO  [pool-2-thread-1] search.SearchCollection$SearcherThread (SearchCollection.java:196) - Run 250 topics searched in 00:00:22\n",
            "2019-11-02 17:13:27,390 INFO  [main] search.SearchCollection (SearchCollection.java:562) - Total run time: 00:00:23\n"
          ],
          "name": "stdout"
        }
      ]
    },
    {
      "cell_type": "markdown",
      "metadata": {
        "id": "NkD0kKxW9mHP",
        "colab_type": "text"
      },
      "source": [
        "Finally, let's use `trec_eval` to determine how good the results are:"
      ]
    },
    {
      "cell_type": "code",
      "metadata": {
        "id": "yFZlcqEX0t1f",
        "colab_type": "code",
        "outputId": "f089cf5d-0157-443b-ce6a-a19b5397350a",
        "colab": {
          "base_uri": "https://localhost:8080/",
          "height": 527
        }
      },
      "source": [
        "!eval/trec_eval.9.0.4/trec_eval -c src/main/resources/topics-and-qrels/qrels.robust04.txt run.robust04.bm25.topics.robust04.txt\n"
      ],
      "execution_count": 7,
      "outputs": [
        {
          "output_type": "stream",
          "text": [
            "runid                 \tall\tAnserini\n",
            "num_q                 \tall\t249\n",
            "num_ret               \tall\t241339\n",
            "num_rel               \tall\t17412\n",
            "num_rel_ret           \tall\t10272\n",
            "map                   \tall\t0.2531\n",
            "gm_map                \tall\t0.1455\n",
            "Rprec                 \tall\t0.2924\n",
            "bpref                 \tall\t0.2603\n",
            "recip_rank            \tall\t0.6769\n",
            "iprec_at_recall_0.00  \tall\t0.7158\n",
            "iprec_at_recall_0.10  \tall\t0.5286\n",
            "iprec_at_recall_0.20  \tall\t0.4268\n",
            "iprec_at_recall_0.30  \tall\t0.3541\n",
            "iprec_at_recall_0.40  \tall\t0.2789\n",
            "iprec_at_recall_0.50  \tall\t0.2299\n",
            "iprec_at_recall_0.60  \tall\t0.1786\n",
            "iprec_at_recall_0.70  \tall\t0.1404\n",
            "iprec_at_recall_0.80  \tall\t0.0866\n",
            "iprec_at_recall_0.90  \tall\t0.0553\n",
            "iprec_at_recall_1.00  \tall\t0.0281\n",
            "P_5                   \tall\t0.5004\n",
            "P_10                  \tall\t0.4382\n",
            "P_15                  \tall\t0.3987\n",
            "P_20                  \tall\t0.3631\n",
            "P_30                  \tall\t0.3102\n",
            "P_100                 \tall\t0.1837\n",
            "P_200                 \tall\t0.1250\n",
            "P_500                 \tall\t0.0689\n",
            "P_1000                \tall\t0.0413\n"
          ],
          "name": "stdout"
        }
      ]
    }
  ]
}