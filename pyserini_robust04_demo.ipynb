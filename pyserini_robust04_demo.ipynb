{
  "nbformat": 4,
  "nbformat_minor": 0,
  "metadata": {
    "colab": {
      "name": "pyserini-robust04-demo.ipynb",
      "provenance": [],
      "collapsed_sections": [],
      "include_colab_link": true
    },
    "kernelspec": {
      "name": "python3",
      "display_name": "Python 3"
    }
  },
  "cells": [
    {
      "cell_type": "markdown",
      "metadata": {
        "id": "view-in-github",
        "colab_type": "text"
      },
      "source": [
        "<a href=\"https://colab.research.google.com/github/castorini/anserini-notebooks/blob/master/pyserini_robust04_demo.ipynb\" target=\"_parent\"><img src=\"https://colab.research.google.com/assets/colab-badge.svg\" alt=\"Open In Colab\"/></a>"
      ]
    },
    {
      "cell_type": "markdown",
      "metadata": {
        "id": "vUpmSFflwzR1",
        "colab_type": "text"
      },
      "source": [
        "# Pyserini Demo on Robust04"
      ]
    },
    {
      "cell_type": "markdown",
      "metadata": {
        "id": "-2PzgU4YxIl3",
        "colab_type": "text"
      },
      "source": [
        "This notebook provides a brief overview of how to use [Pyserini](https://github.com/castorini/anserini/blob/master/docs/pyserini.md), the Python interface to [Anserini](http://anserini.io), to search the collection from the TREC 2004 Robust Track.\n"
      ]
    },
    {
      "cell_type": "markdown",
      "metadata": {
        "id": "XR8bFJc0DgaE",
        "colab_type": "text"
      },
      "source": [
        "## Setup\n"
      ]
    },
    {
      "cell_type": "markdown",
      "metadata": {
        "id": "Zgn5DHN5DsmM",
        "colab_type": "text"
      },
      "source": [
        "First, setup Java 11 and Maven:\n",
        "\n"
      ]
    },
    {
      "cell_type": "code",
      "metadata": {
        "id": "NOOi0C5WDxKU",
        "colab_type": "code",
        "colab": {}
      },
      "source": [
        "%%capture\n",
        "\n",
        "!apt-get update\n",
        "!apt-get install -y openjdk-11-jdk-headless -qq \n",
        "!apt-get install maven -qq"
      ],
      "execution_count": 0,
      "outputs": []
    },
    {
      "cell_type": "markdown",
      "metadata": {
        "id": "f2vNd7bpJlDZ",
        "colab_type": "text"
      },
      "source": [
        "Install Python dependencies"
      ]
    },
    {
      "cell_type": "code",
      "metadata": {
        "id": "E_lt0-pXJia0",
        "colab_type": "code",
        "colab": {}
      },
      "source": [
        "%%capture\n",
        "\n",
        "!pip install Cython\n",
        "!pip install pyjnius"
      ],
      "execution_count": 0,
      "outputs": []
    },
    {
      "cell_type": "markdown",
      "metadata": {
        "id": "Mw8bngwQD9ix",
        "colab_type": "text"
      },
      "source": [
        "Clone and build Anserini:"
      ]
    },
    {
      "cell_type": "code",
      "metadata": {
        "id": "xyfg_YqjZrsP",
        "colab_type": "code",
        "colab": {}
      },
      "source": [
        "%%capture\n",
        "\n",
        "!git clone https://github.com/castorini/anserini.git\n",
        "%cd anserini\n",
        "!mvn clean package appassembler:assemble -DskipTests -Dmaven.javadoc.skip=true\n",
        "!cd eval && tar xvfz trec_eval.9.0.4.tar.gz && cd trec_eval.9.0.4 && make"
      ],
      "execution_count": 0,
      "outputs": []
    },
    {
      "cell_type": "markdown",
      "metadata": {
        "id": "FlBNRSESxfVJ",
        "colab_type": "text"
      },
      "source": [
        "If all goes well, you should be able to see   `anserini-X.Y.Z-SNAPSHOT-fatjar.jar` in `target/`:\n",
        "\n"
      ]
    },
    {
      "cell_type": "code",
      "metadata": {
        "id": "txoRXWICcU6o",
        "colab_type": "code",
        "outputId": "8ed4d80e-a77a-4128-9334-baae70be51ba",
        "colab": {
          "base_uri": "https://localhost:8080/",
          "height": 68
        }
      },
      "source": [
        "!ls target"
      ],
      "execution_count": 0,
      "outputs": [
        {
          "output_type": "stream",
          "text": [
            "anserini-0.6.1-SNAPSHOT-fatjar.jar  classes\t\t    maven-archiver\n",
            "anserini-0.6.1-SNAPSHOT.jar\t    generated-sources\t    maven-status\n",
            "appassembler\t\t\t    generated-test-sources  test-classes\n"
          ],
          "name": "stdout"
        }
      ]
    },
    {
      "cell_type": "markdown",
      "metadata": {
        "id": "xbXmstbGypef",
        "colab_type": "text"
      },
      "source": [
        "Let's grab the pre-built index:"
      ]
    },
    {
      "cell_type": "code",
      "metadata": {
        "id": "JT_OJKftdqGP",
        "colab_type": "code",
        "colab": {}
      },
      "source": [
        "%%capture\n",
        "\n",
        "!wget https://www.dropbox.com/s/mdoly9sjdalh44x/lucene-index.robust04.pos%2Bdocvectors%2Brawdocs.tar.gz\n",
        "!tar xvfz lucene-index.robust04.pos+docvectors+rawdocs.tar.gz"
      ],
      "execution_count": 0,
      "outputs": []
    },
    {
      "cell_type": "markdown",
      "metadata": {
        "id": "EwVSvHBz9RMM",
        "colab_type": "text"
      },
      "source": [
        "Sanity check of index size:"
      ]
    },
    {
      "cell_type": "code",
      "metadata": {
        "id": "KVXWA6WS0aqJ",
        "colab_type": "code",
        "outputId": "bbae73e9-3128-448b-c7c8-acef71fdbbe3",
        "colab": {
          "base_uri": "https://localhost:8080/",
          "height": 34
        }
      },
      "source": [
        "!du -h lucene-index.robust04.pos+docvectors+rawdocs"
      ],
      "execution_count": 0,
      "outputs": [
        {
          "output_type": "stream",
          "text": [
            "2.1G\tlucene-index.robust04.pos+docvectors+rawdocs\n"
          ],
          "name": "stdout"
        }
      ]
    },
    {
      "cell_type": "markdown",
      "metadata": {
        "id": "RJ2MrEUuEk4D",
        "colab_type": "text"
      },
      "source": [
        "## Using Pyserini"
      ]
    },
    {
      "cell_type": "code",
      "metadata": {
        "id": "YZm8e5LrwIt5",
        "colab_type": "code",
        "colab": {}
      },
      "source": [
        "## Setup for Pyjnius\n",
        "\n",
        "import os, sys\n",
        "\n",
        "anserini_root = '.'\n",
        "\n",
        "os.environ[\"JAVA_HOME\"] = \"/usr/lib/jvm/java-11-openjdk-amd64\"\n",
        "sys.path += [os.path.join(anserini_root, 'src/main/python')]\n",
        "\n",
        "from pyserini.search import pysearch\n",
        "from pyserini.collection import pycollection\n",
        "from pyserini.index import pygenerator"
      ],
      "execution_count": 0,
      "outputs": []
    },
    {
      "cell_type": "markdown",
      "metadata": {
        "id": "NkD0kKxW9mHP",
        "colab_type": "text"
      },
      "source": [
        "You can use `pysearch` to search over an index. Here's the basic usage:"
      ]
    },
    {
      "cell_type": "code",
      "metadata": {
        "id": "yFZlcqEX0t1f",
        "colab_type": "code",
        "outputId": "d38b5749-92f1-4573-d122-af6cc3c03ae0",
        "colab": {
          "base_uri": "https://localhost:8080/",
          "height": 187
        }
      },
      "source": [
        "searcher = pysearch.SimpleSearcher('lucene-index.robust04.pos+docvectors+rawdocs')\n",
        "hits = searcher.search('hubble space telescope')\n",
        "\n",
        "# Prints the first 10 hits\n",
        "for i in range(0, 10):\n",
        "    print('{} {} {}'.format(i+1, hits[i].docid, hits[i].score))"
      ],
      "execution_count": 0,
      "outputs": [
        {
          "output_type": "stream",
          "text": [
            "1 FT934-5418 18.774799346923828\n",
            "2 LA052890-0021 18.53849983215332\n",
            "3 LA071090-0047 18.464799880981445\n",
            "4 LA070990-0052 18.20669937133789\n",
            "5 FT921-7107 18.186899185180664\n",
            "6 LA062990-0180 17.624900817871094\n",
            "7 LA042590-0135 17.597200393676758\n",
            "8 LA040190-0178 17.385499954223633\n",
            "9 LA042790-0070 17.276899337768555\n",
            "10 FT944-128 17.27239990234375\n"
          ],
          "name": "stdout"
        }
      ]
    },
    {
      "cell_type": "markdown",
      "metadata": {
        "id": "xw6EjwPgPB_b",
        "colab_type": "text"
      },
      "source": [
        "The `hits` data structure holds the `docid`, the retrieval score, as well as the document content:"
      ]
    },
    {
      "cell_type": "code",
      "metadata": {
        "id": "lGLZhQgANy3I",
        "colab_type": "code",
        "outputId": "b533c0ae-9b04-49fe-e412-be1d2ca82c29",
        "colab": {
          "base_uri": "https://localhost:8080/",
          "height": 54
        }
      },
      "source": [
        "# Grab the actual text\n",
        "hits[0].content"
      ],
      "execution_count": 0,
      "outputs": [
        {
          "output_type": "execute_result",
          "data": {
            "text/plain": [
              "\"<DATE>931130\\n</DATE>\\n<HEADLINE>\\nFT  30 NOV 93 / Toil and trouble: Nasa needs to repair its public image, as\\nwell as the Hubble telescope\\n</HEADLINE>\\n<TEXT>\\nThe space shuttle Endeavour is scheduled to blast off from Cape Canaveral\\ntomorrow morning on what Nasa calls a routine servicing flight - and critics\\nsay is a risky make-or-break mission for the troubled space agency.\\nThe objective of the 11-day flight is to service and repair the Hubble Space\\nTelescope, a Dollars 2bn orbiting observatory which caused Nasa huge\\nembarrassment after its launch in 1990, when it turned out that the\\ninstrument's 2.4 metre mirror had been ground to the wrong shape. Three\\nhundred miles above the earth's obscuring atmosphere, Hubble should have\\nenabled astronomers to see seven times further into the universe than ever\\nbefore; instead, the faulty mirror produced fuzzy pictures only slightly\\nbetter than the most powerful ground-based telescopes.\\nThe mission is routine only in the sense that Hubble was designed for\\nmaintenance in orbit every three to five years. No one had imagined when it\\nwas launched that so much would need to be put right now, nor that Nasa\\nwould be so desperate for a spectacular success to reverse the steady\\ndeterioration in its public image after a catalogue of disasters - most\\nrecently the loss of the Dollars 980m Mars Observer craft.\\nNasa has picked a crew of seven space veterans, with an average age of 46,\\nfor what is sure to be the most complex and challenging of the 59 shuttle\\nflights undertaken so far. The senior member is Dr Story Musgrave, 58, who\\nhas been an astronaut since 1967.\\nOn Friday the Swiss flight engineer, Mr Claude Nicollier, will use\\nEndeavour's robot arm to pull the bus-sized Hubble on to a special stand in\\nthe cargo bay. Then the mission plan includes five days of space walks, each\\nlasting six hours, during which the astronauts will work in pairs to put\\nright as many as possible of Hubble's defects.\\nThe single most important job will to fit 'spectacles' to correct the\\ntelescope's short-sightedness. An instrument called Costar (for corrective\\noptics space telescope axial replacement) will slot in behind the famous\\nflawed mirror, containing 10 small coin-sized mirrors ground to compensate\\noptically for the defect.\\nBut there are 11 other items to repair or replace. They include faulty\\nelectronic components, three failed gyroscopes and Hubble's solar panels,\\nwhich have been disturbing its delicate instruments by juddering in response\\nto temperature changes whenever the craft passes from sunlight into\\ndarkness. Indeed, changing the 12-metre solar arrays  - made by British\\nAerospace as part of the European Space Agency's 15 per cent contribution to\\nthe project - may turn out to be the most delicate operation of all.\\nThe schedule is bound to change 'as events unfold', Mr Nicollier said last\\nmonth. 'There will be surprises, of that we can be sure. We therefore have\\nto visualise the unforeseeable.'\\nTo prepare for unexpected events, the astronauts have trained longer and\\nmore intensively for the Hubble repair mission than for any previous shuttle\\nflight. They have spent 700 hours rehearsing for their 11 days in space,\\nincluding 400 hours under water in a huge tank built to simulate\\nweightlessness at the Marshall Space Flight Centre in Alabama.\\n'I may have been in the water hundreds of hours, I may have been in the\\nclean room hundreds of hours (getting to know Hubble's replacement parts),'\\nDr Musgrave said at the end of training, 'but, like the Olympics, it boils\\ndown to a few seconds. You've got one shot at it. It's got to go right.'\\nAs the astronauts know only too well, far more is at stake than their\\nability to make Hubble work to its original specifications - and possibly\\ngive astronomers a view of the distant universe good enough to set off a\\nscientific revolution like the one after Galileo's first use of a telescope\\n400 years ago.\\nThe future of Nasa could hinge on the Hubble mission. A success would begin\\nto shore up public and political confidence in the once-proud agency, which\\nhas been undermined by a string of failures since the 1986 Challenger\\nexplosion. In particular, it would show that shuttle-borne astronauts can\\ncarry out a complicated series of manoeuvres of the sort that will be needed\\nto assemble and use the planned Space Station Freedom, due to go into\\noperation early next century.\\nA failure would feed ammunition to congressional budget-cutters, who\\nsucceeded recently in killing the US's other big science project, the\\nDollars 11bn Superconducting Super Collider, and are keen also to shoot down\\nthe multi-billion dollar space station. Its cancellation would leave Nasa\\nwithout a clear future in manned space flight beyond the ageing shuttle\\nprogramme - and could lead to the agency's dismemberment.\\nMr Daniel Goldin, who was appointed Nasa administrator by former President\\nGeorge Bush early last year and has been kept on by President Bill Clinton,\\nput on a brave face when he appeared before the Senate science, technology\\nand space subcommittee this month. 'We are not afraid,' he said. 'If we fail\\n(in the Hubble mission), we will dust ourselves down and do it again.'\\nBut Mr Goldin pleaded with the senators not to cut Nasa's budget any more.\\nThe Bush administration reduced its five-year spending plan from an original\\nrequest of Dollars 106bn in 1991 to Dollars 96bn; since then, this had been\\ncut to Dollars 78bn - and it could fall to Dollars 71bn, according to the\\nlatest proposals.\\nWith everyone's attention focused on the space-walking astronauts and the\\nimplications for Nasa of their success or failure, the astronomers - for\\nwhose scientific benefit the repair mission is supposedly being undertaken -\\nare feeling rather left out.\\n'Although some people felt it was an outrageous waste to spend Dollars 2bn\\non the original Hubble project, because so much money would have given far\\nbetter returns to science if it had been spent on earth-based observatories,\\nmost of us welcomed Hubble because it brought in extra funds that would not\\notherwise have been spent on astronomy,' said one European astronomer. 'The\\nsame is true of the repair mission. Some astronomers were getting good\\nresults from Hubble, faulty as it was, and they didn't want to risk spending\\nDollars 620m to ruin it, but most of us recognise that Nasa has to try to\\nrepair it for political reasons.'\\nEven if the Endeavour mission appears to be a spectacular success over the\\nnext 11 days, it will not be clear for at least a month whether the\\nastronauts have repaired Hubble and Nasa's reputation. It will take several\\nweeks to remote-test all the new equipment, before Nasa can send the\\ntelescope instructions to start observing. Few pictures in history will be\\nawaited with such anticipation.\\n</TEXT>\""
            ]
          },
          "metadata": {
            "tags": []
          },
          "execution_count": 9
        }
      ]
    },
    {
      "cell_type": "markdown",
      "metadata": {
        "id": "JOLbQXmPOvbJ",
        "colab_type": "text"
      },
      "source": [
        "Here's how you can configure search options, such as BM25 parameters and using relevance feedback."
      ]
    },
    {
      "cell_type": "code",
      "metadata": {
        "id": "qHKYXSUGN76K",
        "colab_type": "code",
        "outputId": "9722e839-a517-4ce6-ddc0-d7da8dbb67b5",
        "colab": {
          "base_uri": "https://localhost:8080/",
          "height": 187
        }
      },
      "source": [
        "searcher.set_bm25_similarity(0.9, 0.4)\n",
        "searcher.set_rm3_reranker(10, 10, 0.5)\n",
        "\n",
        "hits2 = searcher.search('hubble space telescope')\n",
        "\n",
        "# Prints the first 10 hits\n",
        "for i in range(0, 10):\n",
        "    print('{} {} {}'.format(i+1, hits2[i].docid, hits2[i].score))"
      ],
      "execution_count": 0,
      "outputs": [
        {
          "output_type": "stream",
          "text": [
            "1 LA071090-0047 5.841000080108643\n",
            "2 FT934-5418 5.734799861907959\n",
            "3 LA052890-0021 5.671299934387207\n",
            "4 LA070990-0052 5.6072001457214355\n",
            "5 FT921-7107 5.475399971008301\n",
            "6 FT944-128 5.230899810791016\n",
            "7 LA062990-0180 5.211900234222412\n",
            "8 LA042790-0070 5.192800045013428\n",
            "9 LA040190-0178 5.103600025177002\n",
            "10 LA071490-0091 5.097599983215332\n"
          ],
          "name": "stdout"
        }
      ]
    },
    {
      "cell_type": "markdown",
      "metadata": {
        "id": "-Vgo98wnPUQO",
        "colab_type": "text"
      },
      "source": [
        "Note that the results have changed."
      ]
    }
  ]
}