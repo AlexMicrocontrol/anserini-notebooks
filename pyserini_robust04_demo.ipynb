{
  "nbformat": 4,
  "nbformat_minor": 0,
  "metadata": {
    "colab": {
      "name": "pyserini-robust04-demo.ipynb",
      "provenance": [],
      "collapsed_sections": [],
      "include_colab_link": true
    },
    "kernelspec": {
      "name": "python3",
      "display_name": "Python 3"
    }
  },
  "cells": [
    {
      "cell_type": "markdown",
      "metadata": {
        "id": "view-in-github",
        "colab_type": "text"
      },
      "source": [
        "<a href=\"https://colab.research.google.com/github/castorini/anserini-notebooks/blob/master/pyserini_robust04_demo.ipynb\" target=\"_parent\"><img src=\"https://colab.research.google.com/assets/colab-badge.svg\" alt=\"Open In Colab\"/></a>"
      ]
    },
    {
      "cell_type": "markdown",
      "metadata": {
        "id": "vUpmSFflwzR1",
        "colab_type": "text"
      },
      "source": [
        "# Pyserini Demo on Robust04"
      ]
    },
    {
      "cell_type": "markdown",
      "metadata": {
        "id": "-2PzgU4YxIl3",
        "colab_type": "text"
      },
      "source": [
        "This notebook provides a brief overview of how to use [Pyserini](https://github.com/castorini/anserini/blob/master/docs/pyserini.md), the Python interface to [Anserini](http://anserini.io), to search the collection from the TREC 2004 Robust Track.\n"
      ]
    },
    {
      "cell_type": "markdown",
      "metadata": {
        "id": "XR8bFJc0DgaE",
        "colab_type": "text"
      },
      "source": [
        "## Installation\n"
      ]
    },
    {
      "cell_type": "markdown",
      "metadata": {
        "id": "f2vNd7bpJlDZ",
        "colab_type": "text"
      },
      "source": [
        "Install Python dependencies"
      ]
    },
    {
      "cell_type": "code",
      "metadata": {
        "id": "E_lt0-pXJia0",
        "colab_type": "code",
        "colab": {}
      },
      "source": [
        "%%capture\n",
        "!pip install pyserini==0.6.0.0\n",
        "!wget -O anserini-0.6.0-fatjar.jar https://search.maven.org/remotecontent?filepath=io/anserini/anserini/0.6.0/anserini-0.6.0-fatjar.jar\n",
        "\n",
        "import os\n",
        "os.environ[\"JAVA_HOME\"] = \"/usr/lib/jvm/java-11-openjdk-amd64\""
      ],
      "execution_count": 0,
      "outputs": []
    },
    {
      "cell_type": "markdown",
      "metadata": {
        "id": "TwSMvuMb2EJq",
        "colab_type": "text"
      },
      "source": [
        "Fix annoying known issue with pyjnius (see [this explanation](https://github.com/castorini/pyserini/blob/master/README.md#known-issues) for more details):\n"
      ]
    },
    {
      "cell_type": "code",
      "metadata": {
        "id": "O2b5X0hx1pvy",
        "colab_type": "code",
        "colab": {}
      },
      "source": [
        "%%capture\n",
        "!mkdir -p /usr/lib/jvm/java-1.11.0-openjdk-amd64/jre/lib/amd64/server/\n",
        "!ln -s /usr/lib/jvm/java-1.11.0-openjdk-amd64/lib/server/libjvm.so /usr/lib/jvm/java-1.11.0-openjdk-amd64/jre/lib/amd64/server/libjvm.so"
      ],
      "execution_count": 0,
      "outputs": []
    },
    {
      "cell_type": "markdown",
      "metadata": {
        "id": "xbXmstbGypef",
        "colab_type": "text"
      },
      "source": [
        "Let's grab the pre-built index:"
      ]
    },
    {
      "cell_type": "code",
      "metadata": {
        "id": "JT_OJKftdqGP",
        "colab_type": "code",
        "colab": {}
      },
      "source": [
        "%%capture\n",
        "!wget https://www.dropbox.com/s/mdoly9sjdalh44x/lucene-index.robust04.pos%2Bdocvectors%2Brawdocs.tar.gz\n",
        "!tar xvfz lucene-index.robust04.pos+docvectors+rawdocs.tar.gz"
      ],
      "execution_count": 0,
      "outputs": []
    },
    {
      "cell_type": "markdown",
      "metadata": {
        "id": "EwVSvHBz9RMM",
        "colab_type": "text"
      },
      "source": [
        "Sanity check of index size:"
      ]
    },
    {
      "cell_type": "code",
      "metadata": {
        "id": "KVXWA6WS0aqJ",
        "colab_type": "code",
        "outputId": "370fbd42-f93d-4c44-f67d-93332f6aec8d",
        "colab": {
          "base_uri": "https://localhost:8080/",
          "height": 34
        }
      },
      "source": [
        "!du -h lucene-index.robust04.pos+docvectors+rawdocs"
      ],
      "execution_count": 4,
      "outputs": [
        {
          "output_type": "stream",
          "text": [
            "2.1G\tlucene-index.robust04.pos+docvectors+rawdocs\n"
          ],
          "name": "stdout"
        }
      ]
    },
    {
      "cell_type": "markdown",
      "metadata": {
        "id": "RJ2MrEUuEk4D",
        "colab_type": "text"
      },
      "source": [
        "## Usage"
      ]
    },
    {
      "cell_type": "markdown",
      "metadata": {
        "id": "NkD0kKxW9mHP",
        "colab_type": "text"
      },
      "source": [
        "You can use `pysearch` to search over an index. Here's the basic usage:"
      ]
    },
    {
      "cell_type": "code",
      "metadata": {
        "id": "yFZlcqEX0t1f",
        "colab_type": "code",
        "outputId": "db025ac8-b189-43d5-f54d-840bb6bd1a2f",
        "colab": {
          "base_uri": "https://localhost:8080/",
          "height": 187
        }
      },
      "source": [
        "from pyserini.search import pysearch\n",
        "\n",
        "searcher = pysearch.SimpleSearcher('lucene-index.robust04.pos+docvectors+rawdocs')\n",
        "hits = searcher.search('black bear attacks')\n",
        "\n",
        "# Prints the first 10 hits\n",
        "for i in range(0, 10):\n",
        "    print('{} {} {}'.format(i+1, hits[i].docid, hits[i].score))"
      ],
      "execution_count": 5,
      "outputs": [
        {
          "output_type": "stream",
          "text": [
            "1 LA081689-0039 7.941199779510498\n",
            "2 LA092790-0015 6.970099925994873\n",
            "3 LA102589-0076 6.802700042724609\n",
            "4 FBIS4-16530 6.74560022354126\n",
            "5 FR940902-1-00053 6.743599891662598\n",
            "6 FT932-15491 6.718599796295166\n",
            "7 LA021289-0039 6.696400165557861\n",
            "8 FR940603-0-00083 6.64109992980957\n",
            "9 FT931-736 6.521299839019775\n",
            "10 FR940603-0-00114 6.503499984741211\n"
          ],
          "name": "stdout"
        }
      ]
    },
    {
      "cell_type": "markdown",
      "metadata": {
        "id": "xw6EjwPgPB_b",
        "colab_type": "text"
      },
      "source": [
        "The `hits` data structure holds the `docid`, the retrieval score, as well as the document content:"
      ]
    },
    {
      "cell_type": "code",
      "metadata": {
        "id": "lGLZhQgANy3I",
        "colab_type": "code",
        "outputId": "12c958b3-31a6-43cb-b6b2-637c6ba9e59f",
        "colab": {
          "base_uri": "https://localhost:8080/",
          "height": 1000
        }
      },
      "source": [
        "from IPython.core.display import display, HTML\n",
        "display(HTML('<div style=\"font-family: Times New Roman; padding-bottom:10px\">' + hits[0].content + '</div>'))"
      ],
      "execution_count": 6,
      "outputs": [
        {
          "output_type": "display_data",
          "data": {
            "text/html": [
              "<div style=\"font-family: Times New Roman; padding-bottom:10px\"><DATE>\n",
              "<P>\n",
              "August 16, 1989, Wednesday, Home Edition\n",
              "</P>\n",
              "</DATE>\n",
              "<HEADLINE>\n",
              "<P>\n",
              "'MY LIFE IS OVER,' VICTIM OF ATTACK BY GRIZZLY THOUGHT\n",
              "</P>\n",
              "</HEADLINE>\n",
              "<TEXT>\n",
              "<P>\n",
              "Don Coverston distinctly remembers the grizzly bear trying to pull his head\n",
              "off.\n",
              "</P>\n",
              "<P>\n",
              "\"Both paws were on my shoulders and the teeth were biting into my head,\" he\n",
              "said. \"I remember these grinding sounds, like rocks rubbing together. I\n",
              "remember thinking: 'Oh hell, this is really it. My life is over.' \"\n",
              "</P>\n",
              "<P>\n",
              "It was only the beginning. During the next few hours, after surviving two\n",
              "attacks by the bear, Coverston dragged himself through thick woods, falling\n",
              "down at almost every step and terrified that the animal would attack again. He\n",
              "waded a swift, icy, waist-deep river and finally reached the only highway\n",
              "within miles.\n",
              "</P>\n",
              "<P>\n",
              "Bleeding from dozens of wounds, unable to see out of one eye and on the verge\n",
              "of shock, he fell to his knees and flagged down a car. His first question to\n",
              "the stunned motorists was: \"Are my ears still on?\"\n",
              "</P>\n",
              "<P>\n",
              "Coverston, 32, was eventually rushed by helicopter to the nearest hospital,\n",
              "more than 150 miles away, where he underwent 9 1/2 hours of surgery that\n",
              "required between 1,500 and 2,000 stitches.\n",
              "</P>\n",
              "<P>\n",
              "Now, recuperating in his hospital room in Fairbanks, Coverston talks in\n",
              "painful, halting bursts. He said he feels like a human jigsaw puzzle.\n",
              "</P>\n",
              "<P>\n",
              "Alaska has between 30,000 and 40,000 grizzly bears, according to recent\n",
              "government estimates. That is at least 30 times as many as the rest of the\n",
              "states combined, and encounters with them are not uncommon.\n",
              "</P>\n",
              "<P>\n",
              "Grizzlies have been spotted on jogging trails in Anchorage, the state's largest\n",
              "city, and they are frequently seen at a distance by visitors to national parks.\n",
              "</P>\n",
              "<P>\n",
              "But attacks are rare -- usually only two or three statewide each summer.\n",
              "Coverston's was one of the worst in recent years.\n",
              "</P>\n",
              "<P>\n",
              "It happened on Aug. 5. Coverston, an aircraft electrician with the National\n",
              "Guard and a part-time college business student, had driven from his parents'\n",
              "home near Anchorage to 14 remote acres he has leased from the state near Denali\n",
              "National Park, halfway between Anchorage and Fairbanks.\n",
              "</P>\n",
              "<P>\n",
              "The land is a couple of miles off the Parks Highway, a two-lane ribbon that\n",
              "slices through dense boreal forest, mountains and treeless alpine tundra. The\n",
              "closest settlement, Cantwell, is 20 miles away.\n",
              "</P>\n",
              "<P>\n",
              "</P>\n",
              "<P>\n",
              "Grew Up on Kodiak Island\n",
              "</P>\n",
              "<P>\n",
              "Coverston, who grew up hunting and fishing in the wilderness of Kodiak Island,\n",
              "hopes to build a little cabin on the land some day.\n",
              "</P>\n",
              "<P>\n",
              "Earlier that Saturday, he had seen bear tracks. Usually, when he is in the\n",
              "woods, Coverston carries a .357-caliber handgun for protection. But, this time,\n",
              "he took only a small camp ax to clear the thick alder brush that grows on the\n",
              "trail.\n",
              "</P>\n",
              "<P>\n",
              "\"I knew better than to go into the woods alone, and I knew better than to go in\n",
              "unarmed,\" Coverston said, especially after seeing the tracks. \"I'm not sure\n",
              "what I was thinking.\"\n",
              "</P>\n",
              "<P>\n",
              "</P>\n",
              "<P>\n",
              "Saw Bear Charging\n",
              "</P>\n",
              "<P>\n",
              "About an hour into the woods, he heard crackling in the brush behind him, he\n",
              "said. He turned. A bear was perhaps 20 feet away and charging.\n",
              "</P>\n",
              "<P>\n",
              "\"I yelled at it. I yelled, 'Get the hell out of here! What the hell do you\n",
              "think you're doing?' I figured my only defense was to scare it off.\"\n",
              "</P>\n",
              "<P>\n",
              "Like many Alaska grizzlies, the animal had a sun-bleached, almost blond coat,\n",
              "he said, and was not especially big by grizzly standards. On all fours,\n",
              "Coverston said, it came to about waist height. Coverston stands 5 feet, 10\n",
              "inches and weighs 160 pounds.\n",
              "</P>\n",
              "<P>\n",
              "\"I took a few steps the other way and it kept coming. I took this little hand\n",
              "ax and tried to kill it,\" he said, laughing. He threw the ax and it hit the\n",
              "bear's head, but just bounced off.\n",
              "</P>\n",
              "<P>\n",
              "</P>\n",
              "<P>\n",
              "Remembers Screaming\n",
              "</P>\n",
              "<P>\n",
              "\"The next thing I remember, I'm down on the ground,\" he said, speaking quickly.\n",
              "\"I remember my skin being torn and I remember being bit and screaming at the\n",
              "top of my lungs. I was trying to get away . . . I got on my hands and knees and\n",
              "the bear picked me up by the neck and shook me.\"\n",
              "</P>\n",
              "<P>\n",
              "Abruptly, he said, the bear dropped him and retreated into the brush. A moment\n",
              "later, it came charging back. He said that the animal went \"right for my head,\"\n",
              "pushing his shoulders with claws and pulling on his scalp with its teeth. Blood\n",
              "filled Coverston's eyes.\n",
              "</P>\n",
              "<P>\n",
              "Finally, he decided to stop fighting and play dead. It worked. The animal\n",
              "dropped him, he said, disappeared into the woods and did not come back.\n",
              "</P>\n",
              "<P>\n",
              "\"I lay there and decided I was alive,\" he said. With dusk approaching, he\n",
              "stumbled to his feet and began slowly making his way back to the road.\n",
              "</P>\n",
              "<P>\n",
              "\"In a way, I almost didn't want to make it 'cause I knew my head and neck were\n",
              "pretty bad.\" he said. At one point, he said, he tried to reposition his scalp\n",
              "with his hands and hold it in place with his baseball cap.\n",
              "</P>\n",
              "<P>\n",
              "Doctors later found that the bear had sliced his neck from ear to ear and only\n",
              "narrowly missed his spinal cord and jugular vein. Although it did not damage\n",
              "his eyeball, a claw or tooth poked a hole two inches deep in the corner of his\n",
              "right eye, and he suffered bite and scratch wounds on his scalp, back, legs,\n",
              "hands and torso.\n",
              "</P>\n",
              "<P>\n",
              "Dr. William Wennen, the plastic surgeon at Fairbanks Memorial Hospital who\n",
              "worked on Coverston, said, \"I've had other (bear attacks) that were\n",
              "significantly worse, (but) he's probably one of the luckiest ones I've ever\n",
              "seen. Any one of his injuries could have killed him if they'd been a little\n",
              "lower, or higher, or a little to the left or a little to the right.\"\n",
              "</P>\n",
              "<P>\n",
              "Coverston was amazed to find that his skull wasn't fractured and no other bones\n",
              "were broken. \"I was so lucky,\" he said. Still, he said, the pain is sometimes\n",
              "severe, and he sleeps sitting in a chair because of his neck injuries. He\n",
              "passes the time visiting with his parents and friends. He will remain in the\n",
              "hospital at least several more days.\n",
              "</P>\n",
              "<P>\n",
              "Larry Van Dale, a wildlife biologist for the state Department of Fish and Game\n",
              "who has studied Alaska bears for years, said the attack, although rare,\n",
              "followed the pattern of most others.\n",
              "</P>\n",
              "<P>\n",
              "\"You almost never see someone killed by a grizzly bear up here,\" Van Dale said.\n",
              "\"The reason a bear attacks is because it sees a threat. When someone's moving\n",
              "or yelling, it sees a threat. When the person stops, it's not a threat any\n",
              "more, and it'll leave. We always say: 'When it happens, play dead.' \"\n",
              "</P>\n",
              "<P>\n",
              "According to a state study, since the turn of the century 105 people have been\n",
              "reported injured by grizzly and black bears in Alaska, 20 of them fatally.\n",
              "</P>\n",
              "<P>\n",
              "Coverston said friends have talked about returning to the site \"and bringing me\n",
              "back a bear skin rug.\" But he has no desire for revenge. He says he still wants\n",
              "to build a cabin on that property some day.\n",
              "</P>\n",
              "<P>\n",
              "\"It's always been a joke. People find out I grew up in Kodiak (known for its\n",
              "huge bears) and they say, 'Have you ever shot a bear?' Why would you shoot a\n",
              "bear? It's never interested me. I tell 'em me and the bears have an agreement\n",
              "-- I don't mess with them and they don't mess with me.\n",
              "</P>\n",
              "<P>\n",
              "\"Well, this one broke the contract. Next time, it's: 'Hey buddy, I'm getting\n",
              "you before you get me.' \"\n",
              "</P>\n",
              "<P>\n",
              "David Hulen, a reporter for the Anchorage Daily News, wrote this story for The\n",
              "Times.\n",
              "</P>\n",
              "</TEXT></div>"
            ],
            "text/plain": [
              "<IPython.core.display.HTML object>"
            ]
          },
          "metadata": {
            "tags": []
          }
        }
      ]
    },
    {
      "cell_type": "markdown",
      "metadata": {
        "id": "JOLbQXmPOvbJ",
        "colab_type": "text"
      },
      "source": [
        "Here's how you can configure search options, such as BM25 parameters and using relevance feedback."
      ]
    },
    {
      "cell_type": "code",
      "metadata": {
        "id": "qHKYXSUGN76K",
        "colab_type": "code",
        "outputId": "28e562af-a5e1-4fd3-a4c1-60be79e33c75",
        "colab": {
          "base_uri": "https://localhost:8080/",
          "height": 187
        }
      },
      "source": [
        "searcher.set_bm25_similarity(0.9, 0.4)\n",
        "searcher.set_rm3_reranker(10, 10, 0.5)\n",
        "\n",
        "hits2 = searcher.search('black bear attacks')\n",
        "\n",
        "# Prints the first 10 hits\n",
        "for i in range(0, 10):\n",
        "    print('{} {} {}'.format(i+1, hits2[i].docid, hits2[i].score))"
      ],
      "execution_count": 7,
      "outputs": [
        {
          "output_type": "stream",
          "text": [
            "1 FR940603-0-00083 2.984800100326538\n",
            "2 FR940902-1-00053 2.9762001037597656\n",
            "3 FR940902-1-00055 2.7883999347686768\n",
            "4 FR940902-1-00070 2.7223000526428223\n",
            "5 FR940902-1-00057 2.713099956512451\n",
            "6 LA081689-0039 2.7060999870300293\n",
            "7 FR940603-0-00087 2.6944000720977783\n",
            "8 FR940603-0-00102 2.6905999183654785\n",
            "9 FR940603-0-00088 2.676300048828125\n",
            "10 FR940902-1-00068 2.620699882507324\n"
          ],
          "name": "stdout"
        }
      ]
    },
    {
      "cell_type": "markdown",
      "metadata": {
        "id": "-Vgo98wnPUQO",
        "colab_type": "text"
      },
      "source": [
        "Note that the results have changed."
      ]
    }
  ]
}