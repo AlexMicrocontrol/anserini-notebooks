{
  "nbformat": 4,
  "nbformat_minor": 0,
  "metadata": {
    "colab": {
      "name": "pyserini-robust04-demo.ipynb",
      "provenance": [],
      "collapsed_sections": [],
      "include_colab_link": true
    },
    "kernelspec": {
      "name": "python3",
      "display_name": "Python 3"
    }
  },
  "cells": [
    {
      "cell_type": "markdown",
      "metadata": {
        "id": "view-in-github",
        "colab_type": "text"
      },
      "source": [
        "<a href=\"https://colab.research.google.com/github/castorini/anserini-notebooks/blob/master/pyserini_robust04_demo.ipynb\" target=\"_parent\"><img src=\"https://colab.research.google.com/assets/colab-badge.svg\" alt=\"Open In Colab\"/></a>"
      ]
    },
    {
      "cell_type": "markdown",
      "metadata": {
        "id": "vUpmSFflwzR1",
        "colab_type": "text"
      },
      "source": [
        "# Pyserini Demo on Robust04"
      ]
    },
    {
      "cell_type": "markdown",
      "metadata": {
        "id": "-2PzgU4YxIl3",
        "colab_type": "text"
      },
      "source": [
        "This notebook provides a brief overview of how to use [Pyserini](https://github.com/castorini/anserini/blob/master/docs/pyserini.md), the Python interface to [Anserini](http://anserini.io), to search the collection from the TREC 2004 Robust Track.\n"
      ]
    },
    {
      "cell_type": "markdown",
      "metadata": {
        "id": "XR8bFJc0DgaE",
        "colab_type": "text"
      },
      "source": [
        "## Installation\n"
      ]
    },
    {
      "cell_type": "markdown",
      "metadata": {
        "id": "f2vNd7bpJlDZ",
        "colab_type": "text"
      },
      "source": [
        "Install Python dependencies"
      ]
    },
    {
      "cell_type": "code",
      "metadata": {
        "id": "E_lt0-pXJia0",
        "colab_type": "code",
        "colab": {}
      },
      "source": [
        "%%capture\n",
        "!pip install pyserini==0.8.1.0\n",
        "\n",
        "import os\n",
        "os.environ[\"JAVA_HOME\"] = \"/usr/lib/jvm/java-11-openjdk-amd64\""
      ],
      "execution_count": 0,
      "outputs": []
    },
    {
      "cell_type": "markdown",
      "metadata": {
        "id": "xbXmstbGypef",
        "colab_type": "text"
      },
      "source": [
        "Let's grab the pre-built index:"
      ]
    },
    {
      "cell_type": "code",
      "metadata": {
        "id": "JT_OJKftdqGP",
        "colab_type": "code",
        "colab": {}
      },
      "source": [
        "%%capture\n",
        "!wget https://git.uwaterloo.ca/jimmylin/anserini-indexes/raw/master/index-robust04-20191213.tar.gz\n",
        "# Alternate URL: https://www.dropbox.com/s/s91388puqbxh176/index-robust04-20191213.tar.gz\n",
        "!tar xvfz index-robust04-20191213.tar.gz"
      ],
      "execution_count": 0,
      "outputs": []
    },
    {
      "cell_type": "markdown",
      "metadata": {
        "id": "EwVSvHBz9RMM",
        "colab_type": "text"
      },
      "source": [
        "Sanity check of index size:"
      ]
    },
    {
      "cell_type": "code",
      "metadata": {
        "id": "KVXWA6WS0aqJ",
        "colab_type": "code",
        "outputId": "dcabb68b-e9e5-45bb-de28-6c45f0fd2466",
        "colab": {
          "base_uri": "https://localhost:8080/",
          "height": 34
        }
      },
      "source": [
        "!du -h index-robust04-20191213"
      ],
      "execution_count": 3,
      "outputs": [
        {
          "output_type": "stream",
          "text": [
            "2.1G\tindex-robust04-20191213\n"
          ],
          "name": "stdout"
        }
      ]
    },
    {
      "cell_type": "markdown",
      "metadata": {
        "id": "RJ2MrEUuEk4D",
        "colab_type": "text"
      },
      "source": [
        "## SimpleSearcher Usage"
      ]
    },
    {
      "cell_type": "markdown",
      "metadata": {
        "id": "NkD0kKxW9mHP",
        "colab_type": "text"
      },
      "source": [
        "You can use `pysearch` to search over an index. Here's the basic usage:"
      ]
    },
    {
      "cell_type": "code",
      "metadata": {
        "id": "yFZlcqEX0t1f",
        "colab_type": "code",
        "outputId": "1a7a075f-2403-4422-8f60-a9d44d058685",
        "colab": {
          "base_uri": "https://localhost:8080/",
          "height": 187
        }
      },
      "source": [
        "from pyserini.search import pysearch\n",
        "\n",
        "searcher = pysearch.SimpleSearcher('index-robust04-20191213')\n",
        "hits = searcher.search('black bear attacks')\n",
        "\n",
        "# Prints the first 10 hits\n",
        "for i in range(0, 10):\n",
        "    print(f'{i+1:2} {hits[i].docid:15} {hits[i].score:.5f}')"
      ],
      "execution_count": 4,
      "outputs": [
        {
          "output_type": "stream",
          "text": [
            " 1 LA092790-0015   7.06680\n",
            " 2 LA081689-0039   6.89020\n",
            " 3 FBIS4-16530     6.61630\n",
            " 4 LA102589-0076   6.46450\n",
            " 5 FT932-15491     6.25090\n",
            " 6 FBIS3-12276     6.24630\n",
            " 7 LA091090-0085   6.17030\n",
            " 8 FT922-13519     6.04270\n",
            " 9 LA052790-0205   5.94060\n",
            "10 LA103089-0041   5.90650\n"
          ],
          "name": "stdout"
        }
      ]
    },
    {
      "cell_type": "markdown",
      "metadata": {
        "id": "xw6EjwPgPB_b",
        "colab_type": "text"
      },
      "source": [
        "The `hits` data structure holds the `docid`, the retrieval score, as well as the document content:"
      ]
    },
    {
      "cell_type": "code",
      "metadata": {
        "id": "lGLZhQgANy3I",
        "colab_type": "code",
        "outputId": "dc567435-08d1-492a-dc7b-e0891cf618f9",
        "colab": {
          "base_uri": "https://localhost:8080/",
          "height": 539
        }
      },
      "source": [
        "from IPython.core.display import display, HTML\n",
        "display(HTML('<div style=\"font-family: Times New Roman; padding-bottom:10px\">' + hits[0].raw + '</div>'))"
      ],
      "execution_count": 5,
      "outputs": [
        {
          "output_type": "display_data",
          "data": {
            "text/html": [
              "<div style=\"font-family: Times New Roman; padding-bottom:10px\"><DATE>\n",
              "<P>\n",
              "September 27, 1990, Thursday, Ventura County Edition\n",
              "</P>\n",
              "</DATE>\n",
              "<HEADLINE>\n",
              "<P>\n",
              "HUNGRY WILDLIFE STRAYING INTO SUBURBS;\n",
              "</P>\n",
              "<P>\n",
              "DROUGHT: FOUR DRY YEARS HAVE PARCHED NATIVE VEGETATION, FORCING BOBCATS, BEARS,\n",
              "MOUNTAIN LIONS, DEER AND COYOTES TO FORAGE CLOSER TO INHABITED AREAS.\n",
              "</P>\n",
              "</HEADLINE>\n",
              "<TEXT>\n",
              "<P>\n",
              "Hungry bobcats, bears and mountain lions -- unable to find food in Ventura\n",
              "County's drought-parched forests -- are being pushed out of their natural\n",
              "habitats to scavenge in rural communities, game officials said Wednesday.\n",
              "</P>\n",
              "<P>\n",
              "Two weeks ago, a black bear ripped the door off a trailer home in Rose Valley\n",
              "just north of Ojai. And within the past month, there have been several reports\n",
              "of mountain lions eating livestock near Los Padres National Forest. Several\n",
              "bobcats have been reported near houses in the Ojai Valley.\n",
              "</P>\n",
              "<P>\n",
              "Authorities say that over the past two years they have received twice the\n",
              "complaints -- about 20 a month -- of wild animals in populated areas. The\n",
              "drought is now in its fourth year in California.\n",
              "</P>\n",
              "<P>\n",
              "\"We've been having more and more conflicts with animals,\" said Capt. Roger\n",
              "Reese, with the state Department of Fish and Game. \"The fact is, it's very dry\n",
              "out there, and there just isn't a lot of food and water for them.\"\n",
              "</P>\n",
              "<P>\n",
              "Animal control officials say they are advising residents in rural areas to be\n",
              "aware of the problem. But so far, no one has been attacked by the wild animals,\n",
              "although there have been such attacks reported elsewhere in Southern\n",
              "California, authorities said.\n",
              "</P>\n",
              "<P>\n",
              "Coyotes have been running amok, officials said. Virtually all parts of the\n",
              "county except beach areas probably have been visited at one time or another by\n",
              "coyotes, said Kathy Jenks, director of the Ventura County Department of Animal\n",
              "Regulation.\n",
              "</P>\n",
              "<P>\n",
              "In Ventura, coyotes are often seen in Grant Park above City Hall, and in Arroyo\n",
              "Verde Park in the Ondulando district on the east side, Jenks said.\n",
              "</P>\n",
              "<P>\n",
              "Elsewhere, coyotes have been seen on streets in Thousand Oaks, Moorpark and\n",
              "Simi Valley. The rural, foothill developments are especially vulnerable, she\n",
              "said.\n",
              "</P>\n",
              "<P>\n",
              "Jenks said she advises residents to keep small pets inside, especially at\n",
              "night.\n",
              "</P>\n",
              "<P>\n",
              "There have even been a few cases in which brazen coyotes have attacked family\n",
              "animals in back yards, and a large number of house cats are disappearing,\n",
              "officials said.\n",
              "</P>\n",
              "<P>\n",
              "\"The common house cat is like a fancy feast for a coyote,\" she said. \"They're\n",
              "hungry, they're thirsty and they're coming down out of the hills.\"\n",
              "</P>\n",
              "<P>\n",
              "There have been a few reports of deer grazing in people's yards, Reese said.\n",
              "</P>\n",
              "<P>\n",
              "Traditionally, September is the worst month for wildlife, authorities said.\n",
              "</P>\n",
              "<P>\n",
              "\"It is usually the driest month,\" Reese said. \"And a lot of animals that have\n",
              "been raised in the spring leave their parents and go in search of food.\"\n",
              "</P>\n",
              "<P>\n",
              "More animals are expected to leave their natural habitats if the drought\n",
              "continues, officials said.\n",
              "</P>\n",
              "<P>\n",
              "\"I tell people who call that if we didn't have the big cats and the coyotes, we\n",
              "would be overrun by rodents,\" Jenks said. \"I would much rather hear a coyote in\n",
              "the distance than have roof rats.\"\n",
              "</P>\n",
              "<P>\n",
              "Don DeBusschere, who lives on a 45-acre walnut orchard in Happy Valley near\n",
              "Ojai, said his family has grown accustomed to wild animals. DeBusschere said he\n",
              "has seen scores of coyotes, several deer and a black bear.\n",
              "</P>\n",
              "<P>\n",
              "Recently, he said, two bobcats have moved into the trees on the edge of his\n",
              "property.\n",
              "</P>\n",
              "<P>\n",
              "\"They're not out to get humans,\" DeBusschere said. \"They're just trying to make\n",
              "a living off the land.\"\n",
              "</P>\n",
              "</TEXT></div>"
            ],
            "text/plain": [
              "<IPython.core.display.HTML object>"
            ]
          },
          "metadata": {
            "tags": []
          }
        }
      ]
    },
    {
      "cell_type": "markdown",
      "metadata": {
        "id": "JOLbQXmPOvbJ",
        "colab_type": "text"
      },
      "source": [
        "Here's how you can configure search options, such as BM25 parameters and using relevance feedback."
      ]
    },
    {
      "cell_type": "code",
      "metadata": {
        "id": "qHKYXSUGN76K",
        "colab_type": "code",
        "outputId": "80a44374-288b-4e04-bfe7-5f3a7184a13e",
        "colab": {
          "base_uri": "https://localhost:8080/",
          "height": 187
        }
      },
      "source": [
        "searcher.set_bm25_similarity(0.9, 0.4)\n",
        "searcher.set_rm3_reranker(10, 10, 0.5)\n",
        "\n",
        "hits2 = searcher.search('black bear attacks')\n",
        "\n",
        "# Prints the first 10 hits\n",
        "for i in range(0, 10):\n",
        "    print(f'{i+1:2} {hits[i].docid:15} {hits[i].score:.5f}')"
      ],
      "execution_count": 6,
      "outputs": [
        {
          "output_type": "stream",
          "text": [
            " 1 LA092790-0015   7.06680\n",
            " 2 LA081689-0039   6.89020\n",
            " 3 FBIS4-16530     6.61630\n",
            " 4 LA102589-0076   6.46450\n",
            " 5 FT932-15491     6.25090\n",
            " 6 FBIS3-12276     6.24630\n",
            " 7 LA091090-0085   6.17030\n",
            " 8 FT922-13519     6.04270\n",
            " 9 LA052790-0205   5.94060\n",
            "10 LA103089-0041   5.90650\n"
          ],
          "name": "stdout"
        }
      ]
    },
    {
      "cell_type": "markdown",
      "metadata": {
        "id": "-Vgo98wnPUQO",
        "colab_type": "text"
      },
      "source": [
        "Note that the results have changed."
      ]
    },
    {
      "cell_type": "markdown",
      "metadata": {
        "id": "_aSGvvu57R6g",
        "colab_type": "text"
      },
      "source": [
        "## IndexReaderUtils Usage"
      ]
    },
    {
      "cell_type": "markdown",
      "metadata": {
        "id": "emoSTga_7fOB",
        "colab_type": "text"
      },
      "source": [
        "The `IndexReaderUtils` class provides various methods to read the index directly. For example, we can fetch a raw document from the index given its `docid`:"
      ]
    },
    {
      "cell_type": "code",
      "metadata": {
        "id": "N5ApT1YG71mz",
        "colab_type": "code",
        "outputId": "2e4021a8-fd27-4cd5-d56b-0d0cbf0a7103",
        "colab": {
          "base_uri": "https://localhost:8080/",
          "height": 539
        }
      },
      "source": [
        "from pyserini.index import pyutils\n",
        "\n",
        "index_utils = pyutils.IndexReaderUtils('index-robust04-20191213/')\n",
        "\n",
        "doc = index_utils.get_raw_document_contents('LA092790-0015')\n",
        "display(HTML('<div style=\"font-family: Times New Roman; padding-bottom:10px\">' + doc + '</div>'))"
      ],
      "execution_count": 7,
      "outputs": [
        {
          "output_type": "display_data",
          "data": {
            "text/html": [
              "<div style=\"font-family: Times New Roman; padding-bottom:10px\"><DATE>\n",
              "<P>\n",
              "September 27, 1990, Thursday, Ventura County Edition\n",
              "</P>\n",
              "</DATE>\n",
              "<HEADLINE>\n",
              "<P>\n",
              "HUNGRY WILDLIFE STRAYING INTO SUBURBS;\n",
              "</P>\n",
              "<P>\n",
              "DROUGHT: FOUR DRY YEARS HAVE PARCHED NATIVE VEGETATION, FORCING BOBCATS, BEARS,\n",
              "MOUNTAIN LIONS, DEER AND COYOTES TO FORAGE CLOSER TO INHABITED AREAS.\n",
              "</P>\n",
              "</HEADLINE>\n",
              "<TEXT>\n",
              "<P>\n",
              "Hungry bobcats, bears and mountain lions -- unable to find food in Ventura\n",
              "County's drought-parched forests -- are being pushed out of their natural\n",
              "habitats to scavenge in rural communities, game officials said Wednesday.\n",
              "</P>\n",
              "<P>\n",
              "Two weeks ago, a black bear ripped the door off a trailer home in Rose Valley\n",
              "just north of Ojai. And within the past month, there have been several reports\n",
              "of mountain lions eating livestock near Los Padres National Forest. Several\n",
              "bobcats have been reported near houses in the Ojai Valley.\n",
              "</P>\n",
              "<P>\n",
              "Authorities say that over the past two years they have received twice the\n",
              "complaints -- about 20 a month -- of wild animals in populated areas. The\n",
              "drought is now in its fourth year in California.\n",
              "</P>\n",
              "<P>\n",
              "\"We've been having more and more conflicts with animals,\" said Capt. Roger\n",
              "Reese, with the state Department of Fish and Game. \"The fact is, it's very dry\n",
              "out there, and there just isn't a lot of food and water for them.\"\n",
              "</P>\n",
              "<P>\n",
              "Animal control officials say they are advising residents in rural areas to be\n",
              "aware of the problem. But so far, no one has been attacked by the wild animals,\n",
              "although there have been such attacks reported elsewhere in Southern\n",
              "California, authorities said.\n",
              "</P>\n",
              "<P>\n",
              "Coyotes have been running amok, officials said. Virtually all parts of the\n",
              "county except beach areas probably have been visited at one time or another by\n",
              "coyotes, said Kathy Jenks, director of the Ventura County Department of Animal\n",
              "Regulation.\n",
              "</P>\n",
              "<P>\n",
              "In Ventura, coyotes are often seen in Grant Park above City Hall, and in Arroyo\n",
              "Verde Park in the Ondulando district on the east side, Jenks said.\n",
              "</P>\n",
              "<P>\n",
              "Elsewhere, coyotes have been seen on streets in Thousand Oaks, Moorpark and\n",
              "Simi Valley. The rural, foothill developments are especially vulnerable, she\n",
              "said.\n",
              "</P>\n",
              "<P>\n",
              "Jenks said she advises residents to keep small pets inside, especially at\n",
              "night.\n",
              "</P>\n",
              "<P>\n",
              "There have even been a few cases in which brazen coyotes have attacked family\n",
              "animals in back yards, and a large number of house cats are disappearing,\n",
              "officials said.\n",
              "</P>\n",
              "<P>\n",
              "\"The common house cat is like a fancy feast for a coyote,\" she said. \"They're\n",
              "hungry, they're thirsty and they're coming down out of the hills.\"\n",
              "</P>\n",
              "<P>\n",
              "There have been a few reports of deer grazing in people's yards, Reese said.\n",
              "</P>\n",
              "<P>\n",
              "Traditionally, September is the worst month for wildlife, authorities said.\n",
              "</P>\n",
              "<P>\n",
              "\"It is usually the driest month,\" Reese said. \"And a lot of animals that have\n",
              "been raised in the spring leave their parents and go in search of food.\"\n",
              "</P>\n",
              "<P>\n",
              "More animals are expected to leave their natural habitats if the drought\n",
              "continues, officials said.\n",
              "</P>\n",
              "<P>\n",
              "\"I tell people who call that if we didn't have the big cats and the coyotes, we\n",
              "would be overrun by rodents,\" Jenks said. \"I would much rather hear a coyote in\n",
              "the distance than have roof rats.\"\n",
              "</P>\n",
              "<P>\n",
              "Don DeBusschere, who lives on a 45-acre walnut orchard in Happy Valley near\n",
              "Ojai, said his family has grown accustomed to wild animals. DeBusschere said he\n",
              "has seen scores of coyotes, several deer and a black bear.\n",
              "</P>\n",
              "<P>\n",
              "Recently, he said, two bobcats have moved into the trees on the edge of his\n",
              "property.\n",
              "</P>\n",
              "<P>\n",
              "\"They're not out to get humans,\" DeBusschere said. \"They're just trying to make\n",
              "a living off the land.\"\n",
              "</P>\n",
              "</TEXT></div>"
            ],
            "text/plain": [
              "<IPython.core.display.HTML object>"
            ]
          },
          "metadata": {
            "tags": []
          }
        }
      ]
    },
    {
      "cell_type": "markdown",
      "metadata": {
        "id": "1RMfMgWt8bgm",
        "colab_type": "text"
      },
      "source": [
        "Note that the result is exactly the same as displaying the hit contents above. Given the raw text, we can obtain its analyzed form (i.e., tokenized, stemmed, stopwords removed, etc.). Here we show the first ten tokens:"
      ]
    },
    {
      "cell_type": "code",
      "metadata": {
        "id": "ZgNGM65F6m5h",
        "colab_type": "code",
        "outputId": "43326981-77ed-465d-b659-cc8423a7309a",
        "colab": {
          "base_uri": "https://localhost:8080/",
          "height": 187
        }
      },
      "source": [
        "analyzed = index_utils.analyze(doc)\n",
        "analyzed[0:10]"
      ],
      "execution_count": 8,
      "outputs": [
        {
          "output_type": "execute_result",
          "data": {
            "text/plain": [
              "['date',\n",
              " 'p',\n",
              " 'septemb',\n",
              " '27',\n",
              " '1990',\n",
              " 'thursdai',\n",
              " 'ventura',\n",
              " 'counti',\n",
              " 'edit',\n",
              " 'p']"
            ]
          },
          "metadata": {
            "tags": []
          },
          "execution_count": 8
        }
      ]
    },
    {
      "cell_type": "markdown",
      "metadata": {
        "id": "Z5OUXedN89Yf",
        "colab_type": "text"
      },
      "source": [
        "The index also stores the raw document vector, which we can obtain as a Python dictionary of analyzed terms to counts (i.e., term frequency):"
      ]
    },
    {
      "cell_type": "code",
      "metadata": {
        "id": "mMtneeJw8HDI",
        "colab_type": "code",
        "outputId": "b008d9a8-f71e-40ff-960f-a58d563c3483",
        "colab": {
          "base_uri": "https://localhost:8080/",
          "height": 1000
        }
      },
      "source": [
        "doc_vector = index_utils.get_document_vector('LA092790-0015')\n",
        "doc_vector"
      ],
      "execution_count": 9,
      "outputs": [
        {
          "output_type": "execute_result",
          "data": {
            "text/plain": [
              "{'1990': 1,\n",
              " '20': 1,\n",
              " '27': 1,\n",
              " '45': 1,\n",
              " 'about': 1,\n",
              " 'abov': 1,\n",
              " 'accustom': 1,\n",
              " 'acr': 1,\n",
              " 'advis': 2,\n",
              " 'ago': 1,\n",
              " 'all': 1,\n",
              " 'although': 1,\n",
              " 'amok': 1,\n",
              " 'anim': 9,\n",
              " 'anoth': 1,\n",
              " 'area': 4,\n",
              " 'arroyo': 1,\n",
              " 'attack': 3,\n",
              " 'author': 3,\n",
              " 'awar': 1,\n",
              " 'back': 1,\n",
              " 'be': 1,\n",
              " 'beach': 1,\n",
              " 'bear': 4,\n",
              " 'been': 11,\n",
              " 'big': 1,\n",
              " 'black': 2,\n",
              " 'bobcat': 4,\n",
              " 'brazen': 1,\n",
              " 'california': 2,\n",
              " 'call': 1,\n",
              " 'capt': 1,\n",
              " 'case': 1,\n",
              " 'cat': 3,\n",
              " 'citi': 1,\n",
              " 'closer': 1,\n",
              " 'come': 1,\n",
              " 'common': 1,\n",
              " 'commun': 1,\n",
              " 'complaint': 1,\n",
              " 'conflict': 1,\n",
              " 'continu': 1,\n",
              " 'control': 1,\n",
              " 'counti': 4,\n",
              " 'coyot': 10,\n",
              " 'debusscher': 3,\n",
              " 'deer': 3,\n",
              " 'depart': 2,\n",
              " 'develop': 1,\n",
              " \"didn't\": 1,\n",
              " 'director': 1,\n",
              " 'disappear': 1,\n",
              " 'distanc': 1,\n",
              " 'district': 1,\n",
              " 'don': 1,\n",
              " 'door': 1,\n",
              " 'down': 1,\n",
              " 'driest': 1,\n",
              " 'drought': 4,\n",
              " 'dry': 2,\n",
              " 'east': 1,\n",
              " 'eat': 1,\n",
              " 'edg': 1,\n",
              " 'edit': 1,\n",
              " 'elsewher': 2,\n",
              " 'especi': 2,\n",
              " 'even': 1,\n",
              " 'except': 1,\n",
              " 'expect': 1,\n",
              " 'fact': 1,\n",
              " 'famili': 2,\n",
              " 'fanci': 1,\n",
              " 'far': 1,\n",
              " 'feast': 1,\n",
              " 'few': 2,\n",
              " 'find': 1,\n",
              " 'fish': 1,\n",
              " 'food': 3,\n",
              " 'foothil': 1,\n",
              " 'forag': 1,\n",
              " 'forc': 1,\n",
              " 'forest': 2,\n",
              " 'four': 1,\n",
              " 'fourth': 1,\n",
              " 'game': 2,\n",
              " 'get': 1,\n",
              " 'go': 1,\n",
              " 'grant': 1,\n",
              " 'graze': 1,\n",
              " 'grown': 1,\n",
              " 'ha': 3,\n",
              " 'habitat': 2,\n",
              " 'hall': 1,\n",
              " 'happi': 1,\n",
              " 'have': 16,\n",
              " 'he': 2,\n",
              " 'hear': 1,\n",
              " 'hi': 2,\n",
              " 'hill': 1,\n",
              " 'home': 1,\n",
              " 'hous': 3,\n",
              " 'human': 1,\n",
              " 'hungri': 3,\n",
              " 'i': 2,\n",
              " 'inhabit': 1,\n",
              " 'insid': 1,\n",
              " \"isn't\": 1,\n",
              " 'it': 1,\n",
              " 'jenk': 4,\n",
              " 'just': 3,\n",
              " 'kathi': 1,\n",
              " 'keep': 1,\n",
              " 'land': 1,\n",
              " 'larg': 1,\n",
              " 'leav': 2,\n",
              " 'like': 1,\n",
              " 'lion': 3,\n",
              " 'live': 2,\n",
              " 'livestock': 1,\n",
              " 'lo': 1,\n",
              " 'lot': 2,\n",
              " 'make': 1,\n",
              " 'month': 4,\n",
              " 'moorpark': 1,\n",
              " 'more': 3,\n",
              " 'mountain': 3,\n",
              " 'move': 1,\n",
              " 'much': 1,\n",
              " 'nation': 1,\n",
              " 'nativ': 1,\n",
              " 'natur': 2,\n",
              " 'near': 3,\n",
              " 'night': 1,\n",
              " 'north': 1,\n",
              " 'now': 1,\n",
              " 'number': 1,\n",
              " 'oak': 1,\n",
              " 'off': 2,\n",
              " 'offici': 5,\n",
              " 'often': 1,\n",
              " 'ojai': 3,\n",
              " 'on': 2,\n",
              " 'ondulando': 1,\n",
              " 'orchard': 1,\n",
              " 'out': 4,\n",
              " 'over': 1,\n",
              " 'overrun': 1,\n",
              " 'padr': 1,\n",
              " 'parch': 2,\n",
              " 'parent': 1,\n",
              " 'park': 2,\n",
              " 'part': 1,\n",
              " 'past': 2,\n",
              " 'peopl': 2,\n",
              " 'pet': 1,\n",
              " 'popul': 1,\n",
              " 'probabl': 1,\n",
              " 'problem': 1,\n",
              " 'properti': 1,\n",
              " 'push': 1,\n",
              " 'rais': 1,\n",
              " 'rat': 1,\n",
              " 'rather': 1,\n",
              " 'receiv': 1,\n",
              " 'recent': 1,\n",
              " 'rees': 3,\n",
              " 'regul': 1,\n",
              " 'report': 4,\n",
              " 'resid': 2,\n",
              " 'rip': 1,\n",
              " 'rodent': 1,\n",
              " 'roger': 1,\n",
              " 'roof': 1,\n",
              " 'rose': 1,\n",
              " 'run': 1,\n",
              " 'rural': 3,\n",
              " 'sai': 2,\n",
              " 'said': 19,\n",
              " 'scaveng': 1,\n",
              " 'score': 1,\n",
              " 'search': 1,\n",
              " 'seen': 3,\n",
              " 'septemb': 2,\n",
              " 'sever': 3,\n",
              " 'she': 3,\n",
              " 'side': 1,\n",
              " 'simi': 1,\n",
              " 'small': 1,\n",
              " 'so': 1,\n",
              " 'southern': 1,\n",
              " 'spring': 1,\n",
              " 'state': 1,\n",
              " 'strai': 1,\n",
              " 'street': 1,\n",
              " 'suburb': 1,\n",
              " 'tell': 1,\n",
              " 'than': 1,\n",
              " 'them': 1,\n",
              " \"they'r\": 5,\n",
              " 'thirsti': 1,\n",
              " 'thousand': 1,\n",
              " 'thursdai': 1,\n",
              " 'time': 1,\n",
              " 'tradition': 1,\n",
              " 'trailer': 1,\n",
              " 'tree': 1,\n",
              " 'try': 1,\n",
              " 'twice': 1,\n",
              " 'two': 3,\n",
              " 'unabl': 1,\n",
              " 'usual': 1,\n",
              " 'vallei': 4,\n",
              " 'veget': 1,\n",
              " 'ventura': 4,\n",
              " 'verd': 1,\n",
              " 'veri': 1,\n",
              " 'virtual': 1,\n",
              " 'visit': 1,\n",
              " 'vulner': 1,\n",
              " 'walnut': 1,\n",
              " 'water': 1,\n",
              " 'we': 2,\n",
              " \"we'v\": 1,\n",
              " 'wednesdai': 1,\n",
              " 'week': 1,\n",
              " 'which': 1,\n",
              " 'who': 2,\n",
              " 'wild': 3,\n",
              " 'wildlif': 2,\n",
              " 'within': 1,\n",
              " 'worst': 1,\n",
              " 'would': 2,\n",
              " 'yard': 2,\n",
              " 'year': 3}"
            ]
          },
          "metadata": {
            "tags": []
          },
          "execution_count": 9
        }
      ]
    }
  ]
}