{
  "nbformat": 4,
  "nbformat_minor": 0,
  "metadata": {
    "colab": {
      "name": "pyserini-msmarco-passage-demo.ipynb",
      "provenance": [],
      "collapsed_sections": [],
      "include_colab_link": true
    },
    "kernelspec": {
      "name": "python3",
      "display_name": "Python 3"
    }
  },
  "cells": [
    {
      "cell_type": "markdown",
      "metadata": {
        "id": "view-in-github",
        "colab_type": "text"
      },
      "source": [
        "<a href=\"https://colab.research.google.com/github/castorini/anserini-notebooks/blob/master/pyserini_msmarco_passage_demo.ipynb\" target=\"_parent\"><img src=\"https://colab.research.google.com/assets/colab-badge.svg\" alt=\"Open In Colab\"/></a>"
      ]
    },
    {
      "cell_type": "markdown",
      "metadata": {
        "id": "vUpmSFflwzR1",
        "colab_type": "text"
      },
      "source": [
        "# Pyserini Demo on the MS MARCO Passage Dataset"
      ]
    },
    {
      "cell_type": "markdown",
      "metadata": {
        "id": "-2PzgU4YxIl3",
        "colab_type": "text"
      },
      "source": [
        "This notebook allows you to replicate the BM25 baseline for the [MS MARCO passage ranking task](http://www.msmarco.org/) with [Pyserini](https://github.com/castorini/anserini/blob/master/docs/pyserini.md), the Python interface to [Anserini](http://anserini.io).\n"
      ]
    },
    {
      "cell_type": "markdown",
      "metadata": {
        "id": "XR8bFJc0DgaE",
        "colab_type": "text"
      },
      "source": [
        "## Installation\n"
      ]
    },
    {
      "cell_type": "markdown",
      "metadata": {
        "id": "f2vNd7bpJlDZ",
        "colab_type": "text"
      },
      "source": [
        "Install Python dependencies"
      ]
    },
    {
      "cell_type": "code",
      "metadata": {
        "id": "E_lt0-pXJia0",
        "colab_type": "code",
        "colab": {}
      },
      "source": [
        "%%capture\n",
        "# Note that we're using an experimental TestPyPI release, not the stable release in PyPI\n",
        "!pip install pyjnius==1.2\n",
        "!pip install -i https://test.pypi.org/simple/ pyserini==0.6.1.post0\n",
        "\n",
        "import os\n",
        "os.environ[\"JAVA_HOME\"] = \"/usr/lib/jvm/java-11-openjdk-amd64\""
      ],
      "execution_count": 0,
      "outputs": []
    },
    {
      "cell_type": "markdown",
      "metadata": {
        "id": "TwSMvuMb2EJq",
        "colab_type": "text"
      },
      "source": [
        "Fix annoying known issue with pyjnius (see [this explanation](https://github.com/castorini/pyserini/blob/master/README.md#known-issues) for more details):\n"
      ]
    },
    {
      "cell_type": "code",
      "metadata": {
        "id": "O2b5X0hx1pvy",
        "colab_type": "code",
        "colab": {}
      },
      "source": [
        "%%capture\n",
        "!mkdir -p /usr/lib/jvm/java-1.11.0-openjdk-amd64/jre/lib/amd64/server/\n",
        "!ln -s /usr/lib/jvm/java-1.11.0-openjdk-amd64/lib/server/libjvm.so /usr/lib/jvm/java-1.11.0-openjdk-amd64/jre/lib/amd64/server/libjvm.so"
      ],
      "execution_count": 0,
      "outputs": []
    },
    {
      "cell_type": "markdown",
      "metadata": {
        "id": "xbXmstbGypef",
        "colab_type": "text"
      },
      "source": [
        "Let's grab the pre-built index:"
      ]
    },
    {
      "cell_type": "code",
      "metadata": {
        "id": "JT_OJKftdqGP",
        "colab_type": "code",
        "colab": {}
      },
      "source": [
        "%%capture\n",
        "!wget https://git.uwaterloo.ca/jimmylin/anserini-indexes/raw/388bbac6cf12fb96cc1c36c14308072fed2a45a0/index-msmarco-passage-20191117-0ed488.tar.gz\n",
        "!tar xvfz index-msmarco-passage-20191117-0ed488.tar.gz"
      ],
      "execution_count": 0,
      "outputs": []
    },
    {
      "cell_type": "markdown",
      "metadata": {
        "id": "EwVSvHBz9RMM",
        "colab_type": "text"
      },
      "source": [
        "Sanity check of index size:"
      ]
    },
    {
      "cell_type": "code",
      "metadata": {
        "id": "KVXWA6WS0aqJ",
        "colab_type": "code",
        "outputId": "d46e766d-c22a-46cd-b6e0-64c50339db9d",
        "colab": {
          "base_uri": "https://localhost:8080/",
          "height": 34
        }
      },
      "source": [
        "!du -h index-msmarco-passage-20191117-0ed488"
      ],
      "execution_count": 4,
      "outputs": [
        {
          "output_type": "stream",
          "text": [
            "2.5G\tindex-msmarco-passage-20191117-0ed488\n"
          ],
          "name": "stdout"
        }
      ]
    },
    {
      "cell_type": "markdown",
      "metadata": {
        "id": "RJ2MrEUuEk4D",
        "colab_type": "text"
      },
      "source": [
        "## Usage"
      ]
    },
    {
      "cell_type": "markdown",
      "metadata": {
        "id": "NkD0kKxW9mHP",
        "colab_type": "text"
      },
      "source": [
        "You can use `pysearch` to search over an index. Here's the basic usage:"
      ]
    },
    {
      "cell_type": "code",
      "metadata": {
        "id": "-2ttQwtJTNnQ",
        "colab_type": "code",
        "outputId": "38146050-9aea-468c-8a5b-0cf5d2799996",
        "colab": {
          "base_uri": "https://localhost:8080/",
          "height": 204
        }
      },
      "source": [
        "from pyserini.search import pysearch\n",
        "import itertools\n",
        "\n",
        "topics = pysearch.get_topics('msmarco_passage_dev_subset')\n",
        "# Print the first 10 queries\n",
        "for q in itertools.islice(topics.items(), 10):\n",
        "    print('{} {}'.format(q[0], q[1]['title']))\n",
        "\n",
        "print('{} queries total'.format(len(topics)))\n"
      ],
      "execution_count": 5,
      "outputs": [
        {
          "output_type": "stream",
          "text": [
            "2 Androgen receptor define\n",
            "1215 3 levels of government in canada and their responsibilities\n",
            "1288 3/5 of 60\n",
            "1576 60x40 slab cost\n",
            "2235 Bethel University was founded in what year\n",
            "2798 Does Suddenlink Carry ESPN3\n",
            "2962 Explain what a bone scan is and what it is used for.\n",
            "4696 Is the Louisiana sales tax 4.75\n",
            "4947 Ludacris Net Worth\n",
            "5925 Sony PS-LX300USB how to connect to pc\n",
            "6980 queries total\n"
          ],
          "name": "stdout"
        }
      ]
    },
    {
      "cell_type": "code",
      "metadata": {
        "id": "yFZlcqEX0t1f",
        "colab_type": "code",
        "outputId": "49531b0f-d061-4b0d-e387-c07491cbafe4",
        "colab": {
          "base_uri": "https://localhost:8080/",
          "height": 207
        }
      },
      "source": [
        "from pyserini.search import pysearch\n",
        "\n",
        "topics = pysearch.get_topics('msmarco_passage_dev_subset')\n",
        "searcher = pysearch.SimpleSearcher('index-msmarco-passage-20191117-0ed488')\n",
        "hits = searcher.search(topics[1102400]['title'])\n",
        "\n",
        "# Prints the first 10 hits\n",
        "for i in range(0, 10):\n",
        "    print('{} {} {}'.format(i+1, hits[i].score, hits[i].content))"
      ],
      "execution_count": 6,
      "outputs": [
        {
          "output_type": "stream",
          "text": [
            "1 17.335800170898438 Why do Bears hibernate? March 31, 2010, Joan, Leave a comment. Why do bears hibernate? When we hear the word âhibernateâ we always associate it with bears. That is because, while a lot of animals go through hibernation during the winter season such as squirrels, rodents and bats, the bear is the most famous when it comes to hibernating. What comes first to our mind is why do bears hibernate? First of all, letâs get to know the meaning of hibernation.\n",
            "2 13.230899810791016 Why do bears hibernate? Watch this to discover how much effort is spent on survival during winter in the world of the Big Sky Bears. Subscribe to BBC Earth: http://bit.ly/BBCEarthSub\n",
            "3 13.135700225830078 Technically, as the other anwerer said, bears do not hibernate, but there isn't a good term for what they do. Some use 'winter lethergy' or winter torpor' or some other phrase to distinguish it, but hibernation is commonly used by the public.ll kinds of bears technically don't hibernate. They enter into a phase called torpor which is like a deep slumber but they can awaken and often do from their slumber. Panda B â¦ ears, sun bears, and sloth bears do not hybernate. + 18 others found this useful.\n",
            "4 13.014599800109863 It is a common misconception that bears hibernate during the winter. While bears tend to slow down during the winter, they are not true hibernators. Black bears, Grizzly bears and Brown bears do go into a deep sleep during the winter months, known as torpor. Hibernation is when animals âsleepâ through the winter.\n",
            "5 13.003899574279785 To prepare for hibernation, grizzlies must prepare a den, and consume an immense amount of food as they do not eat during hibernation. Grizzly bears do not defecate or urinate throughout the entire hibernation period. The male grizzly bear's hibernation ends in early to mid-March, while females emerge in April or early May.\n",
            "6 12.689399719238281 Some zoo bears are fed year round, and do not hibernate. Since they do not undergo a winter weight loss like wild bears, some zoo bears can get very overweight, which is very unhealthy. Fortunately more zoos are allowing their bears hibernate during winter.\n",
            "7 12.554499626159668 Bears in zoos will not hibernate if food is available, though they will slow down and sleep more than usual. Some zoo bears are fed year round, and do not hibernate. Since they do not undergo a winter weight loss like wild bears, some zoo bears can get very overweight, which is very unhealthy.\n",
            "8 12.51710033416748 All kinds of bears technically don't hibernate. They enter into a phase called torpor which is like a deep slumber but they can awaken and often do from their slumber. Panda B â¦ ears, sun bears, and sloth bears do not hybernate.+ 18 others found this useful.ll kinds of bears technically don't hibernate. They enter into a phase called torpor which is like a deep slumber but they can awaken and often do from their slumber. Panda B â¦ ears, sun bears, and sloth bears do not hybernate. + 18 others found this useful.\n",
            "9 12.4350004196167 Date: 12-11-2012. It is a common misconception that bears hibernate during the winter. While bears tend to slow down during the winter, they are not true hibernators. Black bears, Grizzly bears and Brown bears do go into a deep sleep during the winter months, known as torpor.\n",
            "10 12.374600410461426 While bears tend to slow down during the winter, they are not true hibernators. Black bears, Grizzly bears and Brown bears do go into a deep sleep during the winter months, known as torpor. Hibernation is when animals âsleepâ through the winter.\n"
          ],
          "name": "stdout"
        }
      ]
    },
    {
      "cell_type": "markdown",
      "metadata": {
        "id": "xw6EjwPgPB_b",
        "colab_type": "text"
      },
      "source": [
        "The `hits` data structure holds the `docid`, the retrieval score, as well as the document content:"
      ]
    },
    {
      "cell_type": "code",
      "metadata": {
        "id": "lGLZhQgANy3I",
        "colab_type": "code",
        "outputId": "3ee0a066-fa30-4d08-8c6b-be3ba891fda2",
        "colab": {
          "base_uri": "https://localhost:8080/",
          "height": 78
        }
      },
      "source": [
        "from IPython.core.display import display, HTML\n",
        "display(HTML('<div style=\"font-family: Times New Roman; padding-bottom:10px\">' + hits[0].content + '</div>'))"
      ],
      "execution_count": 7,
      "outputs": [
        {
          "output_type": "display_data",
          "data": {
            "text/html": [
              "<div style=\"font-family: Times New Roman; padding-bottom:10px\">Why do Bears hibernate? March 31, 2010, Joan, Leave a comment. Why do bears hibernate? When we hear the word âhibernateâ we always associate it with bears. That is because, while a lot of animals go through hibernation during the winter season such as squirrels, rodents and bats, the bear is the most famous when it comes to hibernating. What comes first to our mind is why do bears hibernate? First of all, letâs get to know the meaning of hibernation.</div>"
            ],
            "text/plain": [
              "<IPython.core.display.HTML object>"
            ]
          },
          "metadata": {
            "tags": []
          }
        }
      ]
    },
    {
      "cell_type": "markdown",
      "metadata": {
        "id": "JOLbQXmPOvbJ",
        "colab_type": "text"
      },
      "source": [
        "Let's run all the queries from the dev set:"
      ]
    },
    {
      "cell_type": "code",
      "metadata": {
        "id": "03sPnM3wWBfJ",
        "colab_type": "code",
        "outputId": "f378d7ec-9ccf-4223-b536-fed1369252d9",
        "colab": {
          "base_uri": "https://localhost:8080/",
          "height": 1000
        }
      },
      "source": [
        "from pyserini.search import pysearch\n",
        "\n",
        "def do_run(file, topics, searcher):\n",
        "    with open(file, 'w') as runfile:\n",
        "        cnt = 0\n",
        "        print('Running {} queries in total'.format(len(topics)))\n",
        "        for topicid in topics:\n",
        "            query = topics[topicid]['title'];\n",
        "            hits = searcher.search(query, 1000)\n",
        "            for i in range(0, len(hits)):\n",
        "                _ = runfile.write('{} Q0 {} {} {:.6f} Anserini\\n'.format(topicid, hits[i].docid, i+1, hits[i].score))\n",
        "            cnt += 1\n",
        "            if cnt % 100 == 0:\n",
        "                print('{} queries completed'.format(cnt))\n",
        "\n",
        "searcher = pysearch.SimpleSearcher('index-msmarco-passage-20191117-0ed488')\n",
        "topics = pysearch.get_topics('msmarco_passage_dev_subset')\n",
        "\n",
        "do_run('run-msmarco-passage-bm25.txt', topics, searcher)\n"
      ],
      "execution_count": 8,
      "outputs": [
        {
          "output_type": "stream",
          "text": [
            "Running 6980 queries in total\n",
            "100 queries completed\n",
            "200 queries completed\n",
            "300 queries completed\n",
            "400 queries completed\n",
            "500 queries completed\n",
            "600 queries completed\n",
            "700 queries completed\n",
            "800 queries completed\n",
            "900 queries completed\n",
            "1000 queries completed\n",
            "1100 queries completed\n",
            "1200 queries completed\n",
            "1300 queries completed\n",
            "1400 queries completed\n",
            "1500 queries completed\n",
            "1600 queries completed\n",
            "1700 queries completed\n",
            "1800 queries completed\n",
            "1900 queries completed\n",
            "2000 queries completed\n",
            "2100 queries completed\n",
            "2200 queries completed\n",
            "2300 queries completed\n",
            "2400 queries completed\n",
            "2500 queries completed\n",
            "2600 queries completed\n",
            "2700 queries completed\n",
            "2800 queries completed\n",
            "2900 queries completed\n",
            "3000 queries completed\n",
            "3100 queries completed\n",
            "3200 queries completed\n",
            "3300 queries completed\n",
            "3400 queries completed\n",
            "3500 queries completed\n",
            "3600 queries completed\n",
            "3700 queries completed\n",
            "3800 queries completed\n",
            "3900 queries completed\n",
            "4000 queries completed\n",
            "4100 queries completed\n",
            "4200 queries completed\n",
            "4300 queries completed\n",
            "4400 queries completed\n",
            "4500 queries completed\n",
            "4600 queries completed\n",
            "4700 queries completed\n",
            "4800 queries completed\n",
            "4900 queries completed\n",
            "5000 queries completed\n",
            "5100 queries completed\n",
            "5200 queries completed\n",
            "5300 queries completed\n",
            "5400 queries completed\n",
            "5500 queries completed\n",
            "5600 queries completed\n",
            "5700 queries completed\n",
            "5800 queries completed\n",
            "5900 queries completed\n",
            "6000 queries completed\n",
            "6100 queries completed\n",
            "6200 queries completed\n",
            "6300 queries completed\n",
            "6400 queries completed\n",
            "6500 queries completed\n",
            "6600 queries completed\n",
            "6700 queries completed\n",
            "6800 queries completed\n",
            "6900 queries completed\n"
          ],
          "name": "stdout"
        }
      ]
    },
    {
      "cell_type": "code",
      "metadata": {
        "id": "YacoQ28AZtQx",
        "colab_type": "code",
        "colab": {}
      },
      "source": [
        "%%capture\n",
        "!wget -O jtreceval-0.0.5-jar-with-dependencies.jar https://search.maven.org/remotecontent?filepath=uk/ac/gla/dcs/terrierteam/jtreceval/0.0.5/jtreceval-0.0.5-jar-with-dependencies.jar\n",
        "!wget https://raw.githubusercontent.com/castorini/anserini/master/src/main/resources/topics-and-qrels/qrels.msmarco-passage.dev-subset.txt"
      ],
      "execution_count": 0,
      "outputs": []
    },
    {
      "cell_type": "code",
      "metadata": {
        "id": "UIvgkIyiaRiI",
        "colab_type": "code",
        "outputId": "f4c25b9d-504c-484e-dfc3-20fbdee90570",
        "colab": {
          "base_uri": "https://localhost:8080/",
          "height": 527
        }
      },
      "source": [
        "!java -jar jtreceval-0.0.5-jar-with-dependencies.jar qrels.msmarco-passage.dev-subset.txt run-msmarco-passage-bm25.txt"
      ],
      "execution_count": 10,
      "outputs": [
        {
          "output_type": "stream",
          "text": [
            "runid                 \tall\tAnserini\n",
            "num_q                 \tall\t6980\n",
            "num_ret               \tall\t6974598\n",
            "num_rel               \tall\t7437\n",
            "num_rel_ret           \tall\t6309\n",
            "map                   \tall\t0.1926\n",
            "gm_map                \tall\t0.0168\n",
            "Rprec                 \tall\t0.1048\n",
            "bpref                 \tall\t0.8526\n",
            "recip_rank            \tall\t0.1960\n",
            "iprec_at_recall_0.00  \tall\t0.1964\n",
            "iprec_at_recall_0.10  \tall\t0.1964\n",
            "iprec_at_recall_0.20  \tall\t0.1964\n",
            "iprec_at_recall_0.30  \tall\t0.1964\n",
            "iprec_at_recall_0.40  \tall\t0.1952\n",
            "iprec_at_recall_0.50  \tall\t0.1952\n",
            "iprec_at_recall_0.60  \tall\t0.1898\n",
            "iprec_at_recall_0.70  \tall\t0.1898\n",
            "iprec_at_recall_0.80  \tall\t0.1893\n",
            "iprec_at_recall_0.90  \tall\t0.1893\n",
            "iprec_at_recall_1.00  \tall\t0.1893\n",
            "P_5                   \tall\t0.0591\n",
            "P_10                  \tall\t0.0394\n",
            "P_15                  \tall\t0.0301\n",
            "P_20                  \tall\t0.0246\n",
            "P_30                  \tall\t0.0182\n",
            "P_100                 \tall\t0.0069\n",
            "P_200                 \tall\t0.0038\n",
            "P_500                 \tall\t0.0017\n",
            "P_1000                \tall\t0.0009\n"
          ],
          "name": "stdout"
        }
      ]
    }
  ]
}