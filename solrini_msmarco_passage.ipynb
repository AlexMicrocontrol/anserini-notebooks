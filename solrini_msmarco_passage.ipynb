{
  "nbformat": 4,
  "nbformat_minor": 0,
  "metadata": {
    "colab": {
      "name": "solrini-msmarco-passage.ipynb",
      "provenance": [],
      "collapsed_sections": [],
      "authorship_tag": "ABX9TyMYpd9vOf4BQaspSAbC7TL+",
      "include_colab_link": true
    },
    "kernelspec": {
      "name": "python3",
      "display_name": "Python 3"
    }
  },
  "cells": [
    {
      "cell_type": "markdown",
      "metadata": {
        "id": "view-in-github",
        "colab_type": "text"
      },
      "source": [
        "<a href=\"https://colab.research.google.com/github/castorini/anserini-notebooks/blob/master/solrini_msmarco_passage.ipynb\" target=\"_parent\"><img src=\"https://colab.research.google.com/assets/colab-badge.svg\" alt=\"Open In Colab\"/></a>"
      ]
    },
    {
      "cell_type": "code",
      "metadata": {
        "id": "T8szHi0qztgE",
        "colab_type": "code",
        "colab": {}
      },
      "source": [
        "%%capture\n",
        "!apt-get install maven -qq"
      ],
      "execution_count": 0,
      "outputs": []
    },
    {
      "cell_type": "code",
      "metadata": {
        "id": "kxc-nVW40K2a",
        "colab_type": "code",
        "colab": {}
      },
      "source": [
        "%%capture\n",
        "!git clone https://github.com/castorini/anserini.git\n",
        "%cd anserini\n",
        "!mvn clean package appassembler:assemble -DskipTests -Dmaven.javadoc.skip=true\n",
        "!cd eval && tar xvfz trec_eval.9.0.4.tar.gz && cd trec_eval.9.0.4 && make"
      ],
      "execution_count": 0,
      "outputs": []
    },
    {
      "cell_type": "code",
      "metadata": {
        "id": "WXKjWcYU0P9G",
        "colab_type": "code",
        "colab": {
          "base_uri": "https://localhost:8080/",
          "height": 68
        },
        "outputId": "a8be272c-64a1-43ac-f3b7-aaed6047f252"
      },
      "source": [
        "!ls target"
      ],
      "execution_count": 3,
      "outputs": [
        {
          "output_type": "stream",
          "text": [
            "anserini-0.7.3-SNAPSHOT-fatjar.jar  classes\t\t    maven-archiver\n",
            "anserini-0.7.3-SNAPSHOT.jar\t    generated-sources\t    maven-status\n",
            "appassembler\t\t\t    generated-test-sources  test-classes\n"
          ],
          "name": "stdout"
        }
      ]
    },
    {
      "cell_type": "code",
      "metadata": {
        "id": "u1ICIjU3xWZa",
        "colab_type": "code",
        "colab": {}
      },
      "source": [
        "%%capture\n",
        "!wget https://archive.apache.org/dist/lucene/solr/8.3.0/solr-8.3.0.tgz\n",
        "!mkdir solrini && tar -zxvf solr*.tgz -C solrini --strip-components=1"
      ],
      "execution_count": 0,
      "outputs": []
    },
    {
      "cell_type": "code",
      "metadata": {
        "id": "-UtxjXsNxrla",
        "colab_type": "code",
        "colab": {
          "base_uri": "https://localhost:8080/",
          "height": 51
        },
        "outputId": "66985140-92f8-4b26-dfc9-f3bf50bd751c"
      },
      "source": [
        "!solrini/bin/solr start -c -m 8G -force"
      ],
      "execution_count": 5,
      "outputs": [
        {
          "output_type": "stream",
          "text": [
            "Waiting up to 180 seconds to see Solr running on port 8983 [|]  \b\b\b\b\b\b [/]  \b\b\b\b\b\b [-]  \b\b\b\b\b\b [\\]  \b\b\b\b\b\b [|]  \b\b\b\b\b\b [/]  \b\b\b\b\b\b [-]  \b\b\b\b\b\b [\\]  \b\b\b\b\b\b [|]  \b\b\b\b\b\b [/]  \b\b\b\b\b\b [-]  \b\b\b\b\b\b [\\]  \b\b\b\b\b\b [|]  \b\b\b\b\b\b [/]  \b\b\b\b\b\b [-]  \b\b\b\b\b\b [\\]  \b\b\b\b\b\b [|]  \b\b\b\b\b\b [/]  \n",
            "Started Solr server on port 8983 (pid=840). Happy searching!\n",
            "\n",
            "\b\b\b\b\b\b    \b\b\b\b"
          ],
          "name": "stdout"
        }
      ]
    },
    {
      "cell_type": "code",
      "metadata": {
        "id": "Q6Zbxt4m0kkW",
        "colab_type": "code",
        "colab": {
          "base_uri": "https://localhost:8080/",
          "height": 51
        },
        "outputId": "22c6a701-cbad-4d0b-c5c5-4a1bf08c416e"
      },
      "source": [
        "!python src/main/python/run_solr_regression.py --ping"
      ],
      "execution_count": 6,
      "outputs": [
        {
          "output_type": "stream",
          "text": [
            "2020-03-03 20:45:32,293 INFO - Pinging Solr instance...\n",
            "2020-03-03 20:45:32,421 INFO - ... appears to alive! :)\n"
          ],
          "name": "stdout"
        }
      ]
    },
    {
      "cell_type": "code",
      "metadata": {
        "id": "CLEilRCU0zRQ",
        "colab_type": "code",
        "colab": {}
      },
      "source": [
        "%%capture\n",
        "!mkdir msmarco-passage\n",
        "!wget https://msmarco.blob.core.windows.net/msmarcoranking/collectionandqueries.tar.gz -P msmarco-passage\n",
        "!tar -xzvf msmarco-passage/collectionandqueries.tar.gz -C msmarco-passage"
      ],
      "execution_count": 0,
      "outputs": []
    },
    {
      "cell_type": "code",
      "metadata": {
        "id": "eK1zXLsG1UYR",
        "colab_type": "code",
        "colab": {}
      },
      "source": [
        "%%capture\n",
        "!python ./src/main/python/msmarco/convert_collection_to_jsonl.py \\\n",
        " --collection_path msmarco-passage/collection.tsv --output_folder msmarco-passage/collection_jsonl"
      ],
      "execution_count": 0,
      "outputs": []
    },
    {
      "cell_type": "code",
      "metadata": {
        "id": "vnoe9ARP3Soj",
        "colab_type": "code",
        "colab": {
          "base_uri": "https://localhost:8080/",
          "height": 34
        },
        "outputId": "8d585bb8-260b-4992-f1c1-1a1a07d816e3"
      },
      "source": [
        "!solrini/bin/solr create -n anserini -c msmarco-passage -force"
      ],
      "execution_count": 9,
      "outputs": [
        {
          "output_type": "stream",
          "text": [
            "Created collection 'msmarco-passage' with 1 shard(s), 1 replica(s) with config-set 'anserini'\n"
          ],
          "name": "stdout"
        }
      ]
    },
    {
      "cell_type": "code",
      "metadata": {
        "id": "-DwSls3x3tqd",
        "colab_type": "code",
        "colab": {
          "base_uri": "https://localhost:8080/",
          "height": 102
        },
        "outputId": "8efba897-e884-47de-9044-0cc846674814"
      },
      "source": [
        "!curl http://localhost:8983/solr/admin/collections?action=LIST"
      ],
      "execution_count": 10,
      "outputs": [
        {
          "output_type": "stream",
          "text": [
            "{\n",
            "  \"responseHeader\":{\n",
            "    \"status\":0,\n",
            "    \"QTime\":0},\n",
            "  \"collections\":[\"msmarco-passage\"]}\n"
          ],
          "name": "stdout"
        }
      ]
    },
    {
      "cell_type": "code",
      "metadata": {
        "id": "pdBosU3H1tDI",
        "colab_type": "code",
        "colab": {
          "base_uri": "https://localhost:8080/",
          "height": 1000
        },
        "outputId": "5916121a-b8e5-4d6b-98c3-4adf5f1a36ff"
      },
      "source": [
        "!sh target/appassembler/bin/IndexCollection -collection JsonCollection -generator JsoupGenerator \\\n",
        "   -threads 8 -input msmarco-passage/collection_jsonl \\\n",
        "   -solr -solr.index msmarco-passage -solr.zkUrl localhost:9983 \\\n",
        "   -storePositions -storeDocvectors -storeTransformedDocs"
      ],
      "execution_count": 11,
      "outputs": [
        {
          "output_type": "stream",
          "text": [
            "2020-03-03 20:54:02,968 INFO  [main] index.IndexCollection (IndexCollection.java:606) - Setting log level to INFO\n",
            "2020-03-03 20:54:02,972 INFO  [main] index.IndexCollection (IndexCollection.java:609) - Starting indexer...\n",
            "2020-03-03 20:54:02,973 INFO  [main] index.IndexCollection (IndexCollection.java:610) - ============ Loading Parameters ============\n",
            "2020-03-03 20:54:02,979 INFO  [main] index.IndexCollection (IndexCollection.java:611) - DocumentCollection path: msmarco-passage/collection_jsonl\n",
            "2020-03-03 20:54:02,979 INFO  [main] index.IndexCollection (IndexCollection.java:612) - CollectionClass: JsonCollection\n",
            "2020-03-03 20:54:02,981 INFO  [main] index.IndexCollection (IndexCollection.java:613) - Generator: JsoupGenerator\n",
            "2020-03-03 20:54:02,982 INFO  [main] index.IndexCollection (IndexCollection.java:614) - Threads: 8\n",
            "2020-03-03 20:54:02,984 INFO  [main] index.IndexCollection (IndexCollection.java:615) - Stemmer: porter\n",
            "2020-03-03 20:54:02,985 INFO  [main] index.IndexCollection (IndexCollection.java:616) - Keep stopwords? false\n",
            "2020-03-03 20:54:02,986 INFO  [main] index.IndexCollection (IndexCollection.java:617) - Store positions? true\n",
            "2020-03-03 20:54:02,987 INFO  [main] index.IndexCollection (IndexCollection.java:618) - Store docvectors? true\n",
            "2020-03-03 20:54:02,988 INFO  [main] index.IndexCollection (IndexCollection.java:619) - Store transformed docs? true\n",
            "2020-03-03 20:54:02,988 INFO  [main] index.IndexCollection (IndexCollection.java:620) - Store raw docs? false\n",
            "2020-03-03 20:54:02,989 INFO  [main] index.IndexCollection (IndexCollection.java:621) - Optimize (merge segments)? false\n",
            "2020-03-03 20:54:02,990 INFO  [main] index.IndexCollection (IndexCollection.java:622) - Whitelist: null\n",
            "2020-03-03 20:54:02,990 INFO  [main] index.IndexCollection (IndexCollection.java:625) - Indexing into Solr...\n",
            "2020-03-03 20:54:02,992 INFO  [main] index.IndexCollection (IndexCollection.java:626) - Solr batch size: 1000\n",
            "2020-03-03 20:54:02,993 INFO  [main] index.IndexCollection (IndexCollection.java:627) - Solr commitWithin: 60\n",
            "2020-03-03 20:54:02,994 INFO  [main] index.IndexCollection (IndexCollection.java:628) - Solr index: msmarco-passage\n",
            "2020-03-03 20:54:02,995 INFO  [main] index.IndexCollection (IndexCollection.java:629) - Solr ZooKeeper URL: localhost:9983\n",
            "2020-03-03 20:54:02,996 INFO  [main] index.IndexCollection (IndexCollection.java:630) - SolrClient pool size: 16\n",
            "2020-03-03 20:54:03,034 INFO  [main] index.IndexCollection (IndexCollection.java:692) - ============ Indexing Collection ============\n",
            "2020-03-03 20:54:03,038 INFO  [main] index.IndexCollection (IndexCollection.java:745) - Thread pool with 8 threads initialized.\n",
            "2020-03-03 20:54:03,039 INFO  [main] index.IndexCollection (IndexCollection.java:747) - Initializing collection in msmarco-passage/collection_jsonl\n",
            "2020-03-03 20:54:03,044 INFO  [main] index.IndexCollection (IndexCollection.java:750) - 9 files found\n",
            "2020-03-03 20:54:03,044 INFO  [main] index.IndexCollection (IndexCollection.java:751) - Starting to index...\n",
            "[pool-2-thread-2] INFO org.apache.zookeeper.ZooKeeper - Client environment:zookeeper.version=3.5.5-390fe37ea45dee01bf87dc1c042b5e3dcce88653, built on 05/03/2019 12:07 GMT\n",
            "[pool-2-thread-2] INFO org.apache.zookeeper.ZooKeeper - Client environment:host.name=27d5b0f579ca\n",
            "[pool-2-thread-2] INFO org.apache.zookeeper.ZooKeeper - Client environment:java.version=11.0.6\n",
            "[pool-2-thread-2] INFO org.apache.zookeeper.ZooKeeper - Client environment:java.vendor=Ubuntu\n",
            "[pool-2-thread-2] INFO org.apache.zookeeper.ZooKeeper - Client environment:java.home=/usr/lib/jvm/java-11-openjdk-amd64\n",
            "[pool-2-thread-2] INFO org.apache.zookeeper.ZooKeeper - Client environment:java.class.path=/content/anserini/target/appassembler/etc:/content/anserini/target/appassembler/repo/httpcore-4.4.10.jar:/content/anserini/target/appassembler/repo/hppc-0.7.1.jar:/content/anserini/target/appassembler/repo/commons-io-2.5.jar:/content/anserini/target/appassembler/repo/commons-compress-1.18.jar:/content/anserini/target/appassembler/repo/mockito-all-1.10.19.jar:/content/anserini/target/appassembler/repo/anserini-0.7.3-SNAPSHOT.jar:/content/anserini/target/appassembler/repo/lucene-spatial-extras-8.0.0.jar:/content/anserini/target/appassembler/repo/args4j-2.32.jar:/content/anserini/target/appassembler/repo/sesame-rio-ntriples-4.1.2.jar:/content/anserini/target/appassembler/repo/httpmime-4.5.6.jar:/content/anserini/target/appassembler/repo/twitter-text-2.0.10.jar:/content/anserini/target/appassembler/repo/jna-4.5.1.jar:/content/anserini/target/appassembler/repo/slf4j-simple-1.7.29.jar:/content/anserini/target/appassembler/repo/rank-eval-client-7.0.0.jar:/content/anserini/target/appassembler/repo/netty-codec-4.1.29.Final.jar:/content/anserini/target/appassembler/repo/parent-join-client-7.0.0.jar:/content/anserini/target/appassembler/repo/elasticsearch-secure-sm-7.0.0.jar:/content/anserini/target/appassembler/repo/jsr305-2.0.1.jar:/content/anserini/target/appassembler/repo/sesame-util-4.1.2.jar:/content/anserini/target/appassembler/repo/lucene-analyzers-common-8.0.0.jar:/content/anserini/target/appassembler/repo/jcl-over-slf4j-1.7.24.jar:/content/anserini/target/appassembler/repo/lucene-misc-8.0.0.jar:/content/anserini/target/appassembler/repo/guava-18.0.jar:/content/anserini/target/appassembler/repo/jetty-alpn-java-client-9.4.19.v20190610.jar:/content/anserini/target/appassembler/repo/zookeeper-3.5.5.jar:/content/anserini/target/appassembler/repo/joda-time-2.10.1.jar:/content/anserini/target/appassembler/repo/commons-logging-1.1.3.jar:/content/anserini/target/appassembler/repo/lucene-memory-8.0.0.jar:/content/anserini/target/appassembler/repo/wdtk-util-0.10.0.jar:/content/anserini/target/appassembler/repo/jackson-annotations-2.10.0.pr1.jar:/content/anserini/target/appassembler/repo/sesame-rio-datatypes-4.1.2.jar:/content/anserini/target/appassembler/repo/netty-transport-native-epoll-4.1.29.Final.jar:/content/anserini/target/appassembler/repo/solr-solrj-8.3.0.jar:/content/anserini/target/appassembler/repo/jackson-core-2.10.0.pr1.jar:/content/anserini/target/appassembler/repo/trec-car-tools-java-13.jar:/content/anserini/target/appassembler/repo/elasticsearch-cli-7.0.0.jar:/content/anserini/target/appassembler/repo/jopt-simple-5.0.2.jar:/content/anserini/target/appassembler/repo/netty-transport-4.1.29.Final.jar:/content/anserini/target/appassembler/repo/netty-transport-native-unix-common-4.1.29.Final.jar:/content/anserini/target/appassembler/repo/annotations-java5-19.0.0.jar:/content/anserini/target/appassembler/repo/jackson-datatype-jdk8-2.10.0.pr1.jar:/content/anserini/target/appassembler/repo/http2-http-client-transport-9.4.19.v20190610.jar:/content/anserini/target/appassembler/repo/commons-math3-3.6.1.jar:/content/anserini/target/appassembler/repo/jackson-dataformat-yaml-2.10.0.pr1.jar:/content/anserini/target/appassembler/repo/lucene-core-8.3.0.jar:/content/anserini/target/appassembler/repo/lucene-suggest-8.0.0.jar:/content/anserini/target/appassembler/repo/wdtk-datamodel-0.10.0.jar:/content/anserini/target/appassembler/repo/jsoup-1.8.3.jar:/content/anserini/target/appassembler/repo/lucene-queries-8.0.0.jar:/content/anserini/target/appassembler/repo/wdtk-storage-0.10.0.jar:/content/anserini/target/appassembler/repo/anserini-fastutil-6.5.6.jar:/content/anserini/target/appassembler/repo/lucene-spatial-8.0.0.jar:/content/anserini/target/appassembler/repo/wikiclean-1.1.jar:/content/anserini/target/appassembler/repo/elasticsearch-x-content-7.0.0.jar:/content/anserini/target/appassembler/repo/http2-client-9.4.19.v20190610.jar:/content/anserini/target/appassembler/repo/jackson-databind-2.10.0.pr1.jar:/content/anserini/target/appassembler/repo/jetty-client-9.4.19.v20190610.jar:/content/anserini/target/appassembler/repo/sesame-model-4.1.2.jar:/content/anserini/target/appassembler/repo/commons-pool2-2.6.0.jar:/content/anserini/target/appassembler/repo/netty-buffer-4.1.29.Final.jar:/content/anserini/target/appassembler/repo/jbibtex-1.0.17.jar:/content/anserini/target/appassembler/repo/jetty-http-9.4.19.v20190610.jar:/content/anserini/target/appassembler/repo/elasticsearch-7.0.0.jar:/content/anserini/target/appassembler/repo/commons-codec-1.11.jar:/content/anserini/target/appassembler/repo/log4j-core-2.12.1.jar:/content/anserini/target/appassembler/repo/compiler-0.9.3.jar:/content/anserini/target/appassembler/repo/slf4j-api-1.7.24.jar:/content/anserini/target/appassembler/repo/wdtk-dumpfiles-0.10.0.jar:/content/anserini/target/appassembler/repo/lucene-highlighter-8.0.0.jar:/content/anserini/target/appassembler/repo/jetty-io-9.4.19.v20190610.jar:/content/anserini/target/appassembler/repo/http2-common-9.4.19.v20190610.jar:/content/anserini/target/appassembler/repo/jackson-dataformat-smile-2.8.11.jar:/content/anserini/target/appassembler/repo/elasticsearch-rest-high-level-client-7.0.0.jar:/content/anserini/target/appassembler/repo/lucene-grouping-8.0.0.jar:/content/anserini/target/appassembler/repo/lucene-backward-codecs-8.0.0.jar:/content/anserini/target/appassembler/repo/jackson-dataformat-cbor-2.8.11.jar:/content/anserini/target/appassembler/repo/snakeyaml-1.24.jar:/content/anserini/target/appassembler/repo/lang-mustache-client-7.0.0.jar:/content/anserini/target/appassembler/repo/httpclient-4.5.6.jar:/content/anserini/target/appassembler/repo/jetty-alpn-client-9.4.19.v20190610.jar:/content/anserini/target/appassembler/repo/log4j-api-2.12.1.jar:/content/anserini/target/appassembler/repo/lucene-sandbox-8.0.0.jar:/content/anserini/target/appassembler/repo/lucene-join-8.0.0.jar:/content/anserini/target/appassembler/repo/elasticsearch-core-7.0.0.jar:/content/anserini/target/appassembler/repo/elasticsearch-geo-7.0.0.jar:/content/anserini/target/appassembler/repo/zookeeper-jute-3.5.5.jar:/content/anserini/target/appassembler/repo/httpasyncclient-4.1.4.jar:/content/anserini/target/appassembler/repo/jetty-util-9.4.19.v20190610.jar:/content/anserini/target/appassembler/repo/cbor-0.7.jar:/content/anserini/target/appassembler/repo/netty-handler-4.1.29.Final.jar:/content/anserini/target/appassembler/repo/lucene-queryparser-8.0.0.jar:/content/anserini/target/appassembler/repo/sesame-rio-languages-4.1.2.jar:/content/anserini/target/appassembler/repo/woodstox-core-asl-4.4.1.jar:/content/anserini/target/appassembler/repo/sesame-rio-api-4.1.2.jar:/content/anserini/target/appassembler/repo/xz-1.5.jar:/content/anserini/target/appassembler/repo/HdrHistogram-2.1.9.jar:/content/anserini/target/appassembler/repo/lucene-spatial3d-8.0.0.jar:/content/anserini/target/appassembler/repo/httpcore-nio-4.4.11.jar:/content/anserini/target/appassembler/repo/aggs-matrix-stats-client-7.0.0.jar:/content/anserini/target/appassembler/repo/ant-1.9.1.jar:/content/anserini/target/appassembler/repo/t-digest-3.2.jar:/content/anserini/target/appassembler/repo/ant-launcher-1.9.1.jar:/content/anserini/target/appassembler/repo/elasticsearch-rest-client-7.0.0.jar:/content/anserini/target/appassembler/repo/stax2-api-3.1.4.jar:/content/anserini/target/appassembler/repo/http2-hpack-9.4.19.v20190610.jar:/content/anserini/target/appassembler/repo/commons-lang3-3.5.jar:/content/anserini/target/appassembler/repo/netty-resolver-4.1.29.Final.jar:/content/anserini/target/appassembler/repo/netty-common-4.1.29.Final.jar\n",
            "[pool-2-thread-2] INFO org.apache.zookeeper.ZooKeeper - Client environment:java.library.path=/usr/local/nvidia/lib:/usr/local/nvidia/lib64:/usr/java/packages/lib:/usr/lib/x86_64-linux-gnu/jni:/lib/x86_64-linux-gnu:/usr/lib/x86_64-linux-gnu:/usr/lib/jni:/lib:/usr/lib\n",
            "[pool-2-thread-2] INFO org.apache.zookeeper.ZooKeeper - Client environment:java.io.tmpdir=/tmp\n",
            "[pool-2-thread-2] INFO org.apache.zookeeper.ZooKeeper - Client environment:java.compiler=<NA>\n",
            "[pool-2-thread-2] INFO org.apache.zookeeper.ZooKeeper - Client environment:os.name=Linux\n",
            "[pool-2-thread-2] INFO org.apache.zookeeper.ZooKeeper - Client environment:os.arch=amd64\n",
            "[pool-2-thread-2] INFO org.apache.zookeeper.ZooKeeper - Client environment:os.version=4.14.137+\n",
            "[pool-2-thread-2] INFO org.apache.zookeeper.ZooKeeper - Client environment:user.name=root\n",
            "[pool-2-thread-2] INFO org.apache.zookeeper.ZooKeeper - Client environment:user.home=/root\n",
            "[pool-2-thread-2] INFO org.apache.zookeeper.ZooKeeper - Client environment:user.dir=/content/anserini\n",
            "[pool-2-thread-2] INFO org.apache.zookeeper.ZooKeeper - Client environment:os.memory.free=594MB\n",
            "[pool-2-thread-2] INFO org.apache.zookeeper.ZooKeeper - Client environment:os.memory.max=31744MB\n",
            "[pool-2-thread-2] INFO org.apache.zookeeper.ZooKeeper - Client environment:os.memory.total=616MB\n",
            "[pool-2-thread-5] INFO org.apache.zookeeper.ZooKeeper - Initiating client connection, connectString=localhost:9983/ sessionTimeout=45000 watcher=org.apache.solr.common.cloud.SolrZkClient$ProcessWatchWithExecutor@1d9d5c7c\n",
            "[pool-2-thread-4] INFO org.apache.zookeeper.ZooKeeper - Initiating client connection, connectString=localhost:9983/ sessionTimeout=45000 watcher=org.apache.solr.common.cloud.SolrZkClient$ProcessWatchWithExecutor@5bb2679a\n",
            "[pool-2-thread-7] INFO org.apache.zookeeper.ZooKeeper - Initiating client connection, connectString=localhost:9983/ sessionTimeout=45000 watcher=org.apache.solr.common.cloud.SolrZkClient$ProcessWatchWithExecutor@459bc0dc\n",
            "[pool-2-thread-1] INFO org.apache.zookeeper.ZooKeeper - Initiating client connection, connectString=localhost:9983/ sessionTimeout=45000 watcher=org.apache.solr.common.cloud.SolrZkClient$ProcessWatchWithExecutor@1aa2218d\n",
            "[pool-2-thread-3] INFO org.apache.zookeeper.ZooKeeper - Initiating client connection, connectString=localhost:9983/ sessionTimeout=45000 watcher=org.apache.solr.common.cloud.SolrZkClient$ProcessWatchWithExecutor@7f6339d8\n",
            "[pool-2-thread-8] INFO org.apache.zookeeper.ZooKeeper - Initiating client connection, connectString=localhost:9983/ sessionTimeout=45000 watcher=org.apache.solr.common.cloud.SolrZkClient$ProcessWatchWithExecutor@67a90cd8\n",
            "[pool-2-thread-6] INFO org.apache.zookeeper.ZooKeeper - Initiating client connection, connectString=localhost:9983/ sessionTimeout=45000 watcher=org.apache.solr.common.cloud.SolrZkClient$ProcessWatchWithExecutor@2b352026\n",
            "[pool-2-thread-2] INFO org.apache.zookeeper.ZooKeeper - Initiating client connection, connectString=localhost:9983/ sessionTimeout=45000 watcher=org.apache.solr.common.cloud.SolrZkClient$ProcessWatchWithExecutor@1399cdcb\n",
            "[pool-2-thread-4] INFO org.apache.zookeeper.common.X509Util - Setting -D jdk.tls.rejectClientInitiatedRenegotiation=true to disable client-initiated TLS renegotiation\n",
            "[pool-2-thread-1] INFO org.apache.zookeeper.ClientCnxnSocket - jute.maxbuffer value is 4194304 Bytes\n",
            "[pool-2-thread-8] INFO org.apache.zookeeper.ClientCnxnSocket - jute.maxbuffer value is 4194304 Bytes\n",
            "[pool-2-thread-3] INFO org.apache.zookeeper.ClientCnxnSocket - jute.maxbuffer value is 4194304 Bytes\n",
            "[pool-2-thread-5] INFO org.apache.zookeeper.ClientCnxnSocket - jute.maxbuffer value is 4194304 Bytes\n",
            "[pool-2-thread-6] INFO org.apache.zookeeper.ClientCnxnSocket - jute.maxbuffer value is 4194304 Bytes\n",
            "[pool-2-thread-4] INFO org.apache.zookeeper.ClientCnxnSocket - jute.maxbuffer value is 4194304 Bytes\n",
            "[pool-2-thread-7] INFO org.apache.zookeeper.ClientCnxnSocket - jute.maxbuffer value is 4194304 Bytes\n",
            "[pool-2-thread-2] INFO org.apache.zookeeper.ClientCnxnSocket - jute.maxbuffer value is 4194304 Bytes\n",
            "[pool-2-thread-8] INFO org.apache.zookeeper.ClientCnxn - zookeeper.request.timeout value is 0. feature enabled=\n",
            "[pool-2-thread-3] INFO org.apache.zookeeper.ClientCnxn - zookeeper.request.timeout value is 0. feature enabled=\n",
            "[pool-2-thread-2] INFO org.apache.zookeeper.ClientCnxn - zookeeper.request.timeout value is 0. feature enabled=\n",
            "[pool-2-thread-5] INFO org.apache.zookeeper.ClientCnxn - zookeeper.request.timeout value is 0. feature enabled=\n",
            "[pool-2-thread-6] INFO org.apache.zookeeper.ClientCnxn - zookeeper.request.timeout value is 0. feature enabled=\n",
            "[pool-2-thread-4] INFO org.apache.zookeeper.ClientCnxn - zookeeper.request.timeout value is 0. feature enabled=\n",
            "[pool-2-thread-7] INFO org.apache.zookeeper.ClientCnxn - zookeeper.request.timeout value is 0. feature enabled=\n",
            "[pool-2-thread-1] INFO org.apache.zookeeper.ClientCnxn - zookeeper.request.timeout value is 0. feature enabled=\n",
            "[pool-2-thread-3] INFO org.apache.solr.common.cloud.ConnectionManager - Waiting for client to connect to ZooKeeper\n",
            "[pool-2-thread-1] INFO org.apache.solr.common.cloud.ConnectionManager - Waiting for client to connect to ZooKeeper\n",
            "[pool-2-thread-2] INFO org.apache.solr.common.cloud.ConnectionManager - Waiting for client to connect to ZooKeeper\n",
            "[pool-2-thread-4] INFO org.apache.solr.common.cloud.ConnectionManager - Waiting for client to connect to ZooKeeper\n",
            "[pool-2-thread-6] INFO org.apache.solr.common.cloud.ConnectionManager - Waiting for client to connect to ZooKeeper\n",
            "[pool-2-thread-5] INFO org.apache.solr.common.cloud.ConnectionManager - Waiting for client to connect to ZooKeeper\n",
            "[pool-2-thread-7] INFO org.apache.solr.common.cloud.ConnectionManager - Waiting for client to connect to ZooKeeper\n",
            "[pool-2-thread-8] INFO org.apache.solr.common.cloud.ConnectionManager - Waiting for client to connect to ZooKeeper\n",
            "[pool-2-thread-2-SendThread(localhost:9983)] INFO org.apache.zookeeper.ClientCnxn - Opening socket connection to server localhost/127.0.0.1:9983. Will not attempt to authenticate using SASL (unknown error)\n",
            "[pool-2-thread-8-SendThread(localhost:9983)] INFO org.apache.zookeeper.ClientCnxn - Opening socket connection to server localhost/127.0.0.1:9983. Will not attempt to authenticate using SASL (unknown error)\n",
            "[pool-2-thread-6-SendThread(localhost:9983)] INFO org.apache.zookeeper.ClientCnxn - Opening socket connection to server localhost/127.0.0.1:9983. Will not attempt to authenticate using SASL (unknown error)\n",
            "[pool-2-thread-4-SendThread(localhost:9983)] INFO org.apache.zookeeper.ClientCnxn - Opening socket connection to server localhost/127.0.0.1:9983. Will not attempt to authenticate using SASL (unknown error)\n",
            "[pool-2-thread-1-SendThread(localhost:9983)] INFO org.apache.zookeeper.ClientCnxn - Opening socket connection to server localhost/127.0.0.1:9983. Will not attempt to authenticate using SASL (unknown error)\n",
            "[pool-2-thread-5-SendThread(localhost:9983)] INFO org.apache.zookeeper.ClientCnxn - Opening socket connection to server localhost/127.0.0.1:9983. Will not attempt to authenticate using SASL (unknown error)\n",
            "[pool-2-thread-7-SendThread(localhost:9983)] INFO org.apache.zookeeper.ClientCnxn - Opening socket connection to server localhost/127.0.0.1:9983. Will not attempt to authenticate using SASL (unknown error)\n",
            "[pool-2-thread-3-SendThread(localhost:9983)] INFO org.apache.zookeeper.ClientCnxn - Opening socket connection to server localhost/127.0.0.1:9983. Will not attempt to authenticate using SASL (unknown error)\n",
            "[pool-2-thread-4-SendThread(localhost:9983)] INFO org.apache.zookeeper.ClientCnxn - Socket connection established, initiating session, client: /127.0.0.1:46130, server: localhost/127.0.0.1:9983\n",
            "[pool-2-thread-5-SendThread(localhost:9983)] INFO org.apache.zookeeper.ClientCnxn - Socket connection established, initiating session, client: /127.0.0.1:46128, server: localhost/127.0.0.1:9983\n",
            "[pool-2-thread-6-SendThread(localhost:9983)] INFO org.apache.zookeeper.ClientCnxn - Socket connection established, initiating session, client: /127.0.0.1:46134, server: localhost/127.0.0.1:9983\n",
            "[pool-2-thread-1-SendThread(localhost:9983)] INFO org.apache.zookeeper.ClientCnxn - Socket connection established, initiating session, client: /127.0.0.1:46136, server: localhost/127.0.0.1:9983\n",
            "[pool-2-thread-7-SendThread(localhost:9983)] INFO org.apache.zookeeper.ClientCnxn - Socket connection established, initiating session, client: /127.0.0.1:46138, server: localhost/127.0.0.1:9983\n",
            "[pool-2-thread-2-SendThread(localhost:9983)] INFO org.apache.zookeeper.ClientCnxn - Socket connection established, initiating session, client: /127.0.0.1:46144, server: localhost/127.0.0.1:9983\n",
            "[pool-2-thread-8-SendThread(localhost:9983)] INFO org.apache.zookeeper.ClientCnxn - Socket connection established, initiating session, client: /127.0.0.1:46142, server: localhost/127.0.0.1:9983\n",
            "[pool-2-thread-3-SendThread(localhost:9983)] INFO org.apache.zookeeper.ClientCnxn - Socket connection established, initiating session, client: /127.0.0.1:46140, server: localhost/127.0.0.1:9983\n",
            "[pool-2-thread-6-SendThread(localhost:9983)] INFO org.apache.zookeeper.ClientCnxn - Session establishment complete on server localhost/127.0.0.1:9983, sessionid = 0x10000043e460002, negotiated timeout = 40000\n",
            "[pool-2-thread-7-SendThread(localhost:9983)] INFO org.apache.zookeeper.ClientCnxn - Session establishment complete on server localhost/127.0.0.1:9983, sessionid = 0x10000043e460006, negotiated timeout = 40000\n",
            "[pool-2-thread-1-SendThread(localhost:9983)] INFO org.apache.zookeeper.ClientCnxn - Session establishment complete on server localhost/127.0.0.1:9983, sessionid = 0x10000043e460003, negotiated timeout = 40000\n",
            "[pool-2-thread-8-SendThread(localhost:9983)] INFO org.apache.zookeeper.ClientCnxn - Session establishment complete on server localhost/127.0.0.1:9983, sessionid = 0x10000043e460009, negotiated timeout = 40000\n",
            "[pool-2-thread-2-SendThread(localhost:9983)] INFO org.apache.zookeeper.ClientCnxn - Session establishment complete on server localhost/127.0.0.1:9983, sessionid = 0x10000043e460007, negotiated timeout = 40000\n",
            "[pool-2-thread-5-SendThread(localhost:9983)] INFO org.apache.zookeeper.ClientCnxn - Session establishment complete on server localhost/127.0.0.1:9983, sessionid = 0x10000043e460004, negotiated timeout = 40000\n",
            "[pool-2-thread-3-SendThread(localhost:9983)] INFO org.apache.zookeeper.ClientCnxn - Session establishment complete on server localhost/127.0.0.1:9983, sessionid = 0x10000043e460005, negotiated timeout = 40000\n",
            "[pool-2-thread-4-SendThread(localhost:9983)] INFO org.apache.zookeeper.ClientCnxn - Session establishment complete on server localhost/127.0.0.1:9983, sessionid = 0x10000043e460008, negotiated timeout = 40000\n",
            "[zkConnectionManagerCallback-30-thread-1] INFO org.apache.solr.common.cloud.ConnectionManager - zkClient has connected\n",
            "[pool-2-thread-5] INFO org.apache.solr.common.cloud.ConnectionManager - Client is connected to ZooKeeper\n",
            "[zkConnectionManagerCallback-26-thread-1] INFO org.apache.solr.common.cloud.ConnectionManager - zkClient has connected\n",
            "[pool-2-thread-6] INFO org.apache.solr.common.cloud.ConnectionManager - Client is connected to ZooKeeper\n",
            "[zkConnectionManagerCallback-34-thread-1] INFO org.apache.solr.common.cloud.ConnectionManager - zkClient has connected\n",
            "[pool-2-thread-7] INFO org.apache.solr.common.cloud.ConnectionManager - Client is connected to ZooKeeper\n",
            "[zkConnectionManagerCallback-40-thread-1] INFO org.apache.solr.common.cloud.ConnectionManager - zkClient has connected\n",
            "[pool-2-thread-8] INFO org.apache.solr.common.cloud.ConnectionManager - Client is connected to ZooKeeper\n",
            "[zkConnectionManagerCallback-32-thread-1] INFO org.apache.solr.common.cloud.ConnectionManager - zkClient has connected\n",
            "[pool-2-thread-4] INFO org.apache.solr.common.cloud.ConnectionManager - Client is connected to ZooKeeper\n",
            "[zkConnectionManagerCallback-28-thread-1] INFO org.apache.solr.common.cloud.ConnectionManager - zkClient has connected\n",
            "[pool-2-thread-3] INFO org.apache.solr.common.cloud.ConnectionManager - Client is connected to ZooKeeper\n",
            "[zkConnectionManagerCallback-36-thread-1] INFO org.apache.solr.common.cloud.ConnectionManager - zkClient has connected\n",
            "[pool-2-thread-2] INFO org.apache.solr.common.cloud.ConnectionManager - Client is connected to ZooKeeper\n",
            "[zkConnectionManagerCallback-38-thread-1] INFO org.apache.solr.common.cloud.ConnectionManager - zkClient has connected\n",
            "[pool-2-thread-1] INFO org.apache.solr.common.cloud.ConnectionManager - Client is connected to ZooKeeper\n",
            "[pool-2-thread-5] INFO org.apache.solr.common.cloud.ZkStateReader - Updated live nodes from ZooKeeper... (0) -> (1)\n",
            "[pool-2-thread-7] INFO org.apache.solr.common.cloud.ZkStateReader - Updated live nodes from ZooKeeper... (0) -> (1)\n",
            "[pool-2-thread-4] INFO org.apache.solr.common.cloud.ZkStateReader - Updated live nodes from ZooKeeper... (0) -> (1)\n",
            "[pool-2-thread-8] INFO org.apache.solr.common.cloud.ZkStateReader - Updated live nodes from ZooKeeper... (0) -> (1)\n",
            "[pool-2-thread-3] INFO org.apache.solr.common.cloud.ZkStateReader - Updated live nodes from ZooKeeper... (0) -> (1)\n",
            "[pool-2-thread-6] INFO org.apache.solr.common.cloud.ZkStateReader - Updated live nodes from ZooKeeper... (0) -> (1)\n",
            "[pool-2-thread-1] INFO org.apache.solr.common.cloud.ZkStateReader - Updated live nodes from ZooKeeper... (0) -> (1)\n",
            "[pool-2-thread-2] INFO org.apache.solr.common.cloud.ZkStateReader - Updated live nodes from ZooKeeper... (0) -> (1)\n",
            "[pool-2-thread-1] INFO org.apache.solr.client.solrj.impl.ZkClientClusterStateProvider - Cluster at localhost:9983/ ready\n",
            "[pool-2-thread-2] INFO org.apache.solr.client.solrj.impl.ZkClientClusterStateProvider - Cluster at localhost:9983/ ready\n",
            "[pool-2-thread-4] INFO org.apache.solr.client.solrj.impl.ZkClientClusterStateProvider - Cluster at localhost:9983/ ready\n",
            "[pool-2-thread-8] INFO org.apache.solr.client.solrj.impl.ZkClientClusterStateProvider - Cluster at localhost:9983/ ready\n",
            "[pool-2-thread-6] INFO org.apache.solr.client.solrj.impl.ZkClientClusterStateProvider - Cluster at localhost:9983/ ready\n",
            "[pool-2-thread-7] INFO org.apache.solr.client.solrj.impl.ZkClientClusterStateProvider - Cluster at localhost:9983/ ready\n",
            "[pool-2-thread-5] INFO org.apache.solr.client.solrj.impl.ZkClientClusterStateProvider - Cluster at localhost:9983/ ready\n",
            "[pool-2-thread-3] INFO org.apache.solr.client.solrj.impl.ZkClientClusterStateProvider - Cluster at localhost:9983/ ready\n",
            "2020-03-03 20:55:03,052 INFO  [main] index.IndexCollection (IndexCollection.java:771) - 0.00% of files completed, 0 documents indexed\n",
            "2020-03-03 20:56:03,053 INFO  [main] index.IndexCollection (IndexCollection.java:771) - 0.00% of files completed, 0 documents indexed\n",
            "2020-03-03 20:57:03,054 INFO  [main] index.IndexCollection (IndexCollection.java:771) - 0.00% of files completed, 0 documents indexed\n",
            "2020-03-03 20:58:03,055 INFO  [main] index.IndexCollection (IndexCollection.java:771) - 0.00% of files completed, 0 documents indexed\n",
            "2020-03-03 20:59:03,056 INFO  [main] index.IndexCollection (IndexCollection.java:771) - 0.00% of files completed, 0 documents indexed\n",
            "2020-03-03 21:00:03,057 INFO  [main] index.IndexCollection (IndexCollection.java:771) - 0.00% of files completed, 0 documents indexed\n",
            "2020-03-03 21:01:03,059 INFO  [main] index.IndexCollection (IndexCollection.java:771) - 0.00% of files completed, 0 documents indexed\n",
            "2020-03-03 21:02:03,061 INFO  [main] index.IndexCollection (IndexCollection.java:771) - 0.00% of files completed, 0 documents indexed\n",
            "2020-03-03 21:03:03,061 INFO  [main] index.IndexCollection (IndexCollection.java:771) - 0.00% of files completed, 0 documents indexed\n",
            "2020-03-03 21:04:03,063 INFO  [main] index.IndexCollection (IndexCollection.java:771) - 0.00% of files completed, 0 documents indexed\n",
            "2020-03-03 21:05:03,064 INFO  [main] index.IndexCollection (IndexCollection.java:771) - 0.00% of files completed, 0 documents indexed\n",
            "2020-03-03 21:06:03,065 INFO  [main] index.IndexCollection (IndexCollection.java:771) - 0.00% of files completed, 0 documents indexed\n",
            "2020-03-03 21:07:03,066 INFO  [main] index.IndexCollection (IndexCollection.java:771) - 0.00% of files completed, 0 documents indexed\n",
            "2020-03-03 21:08:03,067 INFO  [main] index.IndexCollection (IndexCollection.java:771) - 0.00% of files completed, 0 documents indexed\n",
            "2020-03-03 21:09:03,067 INFO  [main] index.IndexCollection (IndexCollection.java:771) - 0.00% of files completed, 0 documents indexed\n",
            "2020-03-03 21:10:03,068 INFO  [main] index.IndexCollection (IndexCollection.java:771) - 11.11% of files completed, 841,816 documents indexed\n",
            "2020-03-03 21:11:03,069 INFO  [main] index.IndexCollection (IndexCollection.java:771) - 11.11% of files completed, 841,816 documents indexed\n",
            "2020-03-03 21:12:03,071 INFO  [main] index.IndexCollection (IndexCollection.java:771) - 33.33% of files completed, 2,841,798 documents indexed\n",
            "2020-03-03 21:13:03,073 INFO  [main] index.IndexCollection (IndexCollection.java:771) - 88.89% of files completed, 7,841,775 documents indexed\n",
            "2020-03-03 21:14:03,074 INFO  [main] index.IndexCollection (IndexCollection.java:771) - 88.89% of files completed, 7,841,775 documents indexed\n",
            "[main] INFO org.apache.zookeeper.ZooKeeper - Session: 0x10000043e460009 closed\n",
            "[pool-2-thread-8-EventThread] INFO org.apache.zookeeper.ClientCnxn - EventThread shut down for session: 0x10000043e460009\n",
            "[main] INFO org.apache.zookeeper.ZooKeeper - Session: 0x10000043e460008 closed\n",
            "[pool-2-thread-4-EventThread] INFO org.apache.zookeeper.ClientCnxn - EventThread shut down for session: 0x10000043e460008\n",
            "[main] INFO org.apache.zookeeper.ZooKeeper - Session: 0x10000043e460006 closed\n",
            "[pool-2-thread-7-EventThread] INFO org.apache.zookeeper.ClientCnxn - EventThread shut down for session: 0x10000043e460006\n",
            "[main] INFO org.apache.zookeeper.ZooKeeper - Session: 0x10000043e460005 closed\n",
            "[pool-2-thread-3-EventThread] INFO org.apache.zookeeper.ClientCnxn - EventThread shut down for session: 0x10000043e460005\n",
            "[main] INFO org.apache.zookeeper.ZooKeeper - Session: 0x10000043e460004 closed\n",
            "[pool-2-thread-5-EventThread] INFO org.apache.zookeeper.ClientCnxn - EventThread shut down for session: 0x10000043e460004\n",
            "[main] INFO org.apache.zookeeper.ZooKeeper - Session: 0x10000043e460003 closed\n",
            "[pool-2-thread-1-EventThread] INFO org.apache.zookeeper.ClientCnxn - EventThread shut down for session: 0x10000043e460003\n",
            "[main] INFO org.apache.zookeeper.ZooKeeper - Session: 0x10000043e460007 closed\n",
            "[pool-2-thread-2-EventThread] INFO org.apache.zookeeper.ClientCnxn - EventThread shut down for session: 0x10000043e460007\n",
            "[main] INFO org.apache.zookeeper.ZooKeeper - Session: 0x10000043e460002 closed\n",
            "[pool-2-thread-6-EventThread] INFO org.apache.zookeeper.ClientCnxn - EventThread shut down for session: 0x10000043e460002\n",
            "2020-03-03 21:14:48,617 INFO  [main] index.IndexCollection (IndexCollection.java:835) - Indexing Complete! 8,841,772 documents indexed\n",
            "2020-03-03 21:14:48,618 INFO  [main] index.IndexCollection (IndexCollection.java:836) - ============ Final Counter Values ============\n",
            "2020-03-03 21:14:48,618 INFO  [main] index.IndexCollection (IndexCollection.java:837) - indexed:        8,841,772\n",
            "2020-03-03 21:14:48,618 INFO  [main] index.IndexCollection (IndexCollection.java:838) - unindexable:            0\n",
            "2020-03-03 21:14:48,619 INFO  [main] index.IndexCollection (IndexCollection.java:839) - empty:                 51\n",
            "2020-03-03 21:14:48,619 INFO  [main] index.IndexCollection (IndexCollection.java:840) - skipped:                0\n",
            "2020-03-03 21:14:48,620 INFO  [main] index.IndexCollection (IndexCollection.java:841) - errors:                 0\n",
            "2020-03-03 21:14:48,658 INFO  [main] index.IndexCollection (IndexCollection.java:844) - Total 8,841,772 documents indexed in 00:20:45\n"
          ],
          "name": "stdout"
        }
      ]
    },
    {
      "cell_type": "code",
      "metadata": {
        "id": "XzXJFB6z34Rp",
        "colab_type": "code",
        "colab": {}
      },
      "source": [
        "%%capture\n",
        "!wget https://bin.equinox.io/c/4VmDzA7iaHb/ngrok-stable-linux-amd64.zip\n",
        "!unzip ngrok-stable-linux-amd64.zip"
      ],
      "execution_count": 0,
      "outputs": []
    },
    {
      "cell_type": "code",
      "metadata": {
        "id": "ViU9GQEPCMZb",
        "colab_type": "code",
        "colab": {}
      },
      "source": [
        "get_ipython().system_raw('./ngrok http 8983 &')"
      ],
      "execution_count": 0,
      "outputs": []
    },
    {
      "cell_type": "code",
      "metadata": {
        "id": "Hyb7LL_jCVBJ",
        "colab_type": "code",
        "colab": {
          "base_uri": "https://localhost:8080/",
          "height": 34
        },
        "outputId": "8c73ec6a-a431-45ce-aa29-24aa5a768c96"
      },
      "source": [
        "!curl -s http://localhost:4040/api/tunnels | python3 -c \\\n",
        "    \"import sys, json; print(json.load(sys.stdin)['tunnels'][0]['public_url'])\""
      ],
      "execution_count": 14,
      "outputs": [
        {
          "output_type": "stream",
          "text": [
            "http://a0cc3cef.ngrok.io\n"
          ],
          "name": "stdout"
        }
      ]
    }
  ]
}